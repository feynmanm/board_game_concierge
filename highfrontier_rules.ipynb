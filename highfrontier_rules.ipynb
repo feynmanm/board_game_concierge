{
  "nbformat": 4,
  "nbformat_minor": 0,
  "metadata": {
    "accelerator": "GPU",
    "colab": {
      "name": "highfrontier_rules.ipynb",
      "provenance": [],
      "collapsed_sections": [],
      "mount_file_id": "1fy94ECV6cwLRZuqlASEhs2DJ7mOfILQr",
      "authorship_tag": "ABX9TyOJtcmTHMBz+ZvScwnaAOCf"
    },
    "kernelspec": {
      "display_name": "Python 3",
      "name": "python3"
    },
    "language_info": {
      "name": "python"
    },
    "widgets": {
      "application/vnd.jupyter.widget-state+json": {
        "9352f5f8c96d4765953fbd4222ae1581": {
          "model_module": "@jupyter-widgets/controls",
          "model_name": "HBoxModel",
          "model_module_version": "1.5.0",
          "state": {
            "_view_name": "HBoxView",
            "_dom_classes": [],
            "_model_name": "HBoxModel",
            "_view_module": "@jupyter-widgets/controls",
            "_model_module_version": "1.5.0",
            "_view_count": null,
            "_view_module_version": "1.5.0",
            "box_style": "",
            "layout": "IPY_MODEL_519f40d3dc1540b5a9f08e7ddaadea7b",
            "_model_module": "@jupyter-widgets/controls",
            "children": [
              "IPY_MODEL_41a40e67d5f847a4ad3c1025a9a278a1",
              "IPY_MODEL_1c325bff13244761ae7015d84827ac8a",
              "IPY_MODEL_9857cb2c99ca4374916190573f7aa60b"
            ]
          }
        },
        "519f40d3dc1540b5a9f08e7ddaadea7b": {
          "model_module": "@jupyter-widgets/base",
          "model_name": "LayoutModel",
          "model_module_version": "1.2.0",
          "state": {
            "_view_name": "LayoutView",
            "grid_template_rows": null,
            "right": null,
            "justify_content": null,
            "_view_module": "@jupyter-widgets/base",
            "overflow": null,
            "_model_module_version": "1.2.0",
            "_view_count": null,
            "flex_flow": null,
            "width": null,
            "min_width": null,
            "border": null,
            "align_items": null,
            "bottom": null,
            "_model_module": "@jupyter-widgets/base",
            "top": null,
            "grid_column": null,
            "overflow_y": null,
            "overflow_x": null,
            "grid_auto_flow": null,
            "grid_area": null,
            "grid_template_columns": null,
            "flex": null,
            "_model_name": "LayoutModel",
            "justify_items": null,
            "grid_row": null,
            "max_height": null,
            "align_content": null,
            "visibility": null,
            "align_self": null,
            "height": null,
            "min_height": null,
            "padding": null,
            "grid_auto_rows": null,
            "grid_gap": null,
            "max_width": null,
            "order": null,
            "_view_module_version": "1.2.0",
            "grid_template_areas": null,
            "object_position": null,
            "object_fit": null,
            "grid_auto_columns": null,
            "margin": null,
            "display": null,
            "left": null
          }
        },
        "41a40e67d5f847a4ad3c1025a9a278a1": {
          "model_module": "@jupyter-widgets/controls",
          "model_name": "HTMLModel",
          "model_module_version": "1.5.0",
          "state": {
            "_view_name": "HTMLView",
            "style": "IPY_MODEL_7e69b5f46ac145fabe5ea8b5ccc6812a",
            "_dom_classes": [],
            "description": "",
            "_model_name": "HTMLModel",
            "placeholder": "​",
            "_view_module": "@jupyter-widgets/controls",
            "_model_module_version": "1.5.0",
            "value": "Downloading: ",
            "_view_count": null,
            "_view_module_version": "1.5.0",
            "description_tooltip": null,
            "_model_module": "@jupyter-widgets/controls",
            "layout": "IPY_MODEL_517cb8eab9e04bbb905716c2bdadb1b4"
          }
        },
        "1c325bff13244761ae7015d84827ac8a": {
          "model_module": "@jupyter-widgets/controls",
          "model_name": "FloatProgressModel",
          "model_module_version": "1.5.0",
          "state": {
            "_view_name": "ProgressView",
            "style": "IPY_MODEL_6731b7256d6d4f2087ef153a3dd0eb25",
            "_dom_classes": [],
            "description": "",
            "_model_name": "FloatProgressModel",
            "bar_style": "success",
            "max": 1967,
            "_view_module": "@jupyter-widgets/controls",
            "_model_module_version": "1.5.0",
            "value": 1967,
            "_view_count": null,
            "_view_module_version": "1.5.0",
            "orientation": "horizontal",
            "min": 0,
            "description_tooltip": null,
            "_model_module": "@jupyter-widgets/controls",
            "layout": "IPY_MODEL_283f814d0d294a4b84503511dac53d54"
          }
        },
        "9857cb2c99ca4374916190573f7aa60b": {
          "model_module": "@jupyter-widgets/controls",
          "model_name": "HTMLModel",
          "model_module_version": "1.5.0",
          "state": {
            "_view_name": "HTMLView",
            "style": "IPY_MODEL_8b295d18a894474ba5a9b50dd6edfadb",
            "_dom_classes": [],
            "description": "",
            "_model_name": "HTMLModel",
            "placeholder": "​",
            "_view_module": "@jupyter-widgets/controls",
            "_model_module_version": "1.5.0",
            "value": " 5.27k/? [00:00&lt;00:00, 146kB/s]",
            "_view_count": null,
            "_view_module_version": "1.5.0",
            "description_tooltip": null,
            "_model_module": "@jupyter-widgets/controls",
            "layout": "IPY_MODEL_bde4764bde5342ad8072b247160f886b"
          }
        },
        "7e69b5f46ac145fabe5ea8b5ccc6812a": {
          "model_module": "@jupyter-widgets/controls",
          "model_name": "DescriptionStyleModel",
          "model_module_version": "1.5.0",
          "state": {
            "_view_name": "StyleView",
            "_model_name": "DescriptionStyleModel",
            "description_width": "",
            "_view_module": "@jupyter-widgets/base",
            "_model_module_version": "1.5.0",
            "_view_count": null,
            "_view_module_version": "1.2.0",
            "_model_module": "@jupyter-widgets/controls"
          }
        },
        "517cb8eab9e04bbb905716c2bdadb1b4": {
          "model_module": "@jupyter-widgets/base",
          "model_name": "LayoutModel",
          "model_module_version": "1.2.0",
          "state": {
            "_view_name": "LayoutView",
            "grid_template_rows": null,
            "right": null,
            "justify_content": null,
            "_view_module": "@jupyter-widgets/base",
            "overflow": null,
            "_model_module_version": "1.2.0",
            "_view_count": null,
            "flex_flow": null,
            "width": null,
            "min_width": null,
            "border": null,
            "align_items": null,
            "bottom": null,
            "_model_module": "@jupyter-widgets/base",
            "top": null,
            "grid_column": null,
            "overflow_y": null,
            "overflow_x": null,
            "grid_auto_flow": null,
            "grid_area": null,
            "grid_template_columns": null,
            "flex": null,
            "_model_name": "LayoutModel",
            "justify_items": null,
            "grid_row": null,
            "max_height": null,
            "align_content": null,
            "visibility": null,
            "align_self": null,
            "height": null,
            "min_height": null,
            "padding": null,
            "grid_auto_rows": null,
            "grid_gap": null,
            "max_width": null,
            "order": null,
            "_view_module_version": "1.2.0",
            "grid_template_areas": null,
            "object_position": null,
            "object_fit": null,
            "grid_auto_columns": null,
            "margin": null,
            "display": null,
            "left": null
          }
        },
        "6731b7256d6d4f2087ef153a3dd0eb25": {
          "model_module": "@jupyter-widgets/controls",
          "model_name": "ProgressStyleModel",
          "model_module_version": "1.5.0",
          "state": {
            "_view_name": "StyleView",
            "_model_name": "ProgressStyleModel",
            "description_width": "",
            "_view_module": "@jupyter-widgets/base",
            "_model_module_version": "1.5.0",
            "_view_count": null,
            "_view_module_version": "1.2.0",
            "bar_color": null,
            "_model_module": "@jupyter-widgets/controls"
          }
        },
        "283f814d0d294a4b84503511dac53d54": {
          "model_module": "@jupyter-widgets/base",
          "model_name": "LayoutModel",
          "model_module_version": "1.2.0",
          "state": {
            "_view_name": "LayoutView",
            "grid_template_rows": null,
            "right": null,
            "justify_content": null,
            "_view_module": "@jupyter-widgets/base",
            "overflow": null,
            "_model_module_version": "1.2.0",
            "_view_count": null,
            "flex_flow": null,
            "width": null,
            "min_width": null,
            "border": null,
            "align_items": null,
            "bottom": null,
            "_model_module": "@jupyter-widgets/base",
            "top": null,
            "grid_column": null,
            "overflow_y": null,
            "overflow_x": null,
            "grid_auto_flow": null,
            "grid_area": null,
            "grid_template_columns": null,
            "flex": null,
            "_model_name": "LayoutModel",
            "justify_items": null,
            "grid_row": null,
            "max_height": null,
            "align_content": null,
            "visibility": null,
            "align_self": null,
            "height": null,
            "min_height": null,
            "padding": null,
            "grid_auto_rows": null,
            "grid_gap": null,
            "max_width": null,
            "order": null,
            "_view_module_version": "1.2.0",
            "grid_template_areas": null,
            "object_position": null,
            "object_fit": null,
            "grid_auto_columns": null,
            "margin": null,
            "display": null,
            "left": null
          }
        },
        "8b295d18a894474ba5a9b50dd6edfadb": {
          "model_module": "@jupyter-widgets/controls",
          "model_name": "DescriptionStyleModel",
          "model_module_version": "1.5.0",
          "state": {
            "_view_name": "StyleView",
            "_model_name": "DescriptionStyleModel",
            "description_width": "",
            "_view_module": "@jupyter-widgets/base",
            "_model_module_version": "1.5.0",
            "_view_count": null,
            "_view_module_version": "1.2.0",
            "_model_module": "@jupyter-widgets/controls"
          }
        },
        "bde4764bde5342ad8072b247160f886b": {
          "model_module": "@jupyter-widgets/base",
          "model_name": "LayoutModel",
          "model_module_version": "1.2.0",
          "state": {
            "_view_name": "LayoutView",
            "grid_template_rows": null,
            "right": null,
            "justify_content": null,
            "_view_module": "@jupyter-widgets/base",
            "overflow": null,
            "_model_module_version": "1.2.0",
            "_view_count": null,
            "flex_flow": null,
            "width": null,
            "min_width": null,
            "border": null,
            "align_items": null,
            "bottom": null,
            "_model_module": "@jupyter-widgets/base",
            "top": null,
            "grid_column": null,
            "overflow_y": null,
            "overflow_x": null,
            "grid_auto_flow": null,
            "grid_area": null,
            "grid_template_columns": null,
            "flex": null,
            "_model_name": "LayoutModel",
            "justify_items": null,
            "grid_row": null,
            "max_height": null,
            "align_content": null,
            "visibility": null,
            "align_self": null,
            "height": null,
            "min_height": null,
            "padding": null,
            "grid_auto_rows": null,
            "grid_gap": null,
            "max_width": null,
            "order": null,
            "_view_module_version": "1.2.0",
            "grid_template_areas": null,
            "object_position": null,
            "object_fit": null,
            "grid_auto_columns": null,
            "margin": null,
            "display": null,
            "left": null
          }
        },
        "6c01f1120f7742cfb2de52706e9b222c": {
          "model_module": "@jupyter-widgets/controls",
          "model_name": "HBoxModel",
          "model_module_version": "1.5.0",
          "state": {
            "_view_name": "HBoxView",
            "_dom_classes": [],
            "_model_name": "HBoxModel",
            "_view_module": "@jupyter-widgets/controls",
            "_model_module_version": "1.5.0",
            "_view_count": null,
            "_view_module_version": "1.5.0",
            "box_style": "",
            "layout": "IPY_MODEL_3ce70cab7c10474d989be7b49c65b430",
            "_model_module": "@jupyter-widgets/controls",
            "children": [
              "IPY_MODEL_ffec9eb26f74459a8f452eb592a3c7a3",
              "IPY_MODEL_f6d13769b85349d0b34af8393b6bcc9d",
              "IPY_MODEL_f8b57751fc7b41fcb1cbc74192ccbbdc"
            ]
          }
        },
        "3ce70cab7c10474d989be7b49c65b430": {
          "model_module": "@jupyter-widgets/base",
          "model_name": "LayoutModel",
          "model_module_version": "1.2.0",
          "state": {
            "_view_name": "LayoutView",
            "grid_template_rows": null,
            "right": null,
            "justify_content": null,
            "_view_module": "@jupyter-widgets/base",
            "overflow": null,
            "_model_module_version": "1.2.0",
            "_view_count": null,
            "flex_flow": null,
            "width": null,
            "min_width": null,
            "border": null,
            "align_items": null,
            "bottom": null,
            "_model_module": "@jupyter-widgets/base",
            "top": null,
            "grid_column": null,
            "overflow_y": null,
            "overflow_x": null,
            "grid_auto_flow": null,
            "grid_area": null,
            "grid_template_columns": null,
            "flex": null,
            "_model_name": "LayoutModel",
            "justify_items": null,
            "grid_row": null,
            "max_height": null,
            "align_content": null,
            "visibility": null,
            "align_self": null,
            "height": null,
            "min_height": null,
            "padding": null,
            "grid_auto_rows": null,
            "grid_gap": null,
            "max_width": null,
            "order": null,
            "_view_module_version": "1.2.0",
            "grid_template_areas": null,
            "object_position": null,
            "object_fit": null,
            "grid_auto_columns": null,
            "margin": null,
            "display": null,
            "left": null
          }
        },
        "ffec9eb26f74459a8f452eb592a3c7a3": {
          "model_module": "@jupyter-widgets/controls",
          "model_name": "HTMLModel",
          "model_module_version": "1.5.0",
          "state": {
            "_view_name": "HTMLView",
            "style": "IPY_MODEL_cdead5164a344fd683e76c8d08a51a5d",
            "_dom_classes": [],
            "description": "",
            "_model_name": "HTMLModel",
            "placeholder": "​",
            "_view_module": "@jupyter-widgets/controls",
            "_model_module_version": "1.5.0",
            "value": "Downloading: ",
            "_view_count": null,
            "_view_module_version": "1.5.0",
            "description_tooltip": null,
            "_model_module": "@jupyter-widgets/controls",
            "layout": "IPY_MODEL_38f76eaed5c84134b4876f3a5834ea59"
          }
        },
        "f6d13769b85349d0b34af8393b6bcc9d": {
          "model_module": "@jupyter-widgets/controls",
          "model_name": "FloatProgressModel",
          "model_module_version": "1.5.0",
          "state": {
            "_view_name": "ProgressView",
            "style": "IPY_MODEL_c9b9bd094fef40f2a2e573fe7ba7d4da",
            "_dom_classes": [],
            "description": "",
            "_model_name": "FloatProgressModel",
            "bar_style": "success",
            "max": 1021,
            "_view_module": "@jupyter-widgets/controls",
            "_model_module_version": "1.5.0",
            "value": 1021,
            "_view_count": null,
            "_view_module_version": "1.5.0",
            "orientation": "horizontal",
            "min": 0,
            "description_tooltip": null,
            "_model_module": "@jupyter-widgets/controls",
            "layout": "IPY_MODEL_484414c50815458099c2e922f79106ad"
          }
        },
        "f8b57751fc7b41fcb1cbc74192ccbbdc": {
          "model_module": "@jupyter-widgets/controls",
          "model_name": "HTMLModel",
          "model_module_version": "1.5.0",
          "state": {
            "_view_name": "HTMLView",
            "style": "IPY_MODEL_aef559ae50ed402c9b6c31e4671c9f33",
            "_dom_classes": [],
            "description": "",
            "_model_name": "HTMLModel",
            "placeholder": "​",
            "_view_module": "@jupyter-widgets/controls",
            "_model_module_version": "1.5.0",
            "value": " 2.36k/? [00:00&lt;00:00, 66.7kB/s]",
            "_view_count": null,
            "_view_module_version": "1.5.0",
            "description_tooltip": null,
            "_model_module": "@jupyter-widgets/controls",
            "layout": "IPY_MODEL_7a2d396e5b0042368a6629c036dc3738"
          }
        },
        "cdead5164a344fd683e76c8d08a51a5d": {
          "model_module": "@jupyter-widgets/controls",
          "model_name": "DescriptionStyleModel",
          "model_module_version": "1.5.0",
          "state": {
            "_view_name": "StyleView",
            "_model_name": "DescriptionStyleModel",
            "description_width": "",
            "_view_module": "@jupyter-widgets/base",
            "_model_module_version": "1.5.0",
            "_view_count": null,
            "_view_module_version": "1.2.0",
            "_model_module": "@jupyter-widgets/controls"
          }
        },
        "38f76eaed5c84134b4876f3a5834ea59": {
          "model_module": "@jupyter-widgets/base",
          "model_name": "LayoutModel",
          "model_module_version": "1.2.0",
          "state": {
            "_view_name": "LayoutView",
            "grid_template_rows": null,
            "right": null,
            "justify_content": null,
            "_view_module": "@jupyter-widgets/base",
            "overflow": null,
            "_model_module_version": "1.2.0",
            "_view_count": null,
            "flex_flow": null,
            "width": null,
            "min_width": null,
            "border": null,
            "align_items": null,
            "bottom": null,
            "_model_module": "@jupyter-widgets/base",
            "top": null,
            "grid_column": null,
            "overflow_y": null,
            "overflow_x": null,
            "grid_auto_flow": null,
            "grid_area": null,
            "grid_template_columns": null,
            "flex": null,
            "_model_name": "LayoutModel",
            "justify_items": null,
            "grid_row": null,
            "max_height": null,
            "align_content": null,
            "visibility": null,
            "align_self": null,
            "height": null,
            "min_height": null,
            "padding": null,
            "grid_auto_rows": null,
            "grid_gap": null,
            "max_width": null,
            "order": null,
            "_view_module_version": "1.2.0",
            "grid_template_areas": null,
            "object_position": null,
            "object_fit": null,
            "grid_auto_columns": null,
            "margin": null,
            "display": null,
            "left": null
          }
        },
        "c9b9bd094fef40f2a2e573fe7ba7d4da": {
          "model_module": "@jupyter-widgets/controls",
          "model_name": "ProgressStyleModel",
          "model_module_version": "1.5.0",
          "state": {
            "_view_name": "StyleView",
            "_model_name": "ProgressStyleModel",
            "description_width": "",
            "_view_module": "@jupyter-widgets/base",
            "_model_module_version": "1.5.0",
            "_view_count": null,
            "_view_module_version": "1.2.0",
            "bar_color": null,
            "_model_module": "@jupyter-widgets/controls"
          }
        },
        "484414c50815458099c2e922f79106ad": {
          "model_module": "@jupyter-widgets/base",
          "model_name": "LayoutModel",
          "model_module_version": "1.2.0",
          "state": {
            "_view_name": "LayoutView",
            "grid_template_rows": null,
            "right": null,
            "justify_content": null,
            "_view_module": "@jupyter-widgets/base",
            "overflow": null,
            "_model_module_version": "1.2.0",
            "_view_count": null,
            "flex_flow": null,
            "width": null,
            "min_width": null,
            "border": null,
            "align_items": null,
            "bottom": null,
            "_model_module": "@jupyter-widgets/base",
            "top": null,
            "grid_column": null,
            "overflow_y": null,
            "overflow_x": null,
            "grid_auto_flow": null,
            "grid_area": null,
            "grid_template_columns": null,
            "flex": null,
            "_model_name": "LayoutModel",
            "justify_items": null,
            "grid_row": null,
            "max_height": null,
            "align_content": null,
            "visibility": null,
            "align_self": null,
            "height": null,
            "min_height": null,
            "padding": null,
            "grid_auto_rows": null,
            "grid_gap": null,
            "max_width": null,
            "order": null,
            "_view_module_version": "1.2.0",
            "grid_template_areas": null,
            "object_position": null,
            "object_fit": null,
            "grid_auto_columns": null,
            "margin": null,
            "display": null,
            "left": null
          }
        },
        "aef559ae50ed402c9b6c31e4671c9f33": {
          "model_module": "@jupyter-widgets/controls",
          "model_name": "DescriptionStyleModel",
          "model_module_version": "1.5.0",
          "state": {
            "_view_name": "StyleView",
            "_model_name": "DescriptionStyleModel",
            "description_width": "",
            "_view_module": "@jupyter-widgets/base",
            "_model_module_version": "1.5.0",
            "_view_count": null,
            "_view_module_version": "1.2.0",
            "_model_module": "@jupyter-widgets/controls"
          }
        },
        "7a2d396e5b0042368a6629c036dc3738": {
          "model_module": "@jupyter-widgets/base",
          "model_name": "LayoutModel",
          "model_module_version": "1.2.0",
          "state": {
            "_view_name": "LayoutView",
            "grid_template_rows": null,
            "right": null,
            "justify_content": null,
            "_view_module": "@jupyter-widgets/base",
            "overflow": null,
            "_model_module_version": "1.2.0",
            "_view_count": null,
            "flex_flow": null,
            "width": null,
            "min_width": null,
            "border": null,
            "align_items": null,
            "bottom": null,
            "_model_module": "@jupyter-widgets/base",
            "top": null,
            "grid_column": null,
            "overflow_y": null,
            "overflow_x": null,
            "grid_auto_flow": null,
            "grid_area": null,
            "grid_template_columns": null,
            "flex": null,
            "_model_name": "LayoutModel",
            "justify_items": null,
            "grid_row": null,
            "max_height": null,
            "align_content": null,
            "visibility": null,
            "align_self": null,
            "height": null,
            "min_height": null,
            "padding": null,
            "grid_auto_rows": null,
            "grid_gap": null,
            "max_width": null,
            "order": null,
            "_view_module_version": "1.2.0",
            "grid_template_areas": null,
            "object_position": null,
            "object_fit": null,
            "grid_auto_columns": null,
            "margin": null,
            "display": null,
            "left": null
          }
        },
        "2f3dbf4b559549eabc356b5b113bb68c": {
          "model_module": "@jupyter-widgets/controls",
          "model_name": "HBoxModel",
          "model_module_version": "1.5.0",
          "state": {
            "_view_name": "HBoxView",
            "_dom_classes": [],
            "_model_name": "HBoxModel",
            "_view_module": "@jupyter-widgets/controls",
            "_model_module_version": "1.5.0",
            "_view_count": null,
            "_view_module_version": "1.5.0",
            "box_style": "",
            "layout": "IPY_MODEL_6f9e9ee3a7684ce6a7da14bfd2725a41",
            "_model_module": "@jupyter-widgets/controls",
            "children": [
              "IPY_MODEL_b615037ac4e94fc8b08c55f540a3bcc3",
              "IPY_MODEL_d8579effe2c54e3ba9c178900a6faabd",
              "IPY_MODEL_fd8c93ea335641b3883ccb0c8e860650"
            ]
          }
        },
        "6f9e9ee3a7684ce6a7da14bfd2725a41": {
          "model_module": "@jupyter-widgets/base",
          "model_name": "LayoutModel",
          "model_module_version": "1.2.0",
          "state": {
            "_view_name": "LayoutView",
            "grid_template_rows": null,
            "right": null,
            "justify_content": null,
            "_view_module": "@jupyter-widgets/base",
            "overflow": null,
            "_model_module_version": "1.2.0",
            "_view_count": null,
            "flex_flow": null,
            "width": null,
            "min_width": null,
            "border": null,
            "align_items": null,
            "bottom": null,
            "_model_module": "@jupyter-widgets/base",
            "top": null,
            "grid_column": null,
            "overflow_y": null,
            "overflow_x": null,
            "grid_auto_flow": null,
            "grid_area": null,
            "grid_template_columns": null,
            "flex": null,
            "_model_name": "LayoutModel",
            "justify_items": null,
            "grid_row": null,
            "max_height": null,
            "align_content": null,
            "visibility": null,
            "align_self": null,
            "height": null,
            "min_height": null,
            "padding": null,
            "grid_auto_rows": null,
            "grid_gap": null,
            "max_width": null,
            "order": null,
            "_view_module_version": "1.2.0",
            "grid_template_areas": null,
            "object_position": null,
            "object_fit": null,
            "grid_auto_columns": null,
            "margin": null,
            "display": null,
            "left": null
          }
        },
        "b615037ac4e94fc8b08c55f540a3bcc3": {
          "model_module": "@jupyter-widgets/controls",
          "model_name": "HTMLModel",
          "model_module_version": "1.5.0",
          "state": {
            "_view_name": "HTMLView",
            "style": "IPY_MODEL_6b50a72017f944b1ba1bbf9323e05397",
            "_dom_classes": [],
            "description": "",
            "_model_name": "HTMLModel",
            "placeholder": "​",
            "_view_module": "@jupyter-widgets/controls",
            "_model_module_version": "1.5.0",
            "value": "100%",
            "_view_count": null,
            "_view_module_version": "1.5.0",
            "description_tooltip": null,
            "_model_module": "@jupyter-widgets/controls",
            "layout": "IPY_MODEL_0e5d337b30ca45b88b5b3264340f431d"
          }
        },
        "d8579effe2c54e3ba9c178900a6faabd": {
          "model_module": "@jupyter-widgets/controls",
          "model_name": "FloatProgressModel",
          "model_module_version": "1.5.0",
          "state": {
            "_view_name": "ProgressView",
            "style": "IPY_MODEL_dbda2d3b3c9c4d17867dddf6e370bd40",
            "_dom_classes": [],
            "description": "",
            "_model_name": "FloatProgressModel",
            "bar_style": "success",
            "max": 2,
            "_view_module": "@jupyter-widgets/controls",
            "_model_module_version": "1.5.0",
            "value": 2,
            "_view_count": null,
            "_view_module_version": "1.5.0",
            "orientation": "horizontal",
            "min": 0,
            "description_tooltip": null,
            "_model_module": "@jupyter-widgets/controls",
            "layout": "IPY_MODEL_b4fd57d4d2154f1aa5c652e210c856ff"
          }
        },
        "fd8c93ea335641b3883ccb0c8e860650": {
          "model_module": "@jupyter-widgets/controls",
          "model_name": "HTMLModel",
          "model_module_version": "1.5.0",
          "state": {
            "_view_name": "HTMLView",
            "style": "IPY_MODEL_a274862267264cbfa95cdb8b7f3e6c3f",
            "_dom_classes": [],
            "description": "",
            "_model_name": "HTMLModel",
            "placeholder": "​",
            "_view_module": "@jupyter-widgets/controls",
            "_model_module_version": "1.5.0",
            "value": " 2/2 [00:01&lt;00:00,  1.30it/s]",
            "_view_count": null,
            "_view_module_version": "1.5.0",
            "description_tooltip": null,
            "_model_module": "@jupyter-widgets/controls",
            "layout": "IPY_MODEL_50d8240baf79459782411156d4f7eb53"
          }
        },
        "6b50a72017f944b1ba1bbf9323e05397": {
          "model_module": "@jupyter-widgets/controls",
          "model_name": "DescriptionStyleModel",
          "model_module_version": "1.5.0",
          "state": {
            "_view_name": "StyleView",
            "_model_name": "DescriptionStyleModel",
            "description_width": "",
            "_view_module": "@jupyter-widgets/base",
            "_model_module_version": "1.5.0",
            "_view_count": null,
            "_view_module_version": "1.2.0",
            "_model_module": "@jupyter-widgets/controls"
          }
        },
        "0e5d337b30ca45b88b5b3264340f431d": {
          "model_module": "@jupyter-widgets/base",
          "model_name": "LayoutModel",
          "model_module_version": "1.2.0",
          "state": {
            "_view_name": "LayoutView",
            "grid_template_rows": null,
            "right": null,
            "justify_content": null,
            "_view_module": "@jupyter-widgets/base",
            "overflow": null,
            "_model_module_version": "1.2.0",
            "_view_count": null,
            "flex_flow": null,
            "width": null,
            "min_width": null,
            "border": null,
            "align_items": null,
            "bottom": null,
            "_model_module": "@jupyter-widgets/base",
            "top": null,
            "grid_column": null,
            "overflow_y": null,
            "overflow_x": null,
            "grid_auto_flow": null,
            "grid_area": null,
            "grid_template_columns": null,
            "flex": null,
            "_model_name": "LayoutModel",
            "justify_items": null,
            "grid_row": null,
            "max_height": null,
            "align_content": null,
            "visibility": null,
            "align_self": null,
            "height": null,
            "min_height": null,
            "padding": null,
            "grid_auto_rows": null,
            "grid_gap": null,
            "max_width": null,
            "order": null,
            "_view_module_version": "1.2.0",
            "grid_template_areas": null,
            "object_position": null,
            "object_fit": null,
            "grid_auto_columns": null,
            "margin": null,
            "display": null,
            "left": null
          }
        },
        "dbda2d3b3c9c4d17867dddf6e370bd40": {
          "model_module": "@jupyter-widgets/controls",
          "model_name": "ProgressStyleModel",
          "model_module_version": "1.5.0",
          "state": {
            "_view_name": "StyleView",
            "_model_name": "ProgressStyleModel",
            "description_width": "",
            "_view_module": "@jupyter-widgets/base",
            "_model_module_version": "1.5.0",
            "_view_count": null,
            "_view_module_version": "1.2.0",
            "bar_color": null,
            "_model_module": "@jupyter-widgets/controls"
          }
        },
        "b4fd57d4d2154f1aa5c652e210c856ff": {
          "model_module": "@jupyter-widgets/base",
          "model_name": "LayoutModel",
          "model_module_version": "1.2.0",
          "state": {
            "_view_name": "LayoutView",
            "grid_template_rows": null,
            "right": null,
            "justify_content": null,
            "_view_module": "@jupyter-widgets/base",
            "overflow": null,
            "_model_module_version": "1.2.0",
            "_view_count": null,
            "flex_flow": null,
            "width": null,
            "min_width": null,
            "border": null,
            "align_items": null,
            "bottom": null,
            "_model_module": "@jupyter-widgets/base",
            "top": null,
            "grid_column": null,
            "overflow_y": null,
            "overflow_x": null,
            "grid_auto_flow": null,
            "grid_area": null,
            "grid_template_columns": null,
            "flex": null,
            "_model_name": "LayoutModel",
            "justify_items": null,
            "grid_row": null,
            "max_height": null,
            "align_content": null,
            "visibility": null,
            "align_self": null,
            "height": null,
            "min_height": null,
            "padding": null,
            "grid_auto_rows": null,
            "grid_gap": null,
            "max_width": null,
            "order": null,
            "_view_module_version": "1.2.0",
            "grid_template_areas": null,
            "object_position": null,
            "object_fit": null,
            "grid_auto_columns": null,
            "margin": null,
            "display": null,
            "left": null
          }
        },
        "a274862267264cbfa95cdb8b7f3e6c3f": {
          "model_module": "@jupyter-widgets/controls",
          "model_name": "DescriptionStyleModel",
          "model_module_version": "1.5.0",
          "state": {
            "_view_name": "StyleView",
            "_model_name": "DescriptionStyleModel",
            "description_width": "",
            "_view_module": "@jupyter-widgets/base",
            "_model_module_version": "1.5.0",
            "_view_count": null,
            "_view_module_version": "1.2.0",
            "_model_module": "@jupyter-widgets/controls"
          }
        },
        "50d8240baf79459782411156d4f7eb53": {
          "model_module": "@jupyter-widgets/base",
          "model_name": "LayoutModel",
          "model_module_version": "1.2.0",
          "state": {
            "_view_name": "LayoutView",
            "grid_template_rows": null,
            "right": null,
            "justify_content": null,
            "_view_module": "@jupyter-widgets/base",
            "overflow": null,
            "_model_module_version": "1.2.0",
            "_view_count": null,
            "flex_flow": null,
            "width": null,
            "min_width": null,
            "border": null,
            "align_items": null,
            "bottom": null,
            "_model_module": "@jupyter-widgets/base",
            "top": null,
            "grid_column": null,
            "overflow_y": null,
            "overflow_x": null,
            "grid_auto_flow": null,
            "grid_area": null,
            "grid_template_columns": null,
            "flex": null,
            "_model_name": "LayoutModel",
            "justify_items": null,
            "grid_row": null,
            "max_height": null,
            "align_content": null,
            "visibility": null,
            "align_self": null,
            "height": null,
            "min_height": null,
            "padding": null,
            "grid_auto_rows": null,
            "grid_gap": null,
            "max_width": null,
            "order": null,
            "_view_module_version": "1.2.0",
            "grid_template_areas": null,
            "object_position": null,
            "object_fit": null,
            "grid_auto_columns": null,
            "margin": null,
            "display": null,
            "left": null
          }
        },
        "6b972a2fc1e64462a228700e0c9b5aad": {
          "model_module": "@jupyter-widgets/controls",
          "model_name": "HBoxModel",
          "model_module_version": "1.5.0",
          "state": {
            "_view_name": "HBoxView",
            "_dom_classes": [],
            "_model_name": "HBoxModel",
            "_view_module": "@jupyter-widgets/controls",
            "_model_module_version": "1.5.0",
            "_view_count": null,
            "_view_module_version": "1.5.0",
            "box_style": "",
            "layout": "IPY_MODEL_3ce6fc24c1944263a730cea0bcb8b808",
            "_model_module": "@jupyter-widgets/controls",
            "children": [
              "IPY_MODEL_dc6b342570d14e099e17d9a7295e5cb4",
              "IPY_MODEL_ed26caaea9904520b735f4fa9e983900",
              "IPY_MODEL_fb286c95929e4b5aa6fb633a9ee3a1c4"
            ]
          }
        },
        "3ce6fc24c1944263a730cea0bcb8b808": {
          "model_module": "@jupyter-widgets/base",
          "model_name": "LayoutModel",
          "model_module_version": "1.2.0",
          "state": {
            "_view_name": "LayoutView",
            "grid_template_rows": null,
            "right": null,
            "justify_content": null,
            "_view_module": "@jupyter-widgets/base",
            "overflow": null,
            "_model_module_version": "1.2.0",
            "_view_count": null,
            "flex_flow": null,
            "width": null,
            "min_width": null,
            "border": null,
            "align_items": null,
            "bottom": null,
            "_model_module": "@jupyter-widgets/base",
            "top": null,
            "grid_column": null,
            "overflow_y": null,
            "overflow_x": null,
            "grid_auto_flow": null,
            "grid_area": null,
            "grid_template_columns": null,
            "flex": null,
            "_model_name": "LayoutModel",
            "justify_items": null,
            "grid_row": null,
            "max_height": null,
            "align_content": null,
            "visibility": null,
            "align_self": null,
            "height": null,
            "min_height": null,
            "padding": null,
            "grid_auto_rows": null,
            "grid_gap": null,
            "max_width": null,
            "order": null,
            "_view_module_version": "1.2.0",
            "grid_template_areas": null,
            "object_position": null,
            "object_fit": null,
            "grid_auto_columns": null,
            "margin": null,
            "display": null,
            "left": null
          }
        },
        "dc6b342570d14e099e17d9a7295e5cb4": {
          "model_module": "@jupyter-widgets/controls",
          "model_name": "HTMLModel",
          "model_module_version": "1.5.0",
          "state": {
            "_view_name": "HTMLView",
            "style": "IPY_MODEL_84d90dce3c70441eb5bccc54d42111a7",
            "_dom_classes": [],
            "description": "",
            "_model_name": "HTMLModel",
            "placeholder": "​",
            "_view_module": "@jupyter-widgets/controls",
            "_model_module_version": "1.5.0",
            "value": "Downloading: ",
            "_view_count": null,
            "_view_module_version": "1.5.0",
            "description_tooltip": null,
            "_model_module": "@jupyter-widgets/controls",
            "layout": "IPY_MODEL_a9b4496dcf22469ea25a8ae2f51e6c02"
          }
        },
        "ed26caaea9904520b735f4fa9e983900": {
          "model_module": "@jupyter-widgets/controls",
          "model_name": "FloatProgressModel",
          "model_module_version": "1.5.0",
          "state": {
            "_view_name": "ProgressView",
            "style": "IPY_MODEL_b85692599d16433dae0281f9729a4d78",
            "_dom_classes": [],
            "description": "",
            "_model_name": "FloatProgressModel",
            "bar_style": "success",
            "max": 8116577,
            "_view_module": "@jupyter-widgets/controls",
            "_model_module_version": "1.5.0",
            "value": 8116577,
            "_view_count": null,
            "_view_module_version": "1.5.0",
            "orientation": "horizontal",
            "min": 0,
            "description_tooltip": null,
            "_model_module": "@jupyter-widgets/controls",
            "layout": "IPY_MODEL_3478b19dc1ba4879bdda8692f66c78f2"
          }
        },
        "fb286c95929e4b5aa6fb633a9ee3a1c4": {
          "model_module": "@jupyter-widgets/controls",
          "model_name": "HTMLModel",
          "model_module_version": "1.5.0",
          "state": {
            "_view_name": "HTMLView",
            "style": "IPY_MODEL_a51edf6521a942a7a4a8c8a70353fb0a",
            "_dom_classes": [],
            "description": "",
            "_model_name": "HTMLModel",
            "placeholder": "​",
            "_view_module": "@jupyter-widgets/controls",
            "_model_module_version": "1.5.0",
            "value": " 30.3M/? [00:00&lt;00:00, 65.1MB/s]",
            "_view_count": null,
            "_view_module_version": "1.5.0",
            "description_tooltip": null,
            "_model_module": "@jupyter-widgets/controls",
            "layout": "IPY_MODEL_335124c8f5c14bd7b87768a7d4c20010"
          }
        },
        "84d90dce3c70441eb5bccc54d42111a7": {
          "model_module": "@jupyter-widgets/controls",
          "model_name": "DescriptionStyleModel",
          "model_module_version": "1.5.0",
          "state": {
            "_view_name": "StyleView",
            "_model_name": "DescriptionStyleModel",
            "description_width": "",
            "_view_module": "@jupyter-widgets/base",
            "_model_module_version": "1.5.0",
            "_view_count": null,
            "_view_module_version": "1.2.0",
            "_model_module": "@jupyter-widgets/controls"
          }
        },
        "a9b4496dcf22469ea25a8ae2f51e6c02": {
          "model_module": "@jupyter-widgets/base",
          "model_name": "LayoutModel",
          "model_module_version": "1.2.0",
          "state": {
            "_view_name": "LayoutView",
            "grid_template_rows": null,
            "right": null,
            "justify_content": null,
            "_view_module": "@jupyter-widgets/base",
            "overflow": null,
            "_model_module_version": "1.2.0",
            "_view_count": null,
            "flex_flow": null,
            "width": null,
            "min_width": null,
            "border": null,
            "align_items": null,
            "bottom": null,
            "_model_module": "@jupyter-widgets/base",
            "top": null,
            "grid_column": null,
            "overflow_y": null,
            "overflow_x": null,
            "grid_auto_flow": null,
            "grid_area": null,
            "grid_template_columns": null,
            "flex": null,
            "_model_name": "LayoutModel",
            "justify_items": null,
            "grid_row": null,
            "max_height": null,
            "align_content": null,
            "visibility": null,
            "align_self": null,
            "height": null,
            "min_height": null,
            "padding": null,
            "grid_auto_rows": null,
            "grid_gap": null,
            "max_width": null,
            "order": null,
            "_view_module_version": "1.2.0",
            "grid_template_areas": null,
            "object_position": null,
            "object_fit": null,
            "grid_auto_columns": null,
            "margin": null,
            "display": null,
            "left": null
          }
        },
        "b85692599d16433dae0281f9729a4d78": {
          "model_module": "@jupyter-widgets/controls",
          "model_name": "ProgressStyleModel",
          "model_module_version": "1.5.0",
          "state": {
            "_view_name": "StyleView",
            "_model_name": "ProgressStyleModel",
            "description_width": "",
            "_view_module": "@jupyter-widgets/base",
            "_model_module_version": "1.5.0",
            "_view_count": null,
            "_view_module_version": "1.2.0",
            "bar_color": null,
            "_model_module": "@jupyter-widgets/controls"
          }
        },
        "3478b19dc1ba4879bdda8692f66c78f2": {
          "model_module": "@jupyter-widgets/base",
          "model_name": "LayoutModel",
          "model_module_version": "1.2.0",
          "state": {
            "_view_name": "LayoutView",
            "grid_template_rows": null,
            "right": null,
            "justify_content": null,
            "_view_module": "@jupyter-widgets/base",
            "overflow": null,
            "_model_module_version": "1.2.0",
            "_view_count": null,
            "flex_flow": null,
            "width": null,
            "min_width": null,
            "border": null,
            "align_items": null,
            "bottom": null,
            "_model_module": "@jupyter-widgets/base",
            "top": null,
            "grid_column": null,
            "overflow_y": null,
            "overflow_x": null,
            "grid_auto_flow": null,
            "grid_area": null,
            "grid_template_columns": null,
            "flex": null,
            "_model_name": "LayoutModel",
            "justify_items": null,
            "grid_row": null,
            "max_height": null,
            "align_content": null,
            "visibility": null,
            "align_self": null,
            "height": null,
            "min_height": null,
            "padding": null,
            "grid_auto_rows": null,
            "grid_gap": null,
            "max_width": null,
            "order": null,
            "_view_module_version": "1.2.0",
            "grid_template_areas": null,
            "object_position": null,
            "object_fit": null,
            "grid_auto_columns": null,
            "margin": null,
            "display": null,
            "left": null
          }
        },
        "a51edf6521a942a7a4a8c8a70353fb0a": {
          "model_module": "@jupyter-widgets/controls",
          "model_name": "DescriptionStyleModel",
          "model_module_version": "1.5.0",
          "state": {
            "_view_name": "StyleView",
            "_model_name": "DescriptionStyleModel",
            "description_width": "",
            "_view_module": "@jupyter-widgets/base",
            "_model_module_version": "1.5.0",
            "_view_count": null,
            "_view_module_version": "1.2.0",
            "_model_module": "@jupyter-widgets/controls"
          }
        },
        "335124c8f5c14bd7b87768a7d4c20010": {
          "model_module": "@jupyter-widgets/base",
          "model_name": "LayoutModel",
          "model_module_version": "1.2.0",
          "state": {
            "_view_name": "LayoutView",
            "grid_template_rows": null,
            "right": null,
            "justify_content": null,
            "_view_module": "@jupyter-widgets/base",
            "overflow": null,
            "_model_module_version": "1.2.0",
            "_view_count": null,
            "flex_flow": null,
            "width": null,
            "min_width": null,
            "border": null,
            "align_items": null,
            "bottom": null,
            "_model_module": "@jupyter-widgets/base",
            "top": null,
            "grid_column": null,
            "overflow_y": null,
            "overflow_x": null,
            "grid_auto_flow": null,
            "grid_area": null,
            "grid_template_columns": null,
            "flex": null,
            "_model_name": "LayoutModel",
            "justify_items": null,
            "grid_row": null,
            "max_height": null,
            "align_content": null,
            "visibility": null,
            "align_self": null,
            "height": null,
            "min_height": null,
            "padding": null,
            "grid_auto_rows": null,
            "grid_gap": null,
            "max_width": null,
            "order": null,
            "_view_module_version": "1.2.0",
            "grid_template_areas": null,
            "object_position": null,
            "object_fit": null,
            "grid_auto_columns": null,
            "margin": null,
            "display": null,
            "left": null
          }
        },
        "a63e81e09e9146a0a76e03bb67f9ae07": {
          "model_module": "@jupyter-widgets/controls",
          "model_name": "HBoxModel",
          "model_module_version": "1.5.0",
          "state": {
            "_view_name": "HBoxView",
            "_dom_classes": [],
            "_model_name": "HBoxModel",
            "_view_module": "@jupyter-widgets/controls",
            "_model_module_version": "1.5.0",
            "_view_count": null,
            "_view_module_version": "1.5.0",
            "box_style": "",
            "layout": "IPY_MODEL_bf1c46262628436787f03482d7c0a4ed",
            "_model_module": "@jupyter-widgets/controls",
            "children": [
              "IPY_MODEL_c1f039a674124ddbbb9133dd01e6dffd",
              "IPY_MODEL_11ae143cbc5b4503a105ecbc1dbe65ee",
              "IPY_MODEL_84afbd787abc44f6adcde03c6cf7c591"
            ]
          }
        },
        "bf1c46262628436787f03482d7c0a4ed": {
          "model_module": "@jupyter-widgets/base",
          "model_name": "LayoutModel",
          "model_module_version": "1.2.0",
          "state": {
            "_view_name": "LayoutView",
            "grid_template_rows": null,
            "right": null,
            "justify_content": null,
            "_view_module": "@jupyter-widgets/base",
            "overflow": null,
            "_model_module_version": "1.2.0",
            "_view_count": null,
            "flex_flow": null,
            "width": null,
            "min_width": null,
            "border": null,
            "align_items": null,
            "bottom": null,
            "_model_module": "@jupyter-widgets/base",
            "top": null,
            "grid_column": null,
            "overflow_y": null,
            "overflow_x": null,
            "grid_auto_flow": null,
            "grid_area": null,
            "grid_template_columns": null,
            "flex": null,
            "_model_name": "LayoutModel",
            "justify_items": null,
            "grid_row": null,
            "max_height": null,
            "align_content": null,
            "visibility": null,
            "align_self": null,
            "height": null,
            "min_height": null,
            "padding": null,
            "grid_auto_rows": null,
            "grid_gap": null,
            "max_width": null,
            "order": null,
            "_view_module_version": "1.2.0",
            "grid_template_areas": null,
            "object_position": null,
            "object_fit": null,
            "grid_auto_columns": null,
            "margin": null,
            "display": null,
            "left": null
          }
        },
        "c1f039a674124ddbbb9133dd01e6dffd": {
          "model_module": "@jupyter-widgets/controls",
          "model_name": "HTMLModel",
          "model_module_version": "1.5.0",
          "state": {
            "_view_name": "HTMLView",
            "style": "IPY_MODEL_f4916e03b69c4eb5a71ca7b10f1590d3",
            "_dom_classes": [],
            "description": "",
            "_model_name": "HTMLModel",
            "placeholder": "​",
            "_view_module": "@jupyter-widgets/controls",
            "_model_module_version": "1.5.0",
            "value": "Downloading: ",
            "_view_count": null,
            "_view_module_version": "1.5.0",
            "description_tooltip": null,
            "_model_module": "@jupyter-widgets/controls",
            "layout": "IPY_MODEL_881d304a274344648cca2fb75a0eb8d4"
          }
        },
        "11ae143cbc5b4503a105ecbc1dbe65ee": {
          "model_module": "@jupyter-widgets/controls",
          "model_name": "FloatProgressModel",
          "model_module_version": "1.5.0",
          "state": {
            "_view_name": "ProgressView",
            "style": "IPY_MODEL_03a404b9fe614cd3b6323e86b32b2d13",
            "_dom_classes": [],
            "description": "",
            "_model_name": "FloatProgressModel",
            "bar_style": "success",
            "max": 1054280,
            "_view_module": "@jupyter-widgets/controls",
            "_model_module_version": "1.5.0",
            "value": 1054280,
            "_view_count": null,
            "_view_module_version": "1.5.0",
            "orientation": "horizontal",
            "min": 0,
            "description_tooltip": null,
            "_model_module": "@jupyter-widgets/controls",
            "layout": "IPY_MODEL_106782fd3ee5435589d260e28de6fcf8"
          }
        },
        "84afbd787abc44f6adcde03c6cf7c591": {
          "model_module": "@jupyter-widgets/controls",
          "model_name": "HTMLModel",
          "model_module_version": "1.5.0",
          "state": {
            "_view_name": "HTMLView",
            "style": "IPY_MODEL_6a97cbe57f7d4e078714dc4410bf65aa",
            "_dom_classes": [],
            "description": "",
            "_model_name": "HTMLModel",
            "placeholder": "​",
            "_view_module": "@jupyter-widgets/controls",
            "_model_module_version": "1.5.0",
            "value": " 4.85M/? [00:00&lt;00:00, 48.5MB/s]",
            "_view_count": null,
            "_view_module_version": "1.5.0",
            "description_tooltip": null,
            "_model_module": "@jupyter-widgets/controls",
            "layout": "IPY_MODEL_276b8dbdc74b490da0a9aa4f7d652fb7"
          }
        },
        "f4916e03b69c4eb5a71ca7b10f1590d3": {
          "model_module": "@jupyter-widgets/controls",
          "model_name": "DescriptionStyleModel",
          "model_module_version": "1.5.0",
          "state": {
            "_view_name": "StyleView",
            "_model_name": "DescriptionStyleModel",
            "description_width": "",
            "_view_module": "@jupyter-widgets/base",
            "_model_module_version": "1.5.0",
            "_view_count": null,
            "_view_module_version": "1.2.0",
            "_model_module": "@jupyter-widgets/controls"
          }
        },
        "881d304a274344648cca2fb75a0eb8d4": {
          "model_module": "@jupyter-widgets/base",
          "model_name": "LayoutModel",
          "model_module_version": "1.2.0",
          "state": {
            "_view_name": "LayoutView",
            "grid_template_rows": null,
            "right": null,
            "justify_content": null,
            "_view_module": "@jupyter-widgets/base",
            "overflow": null,
            "_model_module_version": "1.2.0",
            "_view_count": null,
            "flex_flow": null,
            "width": null,
            "min_width": null,
            "border": null,
            "align_items": null,
            "bottom": null,
            "_model_module": "@jupyter-widgets/base",
            "top": null,
            "grid_column": null,
            "overflow_y": null,
            "overflow_x": null,
            "grid_auto_flow": null,
            "grid_area": null,
            "grid_template_columns": null,
            "flex": null,
            "_model_name": "LayoutModel",
            "justify_items": null,
            "grid_row": null,
            "max_height": null,
            "align_content": null,
            "visibility": null,
            "align_self": null,
            "height": null,
            "min_height": null,
            "padding": null,
            "grid_auto_rows": null,
            "grid_gap": null,
            "max_width": null,
            "order": null,
            "_view_module_version": "1.2.0",
            "grid_template_areas": null,
            "object_position": null,
            "object_fit": null,
            "grid_auto_columns": null,
            "margin": null,
            "display": null,
            "left": null
          }
        },
        "03a404b9fe614cd3b6323e86b32b2d13": {
          "model_module": "@jupyter-widgets/controls",
          "model_name": "ProgressStyleModel",
          "model_module_version": "1.5.0",
          "state": {
            "_view_name": "StyleView",
            "_model_name": "ProgressStyleModel",
            "description_width": "",
            "_view_module": "@jupyter-widgets/base",
            "_model_module_version": "1.5.0",
            "_view_count": null,
            "_view_module_version": "1.2.0",
            "bar_color": null,
            "_model_module": "@jupyter-widgets/controls"
          }
        },
        "106782fd3ee5435589d260e28de6fcf8": {
          "model_module": "@jupyter-widgets/base",
          "model_name": "LayoutModel",
          "model_module_version": "1.2.0",
          "state": {
            "_view_name": "LayoutView",
            "grid_template_rows": null,
            "right": null,
            "justify_content": null,
            "_view_module": "@jupyter-widgets/base",
            "overflow": null,
            "_model_module_version": "1.2.0",
            "_view_count": null,
            "flex_flow": null,
            "width": null,
            "min_width": null,
            "border": null,
            "align_items": null,
            "bottom": null,
            "_model_module": "@jupyter-widgets/base",
            "top": null,
            "grid_column": null,
            "overflow_y": null,
            "overflow_x": null,
            "grid_auto_flow": null,
            "grid_area": null,
            "grid_template_columns": null,
            "flex": null,
            "_model_name": "LayoutModel",
            "justify_items": null,
            "grid_row": null,
            "max_height": null,
            "align_content": null,
            "visibility": null,
            "align_self": null,
            "height": null,
            "min_height": null,
            "padding": null,
            "grid_auto_rows": null,
            "grid_gap": null,
            "max_width": null,
            "order": null,
            "_view_module_version": "1.2.0",
            "grid_template_areas": null,
            "object_position": null,
            "object_fit": null,
            "grid_auto_columns": null,
            "margin": null,
            "display": null,
            "left": null
          }
        },
        "6a97cbe57f7d4e078714dc4410bf65aa": {
          "model_module": "@jupyter-widgets/controls",
          "model_name": "DescriptionStyleModel",
          "model_module_version": "1.5.0",
          "state": {
            "_view_name": "StyleView",
            "_model_name": "DescriptionStyleModel",
            "description_width": "",
            "_view_module": "@jupyter-widgets/base",
            "_model_module_version": "1.5.0",
            "_view_count": null,
            "_view_module_version": "1.2.0",
            "_model_module": "@jupyter-widgets/controls"
          }
        },
        "276b8dbdc74b490da0a9aa4f7d652fb7": {
          "model_module": "@jupyter-widgets/base",
          "model_name": "LayoutModel",
          "model_module_version": "1.2.0",
          "state": {
            "_view_name": "LayoutView",
            "grid_template_rows": null,
            "right": null,
            "justify_content": null,
            "_view_module": "@jupyter-widgets/base",
            "overflow": null,
            "_model_module_version": "1.2.0",
            "_view_count": null,
            "flex_flow": null,
            "width": null,
            "min_width": null,
            "border": null,
            "align_items": null,
            "bottom": null,
            "_model_module": "@jupyter-widgets/base",
            "top": null,
            "grid_column": null,
            "overflow_y": null,
            "overflow_x": null,
            "grid_auto_flow": null,
            "grid_area": null,
            "grid_template_columns": null,
            "flex": null,
            "_model_name": "LayoutModel",
            "justify_items": null,
            "grid_row": null,
            "max_height": null,
            "align_content": null,
            "visibility": null,
            "align_self": null,
            "height": null,
            "min_height": null,
            "padding": null,
            "grid_auto_rows": null,
            "grid_gap": null,
            "max_width": null,
            "order": null,
            "_view_module_version": "1.2.0",
            "grid_template_areas": null,
            "object_position": null,
            "object_fit": null,
            "grid_auto_columns": null,
            "margin": null,
            "display": null,
            "left": null
          }
        },
        "8f4cf6e8e5054d0084a58f6f5c1f1510": {
          "model_module": "@jupyter-widgets/controls",
          "model_name": "HBoxModel",
          "model_module_version": "1.5.0",
          "state": {
            "_view_name": "HBoxView",
            "_dom_classes": [],
            "_model_name": "HBoxModel",
            "_view_module": "@jupyter-widgets/controls",
            "_model_module_version": "1.5.0",
            "_view_count": null,
            "_view_module_version": "1.5.0",
            "box_style": "",
            "layout": "IPY_MODEL_043dc1f4a91b4818a1e9340708647624",
            "_model_module": "@jupyter-widgets/controls",
            "children": [
              "IPY_MODEL_075f4083ce9e41d8b9e5fcd7070e4729",
              "IPY_MODEL_4547973f504b470a8728247c2947c3c0",
              "IPY_MODEL_9ad47d2158a24aacb56a2441dbf77f72"
            ]
          }
        },
        "043dc1f4a91b4818a1e9340708647624": {
          "model_module": "@jupyter-widgets/base",
          "model_name": "LayoutModel",
          "model_module_version": "1.2.0",
          "state": {
            "_view_name": "LayoutView",
            "grid_template_rows": null,
            "right": null,
            "justify_content": null,
            "_view_module": "@jupyter-widgets/base",
            "overflow": null,
            "_model_module_version": "1.2.0",
            "_view_count": null,
            "flex_flow": null,
            "width": null,
            "min_width": null,
            "border": null,
            "align_items": null,
            "bottom": null,
            "_model_module": "@jupyter-widgets/base",
            "top": null,
            "grid_column": null,
            "overflow_y": null,
            "overflow_x": null,
            "grid_auto_flow": null,
            "grid_area": null,
            "grid_template_columns": null,
            "flex": null,
            "_model_name": "LayoutModel",
            "justify_items": null,
            "grid_row": null,
            "max_height": null,
            "align_content": null,
            "visibility": null,
            "align_self": null,
            "height": null,
            "min_height": null,
            "padding": null,
            "grid_auto_rows": null,
            "grid_gap": null,
            "max_width": null,
            "order": null,
            "_view_module_version": "1.2.0",
            "grid_template_areas": null,
            "object_position": null,
            "object_fit": null,
            "grid_auto_columns": null,
            "margin": null,
            "display": null,
            "left": null
          }
        },
        "075f4083ce9e41d8b9e5fcd7070e4729": {
          "model_module": "@jupyter-widgets/controls",
          "model_name": "HTMLModel",
          "model_module_version": "1.5.0",
          "state": {
            "_view_name": "HTMLView",
            "style": "IPY_MODEL_684fdc46bb7c44aab2e8ceffcd8616e8",
            "_dom_classes": [],
            "description": "",
            "_model_name": "HTMLModel",
            "placeholder": "​",
            "_view_module": "@jupyter-widgets/controls",
            "_model_module_version": "1.5.0",
            "value": "100%",
            "_view_count": null,
            "_view_module_version": "1.5.0",
            "description_tooltip": null,
            "_model_module": "@jupyter-widgets/controls",
            "layout": "IPY_MODEL_75e8ce447e204e7abb49a90f14192845"
          }
        },
        "4547973f504b470a8728247c2947c3c0": {
          "model_module": "@jupyter-widgets/controls",
          "model_name": "FloatProgressModel",
          "model_module_version": "1.5.0",
          "state": {
            "_view_name": "ProgressView",
            "style": "IPY_MODEL_bb6fd61437a94358a322d907d0f57aa6",
            "_dom_classes": [],
            "description": "",
            "_model_name": "FloatProgressModel",
            "bar_style": "success",
            "max": 2,
            "_view_module": "@jupyter-widgets/controls",
            "_model_module_version": "1.5.0",
            "value": 2,
            "_view_count": null,
            "_view_module_version": "1.5.0",
            "orientation": "horizontal",
            "min": 0,
            "description_tooltip": null,
            "_model_module": "@jupyter-widgets/controls",
            "layout": "IPY_MODEL_417abe27ed1d4cf68db7d6cb668c6501"
          }
        },
        "9ad47d2158a24aacb56a2441dbf77f72": {
          "model_module": "@jupyter-widgets/controls",
          "model_name": "HTMLModel",
          "model_module_version": "1.5.0",
          "state": {
            "_view_name": "HTMLView",
            "style": "IPY_MODEL_886c06d9426b4921b15abad2ed9c5ce2",
            "_dom_classes": [],
            "description": "",
            "_model_name": "HTMLModel",
            "placeholder": "​",
            "_view_module": "@jupyter-widgets/controls",
            "_model_module_version": "1.5.0",
            "value": " 2/2 [00:00&lt;00:00, 53.97it/s]",
            "_view_count": null,
            "_view_module_version": "1.5.0",
            "description_tooltip": null,
            "_model_module": "@jupyter-widgets/controls",
            "layout": "IPY_MODEL_49c890d942a24ad0a3f69b6e2709f975"
          }
        },
        "684fdc46bb7c44aab2e8ceffcd8616e8": {
          "model_module": "@jupyter-widgets/controls",
          "model_name": "DescriptionStyleModel",
          "model_module_version": "1.5.0",
          "state": {
            "_view_name": "StyleView",
            "_model_name": "DescriptionStyleModel",
            "description_width": "",
            "_view_module": "@jupyter-widgets/base",
            "_model_module_version": "1.5.0",
            "_view_count": null,
            "_view_module_version": "1.2.0",
            "_model_module": "@jupyter-widgets/controls"
          }
        },
        "75e8ce447e204e7abb49a90f14192845": {
          "model_module": "@jupyter-widgets/base",
          "model_name": "LayoutModel",
          "model_module_version": "1.2.0",
          "state": {
            "_view_name": "LayoutView",
            "grid_template_rows": null,
            "right": null,
            "justify_content": null,
            "_view_module": "@jupyter-widgets/base",
            "overflow": null,
            "_model_module_version": "1.2.0",
            "_view_count": null,
            "flex_flow": null,
            "width": null,
            "min_width": null,
            "border": null,
            "align_items": null,
            "bottom": null,
            "_model_module": "@jupyter-widgets/base",
            "top": null,
            "grid_column": null,
            "overflow_y": null,
            "overflow_x": null,
            "grid_auto_flow": null,
            "grid_area": null,
            "grid_template_columns": null,
            "flex": null,
            "_model_name": "LayoutModel",
            "justify_items": null,
            "grid_row": null,
            "max_height": null,
            "align_content": null,
            "visibility": null,
            "align_self": null,
            "height": null,
            "min_height": null,
            "padding": null,
            "grid_auto_rows": null,
            "grid_gap": null,
            "max_width": null,
            "order": null,
            "_view_module_version": "1.2.0",
            "grid_template_areas": null,
            "object_position": null,
            "object_fit": null,
            "grid_auto_columns": null,
            "margin": null,
            "display": null,
            "left": null
          }
        },
        "bb6fd61437a94358a322d907d0f57aa6": {
          "model_module": "@jupyter-widgets/controls",
          "model_name": "ProgressStyleModel",
          "model_module_version": "1.5.0",
          "state": {
            "_view_name": "StyleView",
            "_model_name": "ProgressStyleModel",
            "description_width": "",
            "_view_module": "@jupyter-widgets/base",
            "_model_module_version": "1.5.0",
            "_view_count": null,
            "_view_module_version": "1.2.0",
            "bar_color": null,
            "_model_module": "@jupyter-widgets/controls"
          }
        },
        "417abe27ed1d4cf68db7d6cb668c6501": {
          "model_module": "@jupyter-widgets/base",
          "model_name": "LayoutModel",
          "model_module_version": "1.2.0",
          "state": {
            "_view_name": "LayoutView",
            "grid_template_rows": null,
            "right": null,
            "justify_content": null,
            "_view_module": "@jupyter-widgets/base",
            "overflow": null,
            "_model_module_version": "1.2.0",
            "_view_count": null,
            "flex_flow": null,
            "width": null,
            "min_width": null,
            "border": null,
            "align_items": null,
            "bottom": null,
            "_model_module": "@jupyter-widgets/base",
            "top": null,
            "grid_column": null,
            "overflow_y": null,
            "overflow_x": null,
            "grid_auto_flow": null,
            "grid_area": null,
            "grid_template_columns": null,
            "flex": null,
            "_model_name": "LayoutModel",
            "justify_items": null,
            "grid_row": null,
            "max_height": null,
            "align_content": null,
            "visibility": null,
            "align_self": null,
            "height": null,
            "min_height": null,
            "padding": null,
            "grid_auto_rows": null,
            "grid_gap": null,
            "max_width": null,
            "order": null,
            "_view_module_version": "1.2.0",
            "grid_template_areas": null,
            "object_position": null,
            "object_fit": null,
            "grid_auto_columns": null,
            "margin": null,
            "display": null,
            "left": null
          }
        },
        "886c06d9426b4921b15abad2ed9c5ce2": {
          "model_module": "@jupyter-widgets/controls",
          "model_name": "DescriptionStyleModel",
          "model_module_version": "1.5.0",
          "state": {
            "_view_name": "StyleView",
            "_model_name": "DescriptionStyleModel",
            "description_width": "",
            "_view_module": "@jupyter-widgets/base",
            "_model_module_version": "1.5.0",
            "_view_count": null,
            "_view_module_version": "1.2.0",
            "_model_module": "@jupyter-widgets/controls"
          }
        },
        "49c890d942a24ad0a3f69b6e2709f975": {
          "model_module": "@jupyter-widgets/base",
          "model_name": "LayoutModel",
          "model_module_version": "1.2.0",
          "state": {
            "_view_name": "LayoutView",
            "grid_template_rows": null,
            "right": null,
            "justify_content": null,
            "_view_module": "@jupyter-widgets/base",
            "overflow": null,
            "_model_module_version": "1.2.0",
            "_view_count": null,
            "flex_flow": null,
            "width": null,
            "min_width": null,
            "border": null,
            "align_items": null,
            "bottom": null,
            "_model_module": "@jupyter-widgets/base",
            "top": null,
            "grid_column": null,
            "overflow_y": null,
            "overflow_x": null,
            "grid_auto_flow": null,
            "grid_area": null,
            "grid_template_columns": null,
            "flex": null,
            "_model_name": "LayoutModel",
            "justify_items": null,
            "grid_row": null,
            "max_height": null,
            "align_content": null,
            "visibility": null,
            "align_self": null,
            "height": null,
            "min_height": null,
            "padding": null,
            "grid_auto_rows": null,
            "grid_gap": null,
            "max_width": null,
            "order": null,
            "_view_module_version": "1.2.0",
            "grid_template_areas": null,
            "object_position": null,
            "object_fit": null,
            "grid_auto_columns": null,
            "margin": null,
            "display": null,
            "left": null
          }
        },
        "fea9b9e835cf45c58e8b3a7e08fce0a5": {
          "model_module": "@jupyter-widgets/controls",
          "model_name": "HBoxModel",
          "model_module_version": "1.5.0",
          "state": {
            "_view_name": "HBoxView",
            "_dom_classes": [],
            "_model_name": "HBoxModel",
            "_view_module": "@jupyter-widgets/controls",
            "_model_module_version": "1.5.0",
            "_view_count": null,
            "_view_module_version": "1.5.0",
            "box_style": "",
            "layout": "IPY_MODEL_1fff006b1d5541a79a785666d66a53ad",
            "_model_module": "@jupyter-widgets/controls",
            "children": [
              "IPY_MODEL_c9e770700d884801b3e87c6741345a8c",
              "IPY_MODEL_1992634a0ab04914bbb9cb769783720b",
              "IPY_MODEL_a04dfa0470e64ee7988f138451bfc4cb"
            ]
          }
        },
        "1fff006b1d5541a79a785666d66a53ad": {
          "model_module": "@jupyter-widgets/base",
          "model_name": "LayoutModel",
          "model_module_version": "1.2.0",
          "state": {
            "_view_name": "LayoutView",
            "grid_template_rows": null,
            "right": null,
            "justify_content": null,
            "_view_module": "@jupyter-widgets/base",
            "overflow": null,
            "_model_module_version": "1.2.0",
            "_view_count": null,
            "flex_flow": null,
            "width": null,
            "min_width": null,
            "border": null,
            "align_items": null,
            "bottom": null,
            "_model_module": "@jupyter-widgets/base",
            "top": null,
            "grid_column": null,
            "overflow_y": null,
            "overflow_x": null,
            "grid_auto_flow": null,
            "grid_area": null,
            "grid_template_columns": null,
            "flex": null,
            "_model_name": "LayoutModel",
            "justify_items": null,
            "grid_row": null,
            "max_height": null,
            "align_content": null,
            "visibility": null,
            "align_self": null,
            "height": null,
            "min_height": null,
            "padding": null,
            "grid_auto_rows": null,
            "grid_gap": null,
            "max_width": null,
            "order": null,
            "_view_module_version": "1.2.0",
            "grid_template_areas": null,
            "object_position": null,
            "object_fit": null,
            "grid_auto_columns": null,
            "margin": null,
            "display": null,
            "left": null
          }
        },
        "c9e770700d884801b3e87c6741345a8c": {
          "model_module": "@jupyter-widgets/controls",
          "model_name": "HTMLModel",
          "model_module_version": "1.5.0",
          "state": {
            "_view_name": "HTMLView",
            "style": "IPY_MODEL_5ba7c108f641494ca36e8f8e3599e9e9",
            "_dom_classes": [],
            "description": "",
            "_model_name": "HTMLModel",
            "placeholder": "​",
            "_view_module": "@jupyter-widgets/controls",
            "_model_module_version": "1.5.0",
            "value": "",
            "_view_count": null,
            "_view_module_version": "1.5.0",
            "description_tooltip": null,
            "_model_module": "@jupyter-widgets/controls",
            "layout": "IPY_MODEL_7af22601ee18498fadc7f4be0a9827f9"
          }
        },
        "1992634a0ab04914bbb9cb769783720b": {
          "model_module": "@jupyter-widgets/controls",
          "model_name": "FloatProgressModel",
          "model_module_version": "1.5.0",
          "state": {
            "_view_name": "ProgressView",
            "style": "IPY_MODEL_52f4d1d1d31f459ca4d31127263060ec",
            "_dom_classes": [],
            "description": "",
            "_model_name": "FloatProgressModel",
            "bar_style": "info",
            "max": 1,
            "_view_module": "@jupyter-widgets/controls",
            "_model_module_version": "1.5.0",
            "value": 1,
            "_view_count": null,
            "_view_module_version": "1.5.0",
            "orientation": "horizontal",
            "min": 0,
            "description_tooltip": null,
            "_model_module": "@jupyter-widgets/controls",
            "layout": "IPY_MODEL_45ee705b749b4f7fbf1239aad72236a8"
          }
        },
        "a04dfa0470e64ee7988f138451bfc4cb": {
          "model_module": "@jupyter-widgets/controls",
          "model_name": "HTMLModel",
          "model_module_version": "1.5.0",
          "state": {
            "_view_name": "HTMLView",
            "style": "IPY_MODEL_e4e192f0677b47528c06530a0b06a80e",
            "_dom_classes": [],
            "description": "",
            "_model_name": "HTMLModel",
            "placeholder": "​",
            "_view_module": "@jupyter-widgets/controls",
            "_model_module_version": "1.5.0",
            "value": " 86540/0 [00:06&lt;00:00, 15381.93 examples/s]",
            "_view_count": null,
            "_view_module_version": "1.5.0",
            "description_tooltip": null,
            "_model_module": "@jupyter-widgets/controls",
            "layout": "IPY_MODEL_a7f9af4b971e4f14a5c9db206d1b4384"
          }
        },
        "5ba7c108f641494ca36e8f8e3599e9e9": {
          "model_module": "@jupyter-widgets/controls",
          "model_name": "DescriptionStyleModel",
          "model_module_version": "1.5.0",
          "state": {
            "_view_name": "StyleView",
            "_model_name": "DescriptionStyleModel",
            "description_width": "",
            "_view_module": "@jupyter-widgets/base",
            "_model_module_version": "1.5.0",
            "_view_count": null,
            "_view_module_version": "1.2.0",
            "_model_module": "@jupyter-widgets/controls"
          }
        },
        "7af22601ee18498fadc7f4be0a9827f9": {
          "model_module": "@jupyter-widgets/base",
          "model_name": "LayoutModel",
          "model_module_version": "1.2.0",
          "state": {
            "_view_name": "LayoutView",
            "grid_template_rows": null,
            "right": null,
            "justify_content": null,
            "_view_module": "@jupyter-widgets/base",
            "overflow": null,
            "_model_module_version": "1.2.0",
            "_view_count": null,
            "flex_flow": null,
            "width": null,
            "min_width": null,
            "border": null,
            "align_items": null,
            "bottom": null,
            "_model_module": "@jupyter-widgets/base",
            "top": null,
            "grid_column": null,
            "overflow_y": null,
            "overflow_x": null,
            "grid_auto_flow": null,
            "grid_area": null,
            "grid_template_columns": null,
            "flex": null,
            "_model_name": "LayoutModel",
            "justify_items": null,
            "grid_row": null,
            "max_height": null,
            "align_content": null,
            "visibility": null,
            "align_self": null,
            "height": null,
            "min_height": null,
            "padding": null,
            "grid_auto_rows": null,
            "grid_gap": null,
            "max_width": null,
            "order": null,
            "_view_module_version": "1.2.0",
            "grid_template_areas": null,
            "object_position": null,
            "object_fit": null,
            "grid_auto_columns": null,
            "margin": null,
            "display": null,
            "left": null
          }
        },
        "52f4d1d1d31f459ca4d31127263060ec": {
          "model_module": "@jupyter-widgets/controls",
          "model_name": "ProgressStyleModel",
          "model_module_version": "1.5.0",
          "state": {
            "_view_name": "StyleView",
            "_model_name": "ProgressStyleModel",
            "description_width": "",
            "_view_module": "@jupyter-widgets/base",
            "_model_module_version": "1.5.0",
            "_view_count": null,
            "_view_module_version": "1.2.0",
            "bar_color": null,
            "_model_module": "@jupyter-widgets/controls"
          }
        },
        "45ee705b749b4f7fbf1239aad72236a8": {
          "model_module": "@jupyter-widgets/base",
          "model_name": "LayoutModel",
          "model_module_version": "1.2.0",
          "state": {
            "_view_name": "LayoutView",
            "grid_template_rows": null,
            "right": null,
            "justify_content": null,
            "_view_module": "@jupyter-widgets/base",
            "overflow": null,
            "_model_module_version": "1.2.0",
            "_view_count": null,
            "flex_flow": null,
            "width": "20px",
            "min_width": null,
            "border": null,
            "align_items": null,
            "bottom": null,
            "_model_module": "@jupyter-widgets/base",
            "top": null,
            "grid_column": null,
            "overflow_y": null,
            "overflow_x": null,
            "grid_auto_flow": null,
            "grid_area": null,
            "grid_template_columns": null,
            "flex": null,
            "_model_name": "LayoutModel",
            "justify_items": null,
            "grid_row": null,
            "max_height": null,
            "align_content": null,
            "visibility": null,
            "align_self": null,
            "height": null,
            "min_height": null,
            "padding": null,
            "grid_auto_rows": null,
            "grid_gap": null,
            "max_width": null,
            "order": null,
            "_view_module_version": "1.2.0",
            "grid_template_areas": null,
            "object_position": null,
            "object_fit": null,
            "grid_auto_columns": null,
            "margin": null,
            "display": null,
            "left": null
          }
        },
        "e4e192f0677b47528c06530a0b06a80e": {
          "model_module": "@jupyter-widgets/controls",
          "model_name": "DescriptionStyleModel",
          "model_module_version": "1.5.0",
          "state": {
            "_view_name": "StyleView",
            "_model_name": "DescriptionStyleModel",
            "description_width": "",
            "_view_module": "@jupyter-widgets/base",
            "_model_module_version": "1.5.0",
            "_view_count": null,
            "_view_module_version": "1.2.0",
            "_model_module": "@jupyter-widgets/controls"
          }
        },
        "a7f9af4b971e4f14a5c9db206d1b4384": {
          "model_module": "@jupyter-widgets/base",
          "model_name": "LayoutModel",
          "model_module_version": "1.2.0",
          "state": {
            "_view_name": "LayoutView",
            "grid_template_rows": null,
            "right": null,
            "justify_content": null,
            "_view_module": "@jupyter-widgets/base",
            "overflow": null,
            "_model_module_version": "1.2.0",
            "_view_count": null,
            "flex_flow": null,
            "width": null,
            "min_width": null,
            "border": null,
            "align_items": null,
            "bottom": null,
            "_model_module": "@jupyter-widgets/base",
            "top": null,
            "grid_column": null,
            "overflow_y": null,
            "overflow_x": null,
            "grid_auto_flow": null,
            "grid_area": null,
            "grid_template_columns": null,
            "flex": null,
            "_model_name": "LayoutModel",
            "justify_items": null,
            "grid_row": null,
            "max_height": null,
            "align_content": null,
            "visibility": null,
            "align_self": null,
            "height": null,
            "min_height": null,
            "padding": null,
            "grid_auto_rows": null,
            "grid_gap": null,
            "max_width": null,
            "order": null,
            "_view_module_version": "1.2.0",
            "grid_template_areas": null,
            "object_position": null,
            "object_fit": null,
            "grid_auto_columns": null,
            "margin": null,
            "display": null,
            "left": null
          }
        },
        "aa16d382481f4bc9a3aabb9e6016fd6a": {
          "model_module": "@jupyter-widgets/controls",
          "model_name": "HBoxModel",
          "model_module_version": "1.5.0",
          "state": {
            "_view_name": "HBoxView",
            "_dom_classes": [],
            "_model_name": "HBoxModel",
            "_view_module": "@jupyter-widgets/controls",
            "_model_module_version": "1.5.0",
            "_view_count": null,
            "_view_module_version": "1.5.0",
            "box_style": "",
            "layout": "IPY_MODEL_ac6576453768495d91bc1acdd36c19e8",
            "_model_module": "@jupyter-widgets/controls",
            "children": [
              "IPY_MODEL_0b2ddc10fd5e4879b6c66cabf3cfd5fd",
              "IPY_MODEL_4ea7ab9a37e14d679b128216a19a8c2a",
              "IPY_MODEL_d42cb31aa6304cc1875bc41f3bab4235"
            ]
          }
        },
        "ac6576453768495d91bc1acdd36c19e8": {
          "model_module": "@jupyter-widgets/base",
          "model_name": "LayoutModel",
          "model_module_version": "1.2.0",
          "state": {
            "_view_name": "LayoutView",
            "grid_template_rows": null,
            "right": null,
            "justify_content": null,
            "_view_module": "@jupyter-widgets/base",
            "overflow": null,
            "_model_module_version": "1.2.0",
            "_view_count": null,
            "flex_flow": null,
            "width": null,
            "min_width": null,
            "border": null,
            "align_items": null,
            "bottom": null,
            "_model_module": "@jupyter-widgets/base",
            "top": null,
            "grid_column": null,
            "overflow_y": null,
            "overflow_x": null,
            "grid_auto_flow": null,
            "grid_area": null,
            "grid_template_columns": null,
            "flex": null,
            "_model_name": "LayoutModel",
            "justify_items": null,
            "grid_row": null,
            "max_height": null,
            "align_content": null,
            "visibility": null,
            "align_self": null,
            "height": null,
            "min_height": null,
            "padding": null,
            "grid_auto_rows": null,
            "grid_gap": null,
            "max_width": null,
            "order": null,
            "_view_module_version": "1.2.0",
            "grid_template_areas": null,
            "object_position": null,
            "object_fit": null,
            "grid_auto_columns": null,
            "margin": null,
            "display": null,
            "left": null
          }
        },
        "0b2ddc10fd5e4879b6c66cabf3cfd5fd": {
          "model_module": "@jupyter-widgets/controls",
          "model_name": "HTMLModel",
          "model_module_version": "1.5.0",
          "state": {
            "_view_name": "HTMLView",
            "style": "IPY_MODEL_0bd7289f3eef4ffbb68f8aceb54a7626",
            "_dom_classes": [],
            "description": "",
            "_model_name": "HTMLModel",
            "placeholder": "​",
            "_view_module": "@jupyter-widgets/controls",
            "_model_module_version": "1.5.0",
            "value": "",
            "_view_count": null,
            "_view_module_version": "1.5.0",
            "description_tooltip": null,
            "_model_module": "@jupyter-widgets/controls",
            "layout": "IPY_MODEL_138ce105cf0e4119ad0ecb92f6b9ab40"
          }
        },
        "4ea7ab9a37e14d679b128216a19a8c2a": {
          "model_module": "@jupyter-widgets/controls",
          "model_name": "FloatProgressModel",
          "model_module_version": "1.5.0",
          "state": {
            "_view_name": "ProgressView",
            "style": "IPY_MODEL_5b6f278f92a1450fa5ffed7ac7cb7b22",
            "_dom_classes": [],
            "description": "",
            "_model_name": "FloatProgressModel",
            "bar_style": "info",
            "max": 1,
            "_view_module": "@jupyter-widgets/controls",
            "_model_module_version": "1.5.0",
            "value": 1,
            "_view_count": null,
            "_view_module_version": "1.5.0",
            "orientation": "horizontal",
            "min": 0,
            "description_tooltip": null,
            "_model_module": "@jupyter-widgets/controls",
            "layout": "IPY_MODEL_1d471c086e7e4f9f9e71be570cdd08b7"
          }
        },
        "d42cb31aa6304cc1875bc41f3bab4235": {
          "model_module": "@jupyter-widgets/controls",
          "model_name": "HTMLModel",
          "model_module_version": "1.5.0",
          "state": {
            "_view_name": "HTMLView",
            "style": "IPY_MODEL_5cc7d1fe92ee406488f7b5cebb6d133d",
            "_dom_classes": [],
            "description": "",
            "_model_name": "HTMLModel",
            "placeholder": "​",
            "_view_module": "@jupyter-widgets/controls",
            "_model_module_version": "1.5.0",
            "value": " 10000/0 [00:00&lt;00:00, 12778.57 examples/s]",
            "_view_count": null,
            "_view_module_version": "1.5.0",
            "description_tooltip": null,
            "_model_module": "@jupyter-widgets/controls",
            "layout": "IPY_MODEL_a09d03ba93cc401989af077c7f2c2307"
          }
        },
        "0bd7289f3eef4ffbb68f8aceb54a7626": {
          "model_module": "@jupyter-widgets/controls",
          "model_name": "DescriptionStyleModel",
          "model_module_version": "1.5.0",
          "state": {
            "_view_name": "StyleView",
            "_model_name": "DescriptionStyleModel",
            "description_width": "",
            "_view_module": "@jupyter-widgets/base",
            "_model_module_version": "1.5.0",
            "_view_count": null,
            "_view_module_version": "1.2.0",
            "_model_module": "@jupyter-widgets/controls"
          }
        },
        "138ce105cf0e4119ad0ecb92f6b9ab40": {
          "model_module": "@jupyter-widgets/base",
          "model_name": "LayoutModel",
          "model_module_version": "1.2.0",
          "state": {
            "_view_name": "LayoutView",
            "grid_template_rows": null,
            "right": null,
            "justify_content": null,
            "_view_module": "@jupyter-widgets/base",
            "overflow": null,
            "_model_module_version": "1.2.0",
            "_view_count": null,
            "flex_flow": null,
            "width": null,
            "min_width": null,
            "border": null,
            "align_items": null,
            "bottom": null,
            "_model_module": "@jupyter-widgets/base",
            "top": null,
            "grid_column": null,
            "overflow_y": null,
            "overflow_x": null,
            "grid_auto_flow": null,
            "grid_area": null,
            "grid_template_columns": null,
            "flex": null,
            "_model_name": "LayoutModel",
            "justify_items": null,
            "grid_row": null,
            "max_height": null,
            "align_content": null,
            "visibility": null,
            "align_self": null,
            "height": null,
            "min_height": null,
            "padding": null,
            "grid_auto_rows": null,
            "grid_gap": null,
            "max_width": null,
            "order": null,
            "_view_module_version": "1.2.0",
            "grid_template_areas": null,
            "object_position": null,
            "object_fit": null,
            "grid_auto_columns": null,
            "margin": null,
            "display": null,
            "left": null
          }
        },
        "5b6f278f92a1450fa5ffed7ac7cb7b22": {
          "model_module": "@jupyter-widgets/controls",
          "model_name": "ProgressStyleModel",
          "model_module_version": "1.5.0",
          "state": {
            "_view_name": "StyleView",
            "_model_name": "ProgressStyleModel",
            "description_width": "",
            "_view_module": "@jupyter-widgets/base",
            "_model_module_version": "1.5.0",
            "_view_count": null,
            "_view_module_version": "1.2.0",
            "bar_color": null,
            "_model_module": "@jupyter-widgets/controls"
          }
        },
        "1d471c086e7e4f9f9e71be570cdd08b7": {
          "model_module": "@jupyter-widgets/base",
          "model_name": "LayoutModel",
          "model_module_version": "1.2.0",
          "state": {
            "_view_name": "LayoutView",
            "grid_template_rows": null,
            "right": null,
            "justify_content": null,
            "_view_module": "@jupyter-widgets/base",
            "overflow": null,
            "_model_module_version": "1.2.0",
            "_view_count": null,
            "flex_flow": null,
            "width": "20px",
            "min_width": null,
            "border": null,
            "align_items": null,
            "bottom": null,
            "_model_module": "@jupyter-widgets/base",
            "top": null,
            "grid_column": null,
            "overflow_y": null,
            "overflow_x": null,
            "grid_auto_flow": null,
            "grid_area": null,
            "grid_template_columns": null,
            "flex": null,
            "_model_name": "LayoutModel",
            "justify_items": null,
            "grid_row": null,
            "max_height": null,
            "align_content": null,
            "visibility": null,
            "align_self": null,
            "height": null,
            "min_height": null,
            "padding": null,
            "grid_auto_rows": null,
            "grid_gap": null,
            "max_width": null,
            "order": null,
            "_view_module_version": "1.2.0",
            "grid_template_areas": null,
            "object_position": null,
            "object_fit": null,
            "grid_auto_columns": null,
            "margin": null,
            "display": null,
            "left": null
          }
        },
        "5cc7d1fe92ee406488f7b5cebb6d133d": {
          "model_module": "@jupyter-widgets/controls",
          "model_name": "DescriptionStyleModel",
          "model_module_version": "1.5.0",
          "state": {
            "_view_name": "StyleView",
            "_model_name": "DescriptionStyleModel",
            "description_width": "",
            "_view_module": "@jupyter-widgets/base",
            "_model_module_version": "1.5.0",
            "_view_count": null,
            "_view_module_version": "1.2.0",
            "_model_module": "@jupyter-widgets/controls"
          }
        },
        "a09d03ba93cc401989af077c7f2c2307": {
          "model_module": "@jupyter-widgets/base",
          "model_name": "LayoutModel",
          "model_module_version": "1.2.0",
          "state": {
            "_view_name": "LayoutView",
            "grid_template_rows": null,
            "right": null,
            "justify_content": null,
            "_view_module": "@jupyter-widgets/base",
            "overflow": null,
            "_model_module_version": "1.2.0",
            "_view_count": null,
            "flex_flow": null,
            "width": null,
            "min_width": null,
            "border": null,
            "align_items": null,
            "bottom": null,
            "_model_module": "@jupyter-widgets/base",
            "top": null,
            "grid_column": null,
            "overflow_y": null,
            "overflow_x": null,
            "grid_auto_flow": null,
            "grid_area": null,
            "grid_template_columns": null,
            "flex": null,
            "_model_name": "LayoutModel",
            "justify_items": null,
            "grid_row": null,
            "max_height": null,
            "align_content": null,
            "visibility": null,
            "align_self": null,
            "height": null,
            "min_height": null,
            "padding": null,
            "grid_auto_rows": null,
            "grid_gap": null,
            "max_width": null,
            "order": null,
            "_view_module_version": "1.2.0",
            "grid_template_areas": null,
            "object_position": null,
            "object_fit": null,
            "grid_auto_columns": null,
            "margin": null,
            "display": null,
            "left": null
          }
        },
        "ab38cc9eb5fc4d57be2e4bc35eae5971": {
          "model_module": "@jupyter-widgets/controls",
          "model_name": "HBoxModel",
          "model_module_version": "1.5.0",
          "state": {
            "_view_name": "HBoxView",
            "_dom_classes": [],
            "_model_name": "HBoxModel",
            "_view_module": "@jupyter-widgets/controls",
            "_model_module_version": "1.5.0",
            "_view_count": null,
            "_view_module_version": "1.5.0",
            "box_style": "",
            "layout": "IPY_MODEL_67ada45306e5428ba8ae68671d82b588",
            "_model_module": "@jupyter-widgets/controls",
            "children": [
              "IPY_MODEL_abd083e1661443fd9e335da92853285e",
              "IPY_MODEL_653fffe6f9e44e56abd86f963cd9b268",
              "IPY_MODEL_163f5a5f01be4f65ab8953410826fad7"
            ]
          }
        },
        "67ada45306e5428ba8ae68671d82b588": {
          "model_module": "@jupyter-widgets/base",
          "model_name": "LayoutModel",
          "model_module_version": "1.2.0",
          "state": {
            "_view_name": "LayoutView",
            "grid_template_rows": null,
            "right": null,
            "justify_content": null,
            "_view_module": "@jupyter-widgets/base",
            "overflow": null,
            "_model_module_version": "1.2.0",
            "_view_count": null,
            "flex_flow": null,
            "width": null,
            "min_width": null,
            "border": null,
            "align_items": null,
            "bottom": null,
            "_model_module": "@jupyter-widgets/base",
            "top": null,
            "grid_column": null,
            "overflow_y": null,
            "overflow_x": null,
            "grid_auto_flow": null,
            "grid_area": null,
            "grid_template_columns": null,
            "flex": null,
            "_model_name": "LayoutModel",
            "justify_items": null,
            "grid_row": null,
            "max_height": null,
            "align_content": null,
            "visibility": null,
            "align_self": null,
            "height": null,
            "min_height": null,
            "padding": null,
            "grid_auto_rows": null,
            "grid_gap": null,
            "max_width": null,
            "order": null,
            "_view_module_version": "1.2.0",
            "grid_template_areas": null,
            "object_position": null,
            "object_fit": null,
            "grid_auto_columns": null,
            "margin": null,
            "display": null,
            "left": null
          }
        },
        "abd083e1661443fd9e335da92853285e": {
          "model_module": "@jupyter-widgets/controls",
          "model_name": "HTMLModel",
          "model_module_version": "1.5.0",
          "state": {
            "_view_name": "HTMLView",
            "style": "IPY_MODEL_4d98d68c0c6d444ca7c64886fd6cac1d",
            "_dom_classes": [],
            "description": "",
            "_model_name": "HTMLModel",
            "placeholder": "​",
            "_view_module": "@jupyter-widgets/controls",
            "_model_module_version": "1.5.0",
            "value": "100%",
            "_view_count": null,
            "_view_module_version": "1.5.0",
            "description_tooltip": null,
            "_model_module": "@jupyter-widgets/controls",
            "layout": "IPY_MODEL_59827e3437a149c6b72fddb6aac8a716"
          }
        },
        "653fffe6f9e44e56abd86f963cd9b268": {
          "model_module": "@jupyter-widgets/controls",
          "model_name": "FloatProgressModel",
          "model_module_version": "1.5.0",
          "state": {
            "_view_name": "ProgressView",
            "style": "IPY_MODEL_d7c35957b58344439a0f3848eeac0a88",
            "_dom_classes": [],
            "description": "",
            "_model_name": "FloatProgressModel",
            "bar_style": "success",
            "max": 2,
            "_view_module": "@jupyter-widgets/controls",
            "_model_module_version": "1.5.0",
            "value": 2,
            "_view_count": null,
            "_view_module_version": "1.5.0",
            "orientation": "horizontal",
            "min": 0,
            "description_tooltip": null,
            "_model_module": "@jupyter-widgets/controls",
            "layout": "IPY_MODEL_4f04ccf609a047d6b8b3fc214adafae3"
          }
        },
        "163f5a5f01be4f65ab8953410826fad7": {
          "model_module": "@jupyter-widgets/controls",
          "model_name": "HTMLModel",
          "model_module_version": "1.5.0",
          "state": {
            "_view_name": "HTMLView",
            "style": "IPY_MODEL_41be2459df284dd78625a916d6598d0b",
            "_dom_classes": [],
            "description": "",
            "_model_name": "HTMLModel",
            "placeholder": "​",
            "_view_module": "@jupyter-widgets/controls",
            "_model_module_version": "1.5.0",
            "value": " 2/2 [00:00&lt;00:00,  3.01it/s]",
            "_view_count": null,
            "_view_module_version": "1.5.0",
            "description_tooltip": null,
            "_model_module": "@jupyter-widgets/controls",
            "layout": "IPY_MODEL_a629c3b38bfc4d36ad1c4d18bac4c685"
          }
        },
        "4d98d68c0c6d444ca7c64886fd6cac1d": {
          "model_module": "@jupyter-widgets/controls",
          "model_name": "DescriptionStyleModel",
          "model_module_version": "1.5.0",
          "state": {
            "_view_name": "StyleView",
            "_model_name": "DescriptionStyleModel",
            "description_width": "",
            "_view_module": "@jupyter-widgets/base",
            "_model_module_version": "1.5.0",
            "_view_count": null,
            "_view_module_version": "1.2.0",
            "_model_module": "@jupyter-widgets/controls"
          }
        },
        "59827e3437a149c6b72fddb6aac8a716": {
          "model_module": "@jupyter-widgets/base",
          "model_name": "LayoutModel",
          "model_module_version": "1.2.0",
          "state": {
            "_view_name": "LayoutView",
            "grid_template_rows": null,
            "right": null,
            "justify_content": null,
            "_view_module": "@jupyter-widgets/base",
            "overflow": null,
            "_model_module_version": "1.2.0",
            "_view_count": null,
            "flex_flow": null,
            "width": null,
            "min_width": null,
            "border": null,
            "align_items": null,
            "bottom": null,
            "_model_module": "@jupyter-widgets/base",
            "top": null,
            "grid_column": null,
            "overflow_y": null,
            "overflow_x": null,
            "grid_auto_flow": null,
            "grid_area": null,
            "grid_template_columns": null,
            "flex": null,
            "_model_name": "LayoutModel",
            "justify_items": null,
            "grid_row": null,
            "max_height": null,
            "align_content": null,
            "visibility": null,
            "align_self": null,
            "height": null,
            "min_height": null,
            "padding": null,
            "grid_auto_rows": null,
            "grid_gap": null,
            "max_width": null,
            "order": null,
            "_view_module_version": "1.2.0",
            "grid_template_areas": null,
            "object_position": null,
            "object_fit": null,
            "grid_auto_columns": null,
            "margin": null,
            "display": null,
            "left": null
          }
        },
        "d7c35957b58344439a0f3848eeac0a88": {
          "model_module": "@jupyter-widgets/controls",
          "model_name": "ProgressStyleModel",
          "model_module_version": "1.5.0",
          "state": {
            "_view_name": "StyleView",
            "_model_name": "ProgressStyleModel",
            "description_width": "",
            "_view_module": "@jupyter-widgets/base",
            "_model_module_version": "1.5.0",
            "_view_count": null,
            "_view_module_version": "1.2.0",
            "bar_color": null,
            "_model_module": "@jupyter-widgets/controls"
          }
        },
        "4f04ccf609a047d6b8b3fc214adafae3": {
          "model_module": "@jupyter-widgets/base",
          "model_name": "LayoutModel",
          "model_module_version": "1.2.0",
          "state": {
            "_view_name": "LayoutView",
            "grid_template_rows": null,
            "right": null,
            "justify_content": null,
            "_view_module": "@jupyter-widgets/base",
            "overflow": null,
            "_model_module_version": "1.2.0",
            "_view_count": null,
            "flex_flow": null,
            "width": null,
            "min_width": null,
            "border": null,
            "align_items": null,
            "bottom": null,
            "_model_module": "@jupyter-widgets/base",
            "top": null,
            "grid_column": null,
            "overflow_y": null,
            "overflow_x": null,
            "grid_auto_flow": null,
            "grid_area": null,
            "grid_template_columns": null,
            "flex": null,
            "_model_name": "LayoutModel",
            "justify_items": null,
            "grid_row": null,
            "max_height": null,
            "align_content": null,
            "visibility": null,
            "align_self": null,
            "height": null,
            "min_height": null,
            "padding": null,
            "grid_auto_rows": null,
            "grid_gap": null,
            "max_width": null,
            "order": null,
            "_view_module_version": "1.2.0",
            "grid_template_areas": null,
            "object_position": null,
            "object_fit": null,
            "grid_auto_columns": null,
            "margin": null,
            "display": null,
            "left": null
          }
        },
        "41be2459df284dd78625a916d6598d0b": {
          "model_module": "@jupyter-widgets/controls",
          "model_name": "DescriptionStyleModel",
          "model_module_version": "1.5.0",
          "state": {
            "_view_name": "StyleView",
            "_model_name": "DescriptionStyleModel",
            "description_width": "",
            "_view_module": "@jupyter-widgets/base",
            "_model_module_version": "1.5.0",
            "_view_count": null,
            "_view_module_version": "1.2.0",
            "_model_module": "@jupyter-widgets/controls"
          }
        },
        "a629c3b38bfc4d36ad1c4d18bac4c685": {
          "model_module": "@jupyter-widgets/base",
          "model_name": "LayoutModel",
          "model_module_version": "1.2.0",
          "state": {
            "_view_name": "LayoutView",
            "grid_template_rows": null,
            "right": null,
            "justify_content": null,
            "_view_module": "@jupyter-widgets/base",
            "overflow": null,
            "_model_module_version": "1.2.0",
            "_view_count": null,
            "flex_flow": null,
            "width": null,
            "min_width": null,
            "border": null,
            "align_items": null,
            "bottom": null,
            "_model_module": "@jupyter-widgets/base",
            "top": null,
            "grid_column": null,
            "overflow_y": null,
            "overflow_x": null,
            "grid_auto_flow": null,
            "grid_area": null,
            "grid_template_columns": null,
            "flex": null,
            "_model_name": "LayoutModel",
            "justify_items": null,
            "grid_row": null,
            "max_height": null,
            "align_content": null,
            "visibility": null,
            "align_self": null,
            "height": null,
            "min_height": null,
            "padding": null,
            "grid_auto_rows": null,
            "grid_gap": null,
            "max_width": null,
            "order": null,
            "_view_module_version": "1.2.0",
            "grid_template_areas": null,
            "object_position": null,
            "object_fit": null,
            "grid_auto_columns": null,
            "margin": null,
            "display": null,
            "left": null
          }
        },
        "1aeb390f5c654312aee83e1fb8c0b972": {
          "model_module": "@jupyter-widgets/controls",
          "model_name": "HBoxModel",
          "model_module_version": "1.5.0",
          "state": {
            "_view_name": "HBoxView",
            "_dom_classes": [],
            "_model_name": "HBoxModel",
            "_view_module": "@jupyter-widgets/controls",
            "_model_module_version": "1.5.0",
            "_view_count": null,
            "_view_module_version": "1.5.0",
            "box_style": "",
            "layout": "IPY_MODEL_8868e8315c97467b8102a62c5907af39",
            "_model_module": "@jupyter-widgets/controls",
            "children": [
              "IPY_MODEL_cb2c16251ae44f20af04c83eba1dc901",
              "IPY_MODEL_e45f282482fc4c1fb1f7e9a5d6ef77c5",
              "IPY_MODEL_713ee2f3a5f04cb1ba5e6d04b72a5a47"
            ]
          }
        },
        "8868e8315c97467b8102a62c5907af39": {
          "model_module": "@jupyter-widgets/base",
          "model_name": "LayoutModel",
          "model_module_version": "1.2.0",
          "state": {
            "_view_name": "LayoutView",
            "grid_template_rows": null,
            "right": null,
            "justify_content": null,
            "_view_module": "@jupyter-widgets/base",
            "overflow": null,
            "_model_module_version": "1.2.0",
            "_view_count": null,
            "flex_flow": null,
            "width": null,
            "min_width": null,
            "border": null,
            "align_items": null,
            "bottom": null,
            "_model_module": "@jupyter-widgets/base",
            "top": null,
            "grid_column": null,
            "overflow_y": null,
            "overflow_x": null,
            "grid_auto_flow": null,
            "grid_area": null,
            "grid_template_columns": null,
            "flex": null,
            "_model_name": "LayoutModel",
            "justify_items": null,
            "grid_row": null,
            "max_height": null,
            "align_content": null,
            "visibility": null,
            "align_self": null,
            "height": null,
            "min_height": null,
            "padding": null,
            "grid_auto_rows": null,
            "grid_gap": null,
            "max_width": null,
            "order": null,
            "_view_module_version": "1.2.0",
            "grid_template_areas": null,
            "object_position": null,
            "object_fit": null,
            "grid_auto_columns": null,
            "margin": null,
            "display": null,
            "left": null
          }
        },
        "cb2c16251ae44f20af04c83eba1dc901": {
          "model_module": "@jupyter-widgets/controls",
          "model_name": "HTMLModel",
          "model_module_version": "1.5.0",
          "state": {
            "_view_name": "HTMLView",
            "style": "IPY_MODEL_e25b8fd81c6843f3b82596ab5d20cf05",
            "_dom_classes": [],
            "description": "",
            "_model_name": "HTMLModel",
            "placeholder": "​",
            "_view_module": "@jupyter-widgets/controls",
            "_model_module_version": "1.5.0",
            "value": "100%",
            "_view_count": null,
            "_view_module_version": "1.5.0",
            "description_tooltip": null,
            "_model_module": "@jupyter-widgets/controls",
            "layout": "IPY_MODEL_c877d018fcf4490ea40f1ac426f94bd6"
          }
        },
        "e45f282482fc4c1fb1f7e9a5d6ef77c5": {
          "model_module": "@jupyter-widgets/controls",
          "model_name": "FloatProgressModel",
          "model_module_version": "1.5.0",
          "state": {
            "_view_name": "ProgressView",
            "style": "IPY_MODEL_66d8f231290a4c7e822ecac56eb91154",
            "_dom_classes": [],
            "description": "",
            "_model_name": "FloatProgressModel",
            "bar_style": "success",
            "max": 88,
            "_view_module": "@jupyter-widgets/controls",
            "_model_module_version": "1.5.0",
            "value": 88,
            "_view_count": null,
            "_view_module_version": "1.5.0",
            "orientation": "horizontal",
            "min": 0,
            "description_tooltip": null,
            "_model_module": "@jupyter-widgets/controls",
            "layout": "IPY_MODEL_4cc4ae23577c4c9289b4f67cf1e6cc5a"
          }
        },
        "713ee2f3a5f04cb1ba5e6d04b72a5a47": {
          "model_module": "@jupyter-widgets/controls",
          "model_name": "HTMLModel",
          "model_module_version": "1.5.0",
          "state": {
            "_view_name": "HTMLView",
            "style": "IPY_MODEL_fcd3f86dcf454f73bb7eb6750d89ec52",
            "_dom_classes": [],
            "description": "",
            "_model_name": "HTMLModel",
            "placeholder": "​",
            "_view_module": "@jupyter-widgets/controls",
            "_model_module_version": "1.5.0",
            "value": " 88/88 [00:02&lt;00:00, 34.03ba/s]",
            "_view_count": null,
            "_view_module_version": "1.5.0",
            "description_tooltip": null,
            "_model_module": "@jupyter-widgets/controls",
            "layout": "IPY_MODEL_a74099ae88c3414ca97db384d5428390"
          }
        },
        "e25b8fd81c6843f3b82596ab5d20cf05": {
          "model_module": "@jupyter-widgets/controls",
          "model_name": "DescriptionStyleModel",
          "model_module_version": "1.5.0",
          "state": {
            "_view_name": "StyleView",
            "_model_name": "DescriptionStyleModel",
            "description_width": "",
            "_view_module": "@jupyter-widgets/base",
            "_model_module_version": "1.5.0",
            "_view_count": null,
            "_view_module_version": "1.2.0",
            "_model_module": "@jupyter-widgets/controls"
          }
        },
        "c877d018fcf4490ea40f1ac426f94bd6": {
          "model_module": "@jupyter-widgets/base",
          "model_name": "LayoutModel",
          "model_module_version": "1.2.0",
          "state": {
            "_view_name": "LayoutView",
            "grid_template_rows": null,
            "right": null,
            "justify_content": null,
            "_view_module": "@jupyter-widgets/base",
            "overflow": null,
            "_model_module_version": "1.2.0",
            "_view_count": null,
            "flex_flow": null,
            "width": null,
            "min_width": null,
            "border": null,
            "align_items": null,
            "bottom": null,
            "_model_module": "@jupyter-widgets/base",
            "top": null,
            "grid_column": null,
            "overflow_y": null,
            "overflow_x": null,
            "grid_auto_flow": null,
            "grid_area": null,
            "grid_template_columns": null,
            "flex": null,
            "_model_name": "LayoutModel",
            "justify_items": null,
            "grid_row": null,
            "max_height": null,
            "align_content": null,
            "visibility": null,
            "align_self": null,
            "height": null,
            "min_height": null,
            "padding": null,
            "grid_auto_rows": null,
            "grid_gap": null,
            "max_width": null,
            "order": null,
            "_view_module_version": "1.2.0",
            "grid_template_areas": null,
            "object_position": null,
            "object_fit": null,
            "grid_auto_columns": null,
            "margin": null,
            "display": null,
            "left": null
          }
        },
        "66d8f231290a4c7e822ecac56eb91154": {
          "model_module": "@jupyter-widgets/controls",
          "model_name": "ProgressStyleModel",
          "model_module_version": "1.5.0",
          "state": {
            "_view_name": "StyleView",
            "_model_name": "ProgressStyleModel",
            "description_width": "",
            "_view_module": "@jupyter-widgets/base",
            "_model_module_version": "1.5.0",
            "_view_count": null,
            "_view_module_version": "1.2.0",
            "bar_color": null,
            "_model_module": "@jupyter-widgets/controls"
          }
        },
        "4cc4ae23577c4c9289b4f67cf1e6cc5a": {
          "model_module": "@jupyter-widgets/base",
          "model_name": "LayoutModel",
          "model_module_version": "1.2.0",
          "state": {
            "_view_name": "LayoutView",
            "grid_template_rows": null,
            "right": null,
            "justify_content": null,
            "_view_module": "@jupyter-widgets/base",
            "overflow": null,
            "_model_module_version": "1.2.0",
            "_view_count": null,
            "flex_flow": null,
            "width": null,
            "min_width": null,
            "border": null,
            "align_items": null,
            "bottom": null,
            "_model_module": "@jupyter-widgets/base",
            "top": null,
            "grid_column": null,
            "overflow_y": null,
            "overflow_x": null,
            "grid_auto_flow": null,
            "grid_area": null,
            "grid_template_columns": null,
            "flex": null,
            "_model_name": "LayoutModel",
            "justify_items": null,
            "grid_row": null,
            "max_height": null,
            "align_content": null,
            "visibility": null,
            "align_self": null,
            "height": null,
            "min_height": null,
            "padding": null,
            "grid_auto_rows": null,
            "grid_gap": null,
            "max_width": null,
            "order": null,
            "_view_module_version": "1.2.0",
            "grid_template_areas": null,
            "object_position": null,
            "object_fit": null,
            "grid_auto_columns": null,
            "margin": null,
            "display": null,
            "left": null
          }
        },
        "fcd3f86dcf454f73bb7eb6750d89ec52": {
          "model_module": "@jupyter-widgets/controls",
          "model_name": "DescriptionStyleModel",
          "model_module_version": "1.5.0",
          "state": {
            "_view_name": "StyleView",
            "_model_name": "DescriptionStyleModel",
            "description_width": "",
            "_view_module": "@jupyter-widgets/base",
            "_model_module_version": "1.5.0",
            "_view_count": null,
            "_view_module_version": "1.2.0",
            "_model_module": "@jupyter-widgets/controls"
          }
        },
        "a74099ae88c3414ca97db384d5428390": {
          "model_module": "@jupyter-widgets/base",
          "model_name": "LayoutModel",
          "model_module_version": "1.2.0",
          "state": {
            "_view_name": "LayoutView",
            "grid_template_rows": null,
            "right": null,
            "justify_content": null,
            "_view_module": "@jupyter-widgets/base",
            "overflow": null,
            "_model_module_version": "1.2.0",
            "_view_count": null,
            "flex_flow": null,
            "width": null,
            "min_width": null,
            "border": null,
            "align_items": null,
            "bottom": null,
            "_model_module": "@jupyter-widgets/base",
            "top": null,
            "grid_column": null,
            "overflow_y": null,
            "overflow_x": null,
            "grid_auto_flow": null,
            "grid_area": null,
            "grid_template_columns": null,
            "flex": null,
            "_model_name": "LayoutModel",
            "justify_items": null,
            "grid_row": null,
            "max_height": null,
            "align_content": null,
            "visibility": null,
            "align_self": null,
            "height": null,
            "min_height": null,
            "padding": null,
            "grid_auto_rows": null,
            "grid_gap": null,
            "max_width": null,
            "order": null,
            "_view_module_version": "1.2.0",
            "grid_template_areas": null,
            "object_position": null,
            "object_fit": null,
            "grid_auto_columns": null,
            "margin": null,
            "display": null,
            "left": null
          }
        },
        "86c23ffe2e154af1b93d441fc1fa3423": {
          "model_module": "@jupyter-widgets/controls",
          "model_name": "HBoxModel",
          "model_module_version": "1.5.0",
          "state": {
            "_view_name": "HBoxView",
            "_dom_classes": [],
            "_model_name": "HBoxModel",
            "_view_module": "@jupyter-widgets/controls",
            "_model_module_version": "1.5.0",
            "_view_count": null,
            "_view_module_version": "1.5.0",
            "box_style": "",
            "layout": "IPY_MODEL_f1b1fe10ec3d4cb3ad57c3d0f44cc68a",
            "_model_module": "@jupyter-widgets/controls",
            "children": [
              "IPY_MODEL_f3aea11cb7754d2c8a3e490915bedc10",
              "IPY_MODEL_a4a4953b02db45db8e7e2c388d89f51f",
              "IPY_MODEL_f1652c6a404d4695a09e2470aad77161"
            ]
          }
        },
        "f1b1fe10ec3d4cb3ad57c3d0f44cc68a": {
          "model_module": "@jupyter-widgets/base",
          "model_name": "LayoutModel",
          "model_module_version": "1.2.0",
          "state": {
            "_view_name": "LayoutView",
            "grid_template_rows": null,
            "right": null,
            "justify_content": null,
            "_view_module": "@jupyter-widgets/base",
            "overflow": null,
            "_model_module_version": "1.2.0",
            "_view_count": null,
            "flex_flow": null,
            "width": null,
            "min_width": null,
            "border": null,
            "align_items": null,
            "bottom": null,
            "_model_module": "@jupyter-widgets/base",
            "top": null,
            "grid_column": null,
            "overflow_y": null,
            "overflow_x": null,
            "grid_auto_flow": null,
            "grid_area": null,
            "grid_template_columns": null,
            "flex": null,
            "_model_name": "LayoutModel",
            "justify_items": null,
            "grid_row": null,
            "max_height": null,
            "align_content": null,
            "visibility": null,
            "align_self": null,
            "height": null,
            "min_height": null,
            "padding": null,
            "grid_auto_rows": null,
            "grid_gap": null,
            "max_width": null,
            "order": null,
            "_view_module_version": "1.2.0",
            "grid_template_areas": null,
            "object_position": null,
            "object_fit": null,
            "grid_auto_columns": null,
            "margin": null,
            "display": null,
            "left": null
          }
        },
        "f3aea11cb7754d2c8a3e490915bedc10": {
          "model_module": "@jupyter-widgets/controls",
          "model_name": "HTMLModel",
          "model_module_version": "1.5.0",
          "state": {
            "_view_name": "HTMLView",
            "style": "IPY_MODEL_5a06dac1f4c24796a6420b1e14200dae",
            "_dom_classes": [],
            "description": "",
            "_model_name": "HTMLModel",
            "placeholder": "​",
            "_view_module": "@jupyter-widgets/controls",
            "_model_module_version": "1.5.0",
            "value": "100%",
            "_view_count": null,
            "_view_module_version": "1.5.0",
            "description_tooltip": null,
            "_model_module": "@jupyter-widgets/controls",
            "layout": "IPY_MODEL_2368d3e46a1c42849fa44f291aca9332"
          }
        },
        "a4a4953b02db45db8e7e2c388d89f51f": {
          "model_module": "@jupyter-widgets/controls",
          "model_name": "FloatProgressModel",
          "model_module_version": "1.5.0",
          "state": {
            "_view_name": "ProgressView",
            "style": "IPY_MODEL_00e44adfa3854b9e89d02a95461876c0",
            "_dom_classes": [],
            "description": "",
            "_model_name": "FloatProgressModel",
            "bar_style": "success",
            "max": 11,
            "_view_module": "@jupyter-widgets/controls",
            "_model_module_version": "1.5.0",
            "value": 11,
            "_view_count": null,
            "_view_module_version": "1.5.0",
            "orientation": "horizontal",
            "min": 0,
            "description_tooltip": null,
            "_model_module": "@jupyter-widgets/controls",
            "layout": "IPY_MODEL_b54ebf7245c84cacaf7f5c781a0eeb79"
          }
        },
        "f1652c6a404d4695a09e2470aad77161": {
          "model_module": "@jupyter-widgets/controls",
          "model_name": "HTMLModel",
          "model_module_version": "1.5.0",
          "state": {
            "_view_name": "HTMLView",
            "style": "IPY_MODEL_6ec4ee7f34cd43cbaed591c746aa39bd",
            "_dom_classes": [],
            "description": "",
            "_model_name": "HTMLModel",
            "placeholder": "​",
            "_view_module": "@jupyter-widgets/controls",
            "_model_module_version": "1.5.0",
            "value": " 11/11 [00:00&lt;00:00, 27.14ba/s]",
            "_view_count": null,
            "_view_module_version": "1.5.0",
            "description_tooltip": null,
            "_model_module": "@jupyter-widgets/controls",
            "layout": "IPY_MODEL_eb17cb96f311480cbb2a23947cbaeeed"
          }
        },
        "5a06dac1f4c24796a6420b1e14200dae": {
          "model_module": "@jupyter-widgets/controls",
          "model_name": "DescriptionStyleModel",
          "model_module_version": "1.5.0",
          "state": {
            "_view_name": "StyleView",
            "_model_name": "DescriptionStyleModel",
            "description_width": "",
            "_view_module": "@jupyter-widgets/base",
            "_model_module_version": "1.5.0",
            "_view_count": null,
            "_view_module_version": "1.2.0",
            "_model_module": "@jupyter-widgets/controls"
          }
        },
        "2368d3e46a1c42849fa44f291aca9332": {
          "model_module": "@jupyter-widgets/base",
          "model_name": "LayoutModel",
          "model_module_version": "1.2.0",
          "state": {
            "_view_name": "LayoutView",
            "grid_template_rows": null,
            "right": null,
            "justify_content": null,
            "_view_module": "@jupyter-widgets/base",
            "overflow": null,
            "_model_module_version": "1.2.0",
            "_view_count": null,
            "flex_flow": null,
            "width": null,
            "min_width": null,
            "border": null,
            "align_items": null,
            "bottom": null,
            "_model_module": "@jupyter-widgets/base",
            "top": null,
            "grid_column": null,
            "overflow_y": null,
            "overflow_x": null,
            "grid_auto_flow": null,
            "grid_area": null,
            "grid_template_columns": null,
            "flex": null,
            "_model_name": "LayoutModel",
            "justify_items": null,
            "grid_row": null,
            "max_height": null,
            "align_content": null,
            "visibility": null,
            "align_self": null,
            "height": null,
            "min_height": null,
            "padding": null,
            "grid_auto_rows": null,
            "grid_gap": null,
            "max_width": null,
            "order": null,
            "_view_module_version": "1.2.0",
            "grid_template_areas": null,
            "object_position": null,
            "object_fit": null,
            "grid_auto_columns": null,
            "margin": null,
            "display": null,
            "left": null
          }
        },
        "00e44adfa3854b9e89d02a95461876c0": {
          "model_module": "@jupyter-widgets/controls",
          "model_name": "ProgressStyleModel",
          "model_module_version": "1.5.0",
          "state": {
            "_view_name": "StyleView",
            "_model_name": "ProgressStyleModel",
            "description_width": "",
            "_view_module": "@jupyter-widgets/base",
            "_model_module_version": "1.5.0",
            "_view_count": null,
            "_view_module_version": "1.2.0",
            "bar_color": null,
            "_model_module": "@jupyter-widgets/controls"
          }
        },
        "b54ebf7245c84cacaf7f5c781a0eeb79": {
          "model_module": "@jupyter-widgets/base",
          "model_name": "LayoutModel",
          "model_module_version": "1.2.0",
          "state": {
            "_view_name": "LayoutView",
            "grid_template_rows": null,
            "right": null,
            "justify_content": null,
            "_view_module": "@jupyter-widgets/base",
            "overflow": null,
            "_model_module_version": "1.2.0",
            "_view_count": null,
            "flex_flow": null,
            "width": null,
            "min_width": null,
            "border": null,
            "align_items": null,
            "bottom": null,
            "_model_module": "@jupyter-widgets/base",
            "top": null,
            "grid_column": null,
            "overflow_y": null,
            "overflow_x": null,
            "grid_auto_flow": null,
            "grid_area": null,
            "grid_template_columns": null,
            "flex": null,
            "_model_name": "LayoutModel",
            "justify_items": null,
            "grid_row": null,
            "max_height": null,
            "align_content": null,
            "visibility": null,
            "align_self": null,
            "height": null,
            "min_height": null,
            "padding": null,
            "grid_auto_rows": null,
            "grid_gap": null,
            "max_width": null,
            "order": null,
            "_view_module_version": "1.2.0",
            "grid_template_areas": null,
            "object_position": null,
            "object_fit": null,
            "grid_auto_columns": null,
            "margin": null,
            "display": null,
            "left": null
          }
        },
        "6ec4ee7f34cd43cbaed591c746aa39bd": {
          "model_module": "@jupyter-widgets/controls",
          "model_name": "DescriptionStyleModel",
          "model_module_version": "1.5.0",
          "state": {
            "_view_name": "StyleView",
            "_model_name": "DescriptionStyleModel",
            "description_width": "",
            "_view_module": "@jupyter-widgets/base",
            "_model_module_version": "1.5.0",
            "_view_count": null,
            "_view_module_version": "1.2.0",
            "_model_module": "@jupyter-widgets/controls"
          }
        },
        "eb17cb96f311480cbb2a23947cbaeeed": {
          "model_module": "@jupyter-widgets/base",
          "model_name": "LayoutModel",
          "model_module_version": "1.2.0",
          "state": {
            "_view_name": "LayoutView",
            "grid_template_rows": null,
            "right": null,
            "justify_content": null,
            "_view_module": "@jupyter-widgets/base",
            "overflow": null,
            "_model_module_version": "1.2.0",
            "_view_count": null,
            "flex_flow": null,
            "width": null,
            "min_width": null,
            "border": null,
            "align_items": null,
            "bottom": null,
            "_model_module": "@jupyter-widgets/base",
            "top": null,
            "grid_column": null,
            "overflow_y": null,
            "overflow_x": null,
            "grid_auto_flow": null,
            "grid_area": null,
            "grid_template_columns": null,
            "flex": null,
            "_model_name": "LayoutModel",
            "justify_items": null,
            "grid_row": null,
            "max_height": null,
            "align_content": null,
            "visibility": null,
            "align_self": null,
            "height": null,
            "min_height": null,
            "padding": null,
            "grid_auto_rows": null,
            "grid_gap": null,
            "max_width": null,
            "order": null,
            "_view_module_version": "1.2.0",
            "grid_template_areas": null,
            "object_position": null,
            "object_fit": null,
            "grid_auto_columns": null,
            "margin": null,
            "display": null,
            "left": null
          }
        },
        "fd69ca39c13e4129996c7521aea01abe": {
          "model_module": "@jupyter-widgets/controls",
          "model_name": "HBoxModel",
          "model_module_version": "1.5.0",
          "state": {
            "_view_name": "HBoxView",
            "_dom_classes": [],
            "_model_name": "HBoxModel",
            "_view_module": "@jupyter-widgets/controls",
            "_model_module_version": "1.5.0",
            "_view_count": null,
            "_view_module_version": "1.5.0",
            "box_style": "",
            "layout": "IPY_MODEL_48cbd11202bd4bca926b6c9fea4b4649",
            "_model_module": "@jupyter-widgets/controls",
            "children": [
              "IPY_MODEL_4e984c3359484e8ca80edf7e7e25db7c",
              "IPY_MODEL_bafedd362f7e4997a8d8ba134a439709",
              "IPY_MODEL_1a4135c91f1a4451b2299eb461ceea4c"
            ]
          }
        },
        "48cbd11202bd4bca926b6c9fea4b4649": {
          "model_module": "@jupyter-widgets/base",
          "model_name": "LayoutModel",
          "model_module_version": "1.2.0",
          "state": {
            "_view_name": "LayoutView",
            "grid_template_rows": null,
            "right": null,
            "justify_content": null,
            "_view_module": "@jupyter-widgets/base",
            "overflow": null,
            "_model_module_version": "1.2.0",
            "_view_count": null,
            "flex_flow": null,
            "width": null,
            "min_width": null,
            "border": null,
            "align_items": null,
            "bottom": null,
            "_model_module": "@jupyter-widgets/base",
            "top": null,
            "grid_column": null,
            "overflow_y": null,
            "overflow_x": null,
            "grid_auto_flow": null,
            "grid_area": null,
            "grid_template_columns": null,
            "flex": null,
            "_model_name": "LayoutModel",
            "justify_items": null,
            "grid_row": null,
            "max_height": null,
            "align_content": null,
            "visibility": null,
            "align_self": null,
            "height": null,
            "min_height": null,
            "padding": null,
            "grid_auto_rows": null,
            "grid_gap": null,
            "max_width": null,
            "order": null,
            "_view_module_version": "1.2.0",
            "grid_template_areas": null,
            "object_position": null,
            "object_fit": null,
            "grid_auto_columns": null,
            "margin": null,
            "display": null,
            "left": null
          }
        },
        "4e984c3359484e8ca80edf7e7e25db7c": {
          "model_module": "@jupyter-widgets/controls",
          "model_name": "HTMLModel",
          "model_module_version": "1.5.0",
          "state": {
            "_view_name": "HTMLView",
            "style": "IPY_MODEL_b5a41b573d834fe395f12a30e9a4a71a",
            "_dom_classes": [],
            "description": "",
            "_model_name": "HTMLModel",
            "placeholder": "​",
            "_view_module": "@jupyter-widgets/controls",
            "_model_module_version": "1.5.0",
            "value": "100%",
            "_view_count": null,
            "_view_module_version": "1.5.0",
            "description_tooltip": null,
            "_model_module": "@jupyter-widgets/controls",
            "layout": "IPY_MODEL_6245c79b0df84e00a0d40c90e9212883"
          }
        },
        "bafedd362f7e4997a8d8ba134a439709": {
          "model_module": "@jupyter-widgets/controls",
          "model_name": "FloatProgressModel",
          "model_module_version": "1.5.0",
          "state": {
            "_view_name": "ProgressView",
            "style": "IPY_MODEL_cc88a099b9af4e629d6046eb389de15e",
            "_dom_classes": [],
            "description": "",
            "_model_name": "FloatProgressModel",
            "bar_style": "success",
            "max": 51,
            "_view_module": "@jupyter-widgets/controls",
            "_model_module_version": "1.5.0",
            "value": 51,
            "_view_count": null,
            "_view_module_version": "1.5.0",
            "orientation": "horizontal",
            "min": 0,
            "description_tooltip": null,
            "_model_module": "@jupyter-widgets/controls",
            "layout": "IPY_MODEL_01b2f33bb38b45848ca0ce1a2c4dde4e"
          }
        },
        "1a4135c91f1a4451b2299eb461ceea4c": {
          "model_module": "@jupyter-widgets/controls",
          "model_name": "HTMLModel",
          "model_module_version": "1.5.0",
          "state": {
            "_view_name": "HTMLView",
            "style": "IPY_MODEL_b264350096724cb49baa32245fed2d76",
            "_dom_classes": [],
            "description": "",
            "_model_name": "HTMLModel",
            "placeholder": "​",
            "_view_module": "@jupyter-widgets/controls",
            "_model_module_version": "1.5.0",
            "value": " 51/51 [00:26&lt;00:00,  2.03ba/s]",
            "_view_count": null,
            "_view_module_version": "1.5.0",
            "description_tooltip": null,
            "_model_module": "@jupyter-widgets/controls",
            "layout": "IPY_MODEL_6f64e642555f460b99cae38bd691b3f2"
          }
        },
        "b5a41b573d834fe395f12a30e9a4a71a": {
          "model_module": "@jupyter-widgets/controls",
          "model_name": "DescriptionStyleModel",
          "model_module_version": "1.5.0",
          "state": {
            "_view_name": "StyleView",
            "_model_name": "DescriptionStyleModel",
            "description_width": "",
            "_view_module": "@jupyter-widgets/base",
            "_model_module_version": "1.5.0",
            "_view_count": null,
            "_view_module_version": "1.2.0",
            "_model_module": "@jupyter-widgets/controls"
          }
        },
        "6245c79b0df84e00a0d40c90e9212883": {
          "model_module": "@jupyter-widgets/base",
          "model_name": "LayoutModel",
          "model_module_version": "1.2.0",
          "state": {
            "_view_name": "LayoutView",
            "grid_template_rows": null,
            "right": null,
            "justify_content": null,
            "_view_module": "@jupyter-widgets/base",
            "overflow": null,
            "_model_module_version": "1.2.0",
            "_view_count": null,
            "flex_flow": null,
            "width": null,
            "min_width": null,
            "border": null,
            "align_items": null,
            "bottom": null,
            "_model_module": "@jupyter-widgets/base",
            "top": null,
            "grid_column": null,
            "overflow_y": null,
            "overflow_x": null,
            "grid_auto_flow": null,
            "grid_area": null,
            "grid_template_columns": null,
            "flex": null,
            "_model_name": "LayoutModel",
            "justify_items": null,
            "grid_row": null,
            "max_height": null,
            "align_content": null,
            "visibility": null,
            "align_self": null,
            "height": null,
            "min_height": null,
            "padding": null,
            "grid_auto_rows": null,
            "grid_gap": null,
            "max_width": null,
            "order": null,
            "_view_module_version": "1.2.0",
            "grid_template_areas": null,
            "object_position": null,
            "object_fit": null,
            "grid_auto_columns": null,
            "margin": null,
            "display": null,
            "left": null
          }
        },
        "cc88a099b9af4e629d6046eb389de15e": {
          "model_module": "@jupyter-widgets/controls",
          "model_name": "ProgressStyleModel",
          "model_module_version": "1.5.0",
          "state": {
            "_view_name": "StyleView",
            "_model_name": "ProgressStyleModel",
            "description_width": "",
            "_view_module": "@jupyter-widgets/base",
            "_model_module_version": "1.5.0",
            "_view_count": null,
            "_view_module_version": "1.2.0",
            "bar_color": null,
            "_model_module": "@jupyter-widgets/controls"
          }
        },
        "01b2f33bb38b45848ca0ce1a2c4dde4e": {
          "model_module": "@jupyter-widgets/base",
          "model_name": "LayoutModel",
          "model_module_version": "1.2.0",
          "state": {
            "_view_name": "LayoutView",
            "grid_template_rows": null,
            "right": null,
            "justify_content": null,
            "_view_module": "@jupyter-widgets/base",
            "overflow": null,
            "_model_module_version": "1.2.0",
            "_view_count": null,
            "flex_flow": null,
            "width": null,
            "min_width": null,
            "border": null,
            "align_items": null,
            "bottom": null,
            "_model_module": "@jupyter-widgets/base",
            "top": null,
            "grid_column": null,
            "overflow_y": null,
            "overflow_x": null,
            "grid_auto_flow": null,
            "grid_area": null,
            "grid_template_columns": null,
            "flex": null,
            "_model_name": "LayoutModel",
            "justify_items": null,
            "grid_row": null,
            "max_height": null,
            "align_content": null,
            "visibility": null,
            "align_self": null,
            "height": null,
            "min_height": null,
            "padding": null,
            "grid_auto_rows": null,
            "grid_gap": null,
            "max_width": null,
            "order": null,
            "_view_module_version": "1.2.0",
            "grid_template_areas": null,
            "object_position": null,
            "object_fit": null,
            "grid_auto_columns": null,
            "margin": null,
            "display": null,
            "left": null
          }
        },
        "b264350096724cb49baa32245fed2d76": {
          "model_module": "@jupyter-widgets/controls",
          "model_name": "DescriptionStyleModel",
          "model_module_version": "1.5.0",
          "state": {
            "_view_name": "StyleView",
            "_model_name": "DescriptionStyleModel",
            "description_width": "",
            "_view_module": "@jupyter-widgets/base",
            "_model_module_version": "1.5.0",
            "_view_count": null,
            "_view_module_version": "1.2.0",
            "_model_module": "@jupyter-widgets/controls"
          }
        },
        "6f64e642555f460b99cae38bd691b3f2": {
          "model_module": "@jupyter-widgets/base",
          "model_name": "LayoutModel",
          "model_module_version": "1.2.0",
          "state": {
            "_view_name": "LayoutView",
            "grid_template_rows": null,
            "right": null,
            "justify_content": null,
            "_view_module": "@jupyter-widgets/base",
            "overflow": null,
            "_model_module_version": "1.2.0",
            "_view_count": null,
            "flex_flow": null,
            "width": null,
            "min_width": null,
            "border": null,
            "align_items": null,
            "bottom": null,
            "_model_module": "@jupyter-widgets/base",
            "top": null,
            "grid_column": null,
            "overflow_y": null,
            "overflow_x": null,
            "grid_auto_flow": null,
            "grid_area": null,
            "grid_template_columns": null,
            "flex": null,
            "_model_name": "LayoutModel",
            "justify_items": null,
            "grid_row": null,
            "max_height": null,
            "align_content": null,
            "visibility": null,
            "align_self": null,
            "height": null,
            "min_height": null,
            "padding": null,
            "grid_auto_rows": null,
            "grid_gap": null,
            "max_width": null,
            "order": null,
            "_view_module_version": "1.2.0",
            "grid_template_areas": null,
            "object_position": null,
            "object_fit": null,
            "grid_auto_columns": null,
            "margin": null,
            "display": null,
            "left": null
          }
        },
        "2fb54637574148f5b562c788ced5bacc": {
          "model_module": "@jupyter-widgets/controls",
          "model_name": "HBoxModel",
          "model_module_version": "1.5.0",
          "state": {
            "_view_name": "HBoxView",
            "_dom_classes": [],
            "_model_name": "HBoxModel",
            "_view_module": "@jupyter-widgets/controls",
            "_model_module_version": "1.5.0",
            "_view_count": null,
            "_view_module_version": "1.5.0",
            "box_style": "",
            "layout": "IPY_MODEL_8b1f15d1e9a9473ab611fcd2158f14a7",
            "_model_module": "@jupyter-widgets/controls",
            "children": [
              "IPY_MODEL_be3453a26cc64b7e9d1721ca3014b96c",
              "IPY_MODEL_ee7f4bbcffcf4d09a2b074a7724d3995",
              "IPY_MODEL_2fd00f3c08af4f07894627054d1bbfbd"
            ]
          }
        },
        "8b1f15d1e9a9473ab611fcd2158f14a7": {
          "model_module": "@jupyter-widgets/base",
          "model_name": "LayoutModel",
          "model_module_version": "1.2.0",
          "state": {
            "_view_name": "LayoutView",
            "grid_template_rows": null,
            "right": null,
            "justify_content": null,
            "_view_module": "@jupyter-widgets/base",
            "overflow": null,
            "_model_module_version": "1.2.0",
            "_view_count": null,
            "flex_flow": null,
            "width": null,
            "min_width": null,
            "border": null,
            "align_items": null,
            "bottom": null,
            "_model_module": "@jupyter-widgets/base",
            "top": null,
            "grid_column": null,
            "overflow_y": null,
            "overflow_x": null,
            "grid_auto_flow": null,
            "grid_area": null,
            "grid_template_columns": null,
            "flex": null,
            "_model_name": "LayoutModel",
            "justify_items": null,
            "grid_row": null,
            "max_height": null,
            "align_content": null,
            "visibility": null,
            "align_self": null,
            "height": null,
            "min_height": null,
            "padding": null,
            "grid_auto_rows": null,
            "grid_gap": null,
            "max_width": null,
            "order": null,
            "_view_module_version": "1.2.0",
            "grid_template_areas": null,
            "object_position": null,
            "object_fit": null,
            "grid_auto_columns": null,
            "margin": null,
            "display": null,
            "left": null
          }
        },
        "be3453a26cc64b7e9d1721ca3014b96c": {
          "model_module": "@jupyter-widgets/controls",
          "model_name": "HTMLModel",
          "model_module_version": "1.5.0",
          "state": {
            "_view_name": "HTMLView",
            "style": "IPY_MODEL_5f70fee793cd4f9491b8e4b1c49c7c70",
            "_dom_classes": [],
            "description": "",
            "_model_name": "HTMLModel",
            "placeholder": "​",
            "_view_module": "@jupyter-widgets/controls",
            "_model_module_version": "1.5.0",
            "value": "100%",
            "_view_count": null,
            "_view_module_version": "1.5.0",
            "description_tooltip": null,
            "_model_module": "@jupyter-widgets/controls",
            "layout": "IPY_MODEL_613bcc1e84704ec3875892a47a67f61b"
          }
        },
        "ee7f4bbcffcf4d09a2b074a7724d3995": {
          "model_module": "@jupyter-widgets/controls",
          "model_name": "FloatProgressModel",
          "model_module_version": "1.5.0",
          "state": {
            "_view_name": "ProgressView",
            "style": "IPY_MODEL_8c0bcf5f394a4e16a77c9aa0a85faa17",
            "_dom_classes": [],
            "description": "",
            "_model_name": "FloatProgressModel",
            "bar_style": "success",
            "max": 6,
            "_view_module": "@jupyter-widgets/controls",
            "_model_module_version": "1.5.0",
            "value": 6,
            "_view_count": null,
            "_view_module_version": "1.5.0",
            "orientation": "horizontal",
            "min": 0,
            "description_tooltip": null,
            "_model_module": "@jupyter-widgets/controls",
            "layout": "IPY_MODEL_6130c66f01e14662adef270d379139eb"
          }
        },
        "2fd00f3c08af4f07894627054d1bbfbd": {
          "model_module": "@jupyter-widgets/controls",
          "model_name": "HTMLModel",
          "model_module_version": "1.5.0",
          "state": {
            "_view_name": "HTMLView",
            "style": "IPY_MODEL_e5199dcd963b4604a17eadc5a1055c1b",
            "_dom_classes": [],
            "description": "",
            "_model_name": "HTMLModel",
            "placeholder": "​",
            "_view_module": "@jupyter-widgets/controls",
            "_model_module_version": "1.5.0",
            "value": " 6/6 [00:03&lt;00:00,  1.99ba/s]",
            "_view_count": null,
            "_view_module_version": "1.5.0",
            "description_tooltip": null,
            "_model_module": "@jupyter-widgets/controls",
            "layout": "IPY_MODEL_60d87c6cc4f84eaba4ba1ae58f6f9271"
          }
        },
        "5f70fee793cd4f9491b8e4b1c49c7c70": {
          "model_module": "@jupyter-widgets/controls",
          "model_name": "DescriptionStyleModel",
          "model_module_version": "1.5.0",
          "state": {
            "_view_name": "StyleView",
            "_model_name": "DescriptionStyleModel",
            "description_width": "",
            "_view_module": "@jupyter-widgets/base",
            "_model_module_version": "1.5.0",
            "_view_count": null,
            "_view_module_version": "1.2.0",
            "_model_module": "@jupyter-widgets/controls"
          }
        },
        "613bcc1e84704ec3875892a47a67f61b": {
          "model_module": "@jupyter-widgets/base",
          "model_name": "LayoutModel",
          "model_module_version": "1.2.0",
          "state": {
            "_view_name": "LayoutView",
            "grid_template_rows": null,
            "right": null,
            "justify_content": null,
            "_view_module": "@jupyter-widgets/base",
            "overflow": null,
            "_model_module_version": "1.2.0",
            "_view_count": null,
            "flex_flow": null,
            "width": null,
            "min_width": null,
            "border": null,
            "align_items": null,
            "bottom": null,
            "_model_module": "@jupyter-widgets/base",
            "top": null,
            "grid_column": null,
            "overflow_y": null,
            "overflow_x": null,
            "grid_auto_flow": null,
            "grid_area": null,
            "grid_template_columns": null,
            "flex": null,
            "_model_name": "LayoutModel",
            "justify_items": null,
            "grid_row": null,
            "max_height": null,
            "align_content": null,
            "visibility": null,
            "align_self": null,
            "height": null,
            "min_height": null,
            "padding": null,
            "grid_auto_rows": null,
            "grid_gap": null,
            "max_width": null,
            "order": null,
            "_view_module_version": "1.2.0",
            "grid_template_areas": null,
            "object_position": null,
            "object_fit": null,
            "grid_auto_columns": null,
            "margin": null,
            "display": null,
            "left": null
          }
        },
        "8c0bcf5f394a4e16a77c9aa0a85faa17": {
          "model_module": "@jupyter-widgets/controls",
          "model_name": "ProgressStyleModel",
          "model_module_version": "1.5.0",
          "state": {
            "_view_name": "StyleView",
            "_model_name": "ProgressStyleModel",
            "description_width": "",
            "_view_module": "@jupyter-widgets/base",
            "_model_module_version": "1.5.0",
            "_view_count": null,
            "_view_module_version": "1.2.0",
            "bar_color": null,
            "_model_module": "@jupyter-widgets/controls"
          }
        },
        "6130c66f01e14662adef270d379139eb": {
          "model_module": "@jupyter-widgets/base",
          "model_name": "LayoutModel",
          "model_module_version": "1.2.0",
          "state": {
            "_view_name": "LayoutView",
            "grid_template_rows": null,
            "right": null,
            "justify_content": null,
            "_view_module": "@jupyter-widgets/base",
            "overflow": null,
            "_model_module_version": "1.2.0",
            "_view_count": null,
            "flex_flow": null,
            "width": null,
            "min_width": null,
            "border": null,
            "align_items": null,
            "bottom": null,
            "_model_module": "@jupyter-widgets/base",
            "top": null,
            "grid_column": null,
            "overflow_y": null,
            "overflow_x": null,
            "grid_auto_flow": null,
            "grid_area": null,
            "grid_template_columns": null,
            "flex": null,
            "_model_name": "LayoutModel",
            "justify_items": null,
            "grid_row": null,
            "max_height": null,
            "align_content": null,
            "visibility": null,
            "align_self": null,
            "height": null,
            "min_height": null,
            "padding": null,
            "grid_auto_rows": null,
            "grid_gap": null,
            "max_width": null,
            "order": null,
            "_view_module_version": "1.2.0",
            "grid_template_areas": null,
            "object_position": null,
            "object_fit": null,
            "grid_auto_columns": null,
            "margin": null,
            "display": null,
            "left": null
          }
        },
        "e5199dcd963b4604a17eadc5a1055c1b": {
          "model_module": "@jupyter-widgets/controls",
          "model_name": "DescriptionStyleModel",
          "model_module_version": "1.5.0",
          "state": {
            "_view_name": "StyleView",
            "_model_name": "DescriptionStyleModel",
            "description_width": "",
            "_view_module": "@jupyter-widgets/base",
            "_model_module_version": "1.5.0",
            "_view_count": null,
            "_view_module_version": "1.2.0",
            "_model_module": "@jupyter-widgets/controls"
          }
        },
        "60d87c6cc4f84eaba4ba1ae58f6f9271": {
          "model_module": "@jupyter-widgets/base",
          "model_name": "LayoutModel",
          "model_module_version": "1.2.0",
          "state": {
            "_view_name": "LayoutView",
            "grid_template_rows": null,
            "right": null,
            "justify_content": null,
            "_view_module": "@jupyter-widgets/base",
            "overflow": null,
            "_model_module_version": "1.2.0",
            "_view_count": null,
            "flex_flow": null,
            "width": null,
            "min_width": null,
            "border": null,
            "align_items": null,
            "bottom": null,
            "_model_module": "@jupyter-widgets/base",
            "top": null,
            "grid_column": null,
            "overflow_y": null,
            "overflow_x": null,
            "grid_auto_flow": null,
            "grid_area": null,
            "grid_template_columns": null,
            "flex": null,
            "_model_name": "LayoutModel",
            "justify_items": null,
            "grid_row": null,
            "max_height": null,
            "align_content": null,
            "visibility": null,
            "align_self": null,
            "height": null,
            "min_height": null,
            "padding": null,
            "grid_auto_rows": null,
            "grid_gap": null,
            "max_width": null,
            "order": null,
            "_view_module_version": "1.2.0",
            "grid_template_areas": null,
            "object_position": null,
            "object_fit": null,
            "grid_auto_columns": null,
            "margin": null,
            "display": null,
            "left": null
          }
        }
      }
    }
  },
  "cells": [
    {
      "cell_type": "markdown",
      "metadata": {
        "id": "AJ_oBeLLoWMm"
      },
      "source": [
        ""
      ]
    },
    {
      "cell_type": "markdown",
      "metadata": {
        "id": "hYV4R-WgTquk"
      },
      "source": [
        "# Board Game Concierge: Answering Questions for Complex Board Games  \n",
        "## Fine-tuning DistilBERT Question-Answering on an unsupervised, small-domain corpus.  \n",
        "\n",
        "In the realm of complex board games, rules questions abound. A tool that simply answers a player's rules questions would be helpful. An NLP solution applied to this problem may be able to take advantage of a special circumstance of this realm: Questions themselves will only be asked of the exact text corpus that the fine-tuned model would be trained on. Thus, overfitting on the training corpus is good.\n",
        "\n",
        "TL;DR The models and methods presented below  don't work well enough yet to be a serious tool, but progress is encouraging. I look forward to further refinements.\n",
        "\n",
        " "
      ]
    },
    {
      "cell_type": "markdown",
      "metadata": {
        "id": "SfpgnClyodZO"
      },
      "source": [
        "## Overview\n",
        "We offer a raw demonstrate of the Board Game Concierge concept in this notebook with the 25k+ word-count rules of the board game High Frontier 4 All (base game). This notebook uses spaCy to isolate key game terms (keywords) and create a glossary, and then fine-tune the vanilla DistilBERT QA model to create a question answering facility, all to assist learning these rules.\n",
        "\n",
        "To this end, a major component of data cleaning is clearing out the rich and fascinating flavor text (of which there are about 5,000 words) which effectively contains no game rules, so that the model only trains on rules.  \n",
        "\n",
        "Raw rules files created by exporting text from pdf versions of game rules with (the rather ancient) Adobe Acrobat 9 Pro. Resulting text files apparently contained some esoteric encoding, so were then encoded as pure utf8."
      ]
    },
    {
      "cell_type": "code",
      "metadata": {
        "id": "cleRue4sAaVW"
      },
      "source": [
        "# Need huggingface's transformers and datasets\n",
        "!pip install transformers datasets"
      ],
      "execution_count": null,
      "outputs": []
    },
    {
      "cell_type": "code",
      "metadata": {
        "id": "oAfv3LaimJ8T"
      },
      "source": [
        "import os\n",
        "import pandas as pd\n",
        "from google.colab import files\n",
        "import re\n",
        "import spacy\n",
        "import matplotlib.pyplot as plt\n",
        "from transformers import AutoTokenizer, AutoModelForMaskedLM, AutoModelForQuestionAnswering\n",
        "from transformers import Trainer, TrainingArguments, DataCollatorForLanguageModeling, default_data_collator\n",
        "from transformers import pipeline\n",
        "from datasets import load_dataset, load_metric"
      ],
      "execution_count": 2,
      "outputs": []
    },
    {
      "cell_type": "markdown",
      "metadata": {
        "id": "Db2cs8iDc2yw"
      },
      "source": [
        "##Preprocessing Game Rules Text\n",
        "\n",
        "The first step to implementing the concierge for a new board game is preprocessing the rules text. The exact steps vary greatly depending on the starting qualities of the individual rules and the desired ending quality (i.e., effectiveness for training). Generally, we want to remove flavor text and build long passages (less than 512 tokens) of cohesive rules text as training examples.  \n",
        "\n",
        "In this notebook, we process the game rules for High Frontier 4 All  \n",
        "\n",
        "> High Frontier 4 All Core Rules   \n",
        "Copyright &copy; 2020 Ion Game Design & Sierra Madre Games  \n",
        "Lead Designer: Phil Eklund\n",
        "\n",
        "I intended to clean all the data in python, but threw in the towel and performed the following big & easy tasks in Notepad++...  \n",
        "* Removed title and document opening text\n",
        "* Removed end credits\n",
        "* Removed hyphens from words broken at new lines.  \n",
        "[*Note:* I could not figure out in python how to isolate broken-work hyphens from dozen other dashes.]\n",
        "* Replaced curly quotes (opening and closing) with straight ones.\n",
        "* Removed a handful of sidebar titles with no further text\n",
        "* Fixed multiple occurances of this mispelling: IRSU --> ISRU\n",
        "* Removed several new lines as noticed that served no purpose and followed no pattern (artifacts of pdf text export?)\n",
        "  * Removed entire footnotes #3, #17, #42, #45, #47 because they contained arbitrary new lines\n",
        "* Removed the \"Scale\" entry from glossary (quite lengthy and all flavor... but fascinating).\n",
        "* Made certain each glossary entry began with the entry name and period.\n",
        "* Encoded doc as UTF-8.  \n",
        "\n",
        "The following is performed in python (below)...  \n",
        "* Remove footnotes (all flavor text).\n",
        "* Remove footnote citations.\n",
        "* Replace tabs with spaces\n",
        "* Remove excess spaces\n",
        "* Remove excess new lines\n",
        "* Remove arbitrary new lines (from pdf text export?)\n",
        "* Merge headers (i.e. paragraphs with no verbs... as detected by spaCy) into the sentences that follow them\n",
        "* Remove extraneous inter-document references\n",
        "\n",
        "\n",
        "\n",
        "\n",
        "\n"
      ]
    },
    {
      "cell_type": "code",
      "metadata": {
        "colab": {
          "base_uri": "https://localhost:8080/",
          "height": 35
        },
        "id": "y6r5jjErl8fN",
        "outputId": "a932c399-4045-4dd2-aaf1-6ca16b1c9b29"
      },
      "source": [
        "# Start working on the core rules\n",
        "\n",
        "with open(r'HF4CoreRules_utf8.txt', 'r') as f:\n",
        "  f = f.read()\n",
        "\n",
        "f[:100]"
      ],
      "execution_count": 83,
      "outputs": [
        {
          "output_type": "execute_result",
          "data": {
            "application/vnd.google.colaboratory.intrinsic+json": {
              "type": "string"
            },
            "text/plain": [
              "'A. Introduction\\nThese Core rules (including the glossary at the end) comprise the base game, and are'"
            ]
          },
          "metadata": {},
          "execution_count": 83
        }
      ]
    },
    {
      "cell_type": "code",
      "metadata": {
        "colab": {
          "base_uri": "https://localhost:8080/"
        },
        "id": "5ZZFnFF6QPin",
        "outputId": "3bceede0-a5e3-44ae-98d7-ae17d88d6abe"
      },
      "source": [
        "# Isolate footnotes using regular expressions in order to remove them later\n",
        "\n",
        "p_footnote = re.compile(r\"\"\"\n",
        "    ([0-9]+)\\1                   # pair of back-to-back footnote indices (i.e., doubled up combination of digits)\n",
        "    \\s?                          # optional space before footnote title\n",
        "    [A-Z]{2,}[-|,|.|\\b]?\\s?      # first word of title, i.e., a 2+-letter, all-cap word followed by an optional separator plus an optional space\n",
        "    .+                           # text up to new line\n",
        "\"\"\", re.VERBOSE)\n",
        "footnotes = p_footnote.finditer(f)\n",
        "\n",
        "for note in [n for n in footnotes][:10]:\n",
        "  print(note.group())\n",
        "  print(note.span())\n",
        "\n",
        "# We see footnotes numbered 1-55 (i.e., less #42), looks good!\n",
        "# Note: A couple footnotes are followed by a little bit of legit rules text (which is removed) before the new line is reached, which is lost."
      ],
      "execution_count": 85,
      "outputs": [
        {
          "output_type": "stream",
          "name": "stdout",
          "text": [
            "11 WATER, THE KEY TO THE SOLAR SYSTEM. No place in space has resource value without a local supply of water, primarily for rocket propellant and \"exofuels\", but also for chemical and mineralogical processing, dust control, crops, and life support. Water is a storable and convenient source of hydrogen, the superior propellant for thermodynamic rockets. Water is a natural shield against energetic protons, kilo for kilo better than regolith or even metals. Finally, without recycling, each man-year requires 10 tonnes of water. (Although it is worth noting that human metabolisms convert carbohydrates plus oxygen into carbon dioxide and water, thus we are stoichiometrically net producers rather than consumers of water.) \n",
            "(841, 1565)\n",
            "22 WATER AVAILABILITY is greatest on worlds with icy cores, where simply injecting steam into a wellhole produces water. On drier worlds, where water only occurs as tiny ice crystals or hydrated silicates, the regolith would need to be crushed, sealed in a vessel at 1 atm, and cooked to 700 K to extract water as vapor. The vapor is then liquified by cooling to 280 K and separating solids and gases. The liquid water (some of which is recycled to the first step) is degassed briefly in a vacuum to remove dissolved gasses, and placed in storage. Assuming 4% water content in 70% of the top 2 meters of regolith, four tonnes of regolith must be scavenged to obtain 120 kg/day of water. In one year, one game FT is extracted from an excavated area of about 1100 m2 (about 24 X 24 meters). —Lewis et al., Resources of Near-Earth Space, 1993.\n",
            "(4783, 5623)\n",
            "44 RAD-HARDNESS is rated on the accumulated dosage of environmental radiation a piece of equipment can survive, as measured in krad (Si). 1 krad (Si) = 10 J/kg of silicon. The chief radiation hazards are high energy protons from CMEs (Coronal Mass Ejections) and radiation belts (electrons & gammas are more easily shielded). Both sources of protons increase 1000X after a major solar event. Electronics and photovoltaic cells are particularly affected. Because shielding beyond a centimeter of aluminum has little effect, the rad-hardness of electronics is improved by using circuits that do not readily latch-up or upset, and guarded by error-correcting and watchdog timers. Such circuits include Radiation Hard CMOS and AsGa circuits, with rad-hardness 5 (about a Mrad).\n",
            "(7189, 7962)\n",
            "55 AQUAS are 40 tonne tanks of water propellant orbiting in LEO. Boosting out of Earth’s 9.5 km/sec gravity well puts orbital water at the same price per kilo as gold! The Russian Proton boosts at $4000/kg, and the Shuttle boosted at $10,000/kg. For half the delta-v (required change in spacecraft velocity), a rocket tanker can haul ISRU water to LEO from the martian moons or NEAs (Near Earth Asteroids). Water is valuable in LEO, which is drier than the Sahara. People get thirsty, but at least human water needs can be recycled. A rocket is far more thirsty than 100 people, and the water it consumes is lost forever. \n",
            "(8463, 9085)\n",
            "66 ROCKET SCIENCE mainly concerns getting propellant to intercept fuel energy efficiently. This energy is usually radiation and energetic particles from chemical or nuclear reactions. Lines and windows characterize the opacity of a propellant across a radiation spectrum; lines are where the radiation is absorbed and windows are where the radiation gets through. Dirty reactions are those that generate products that are not easily absorbed by water or hydrogen propellant. This deals a double whammy: not only is escaping radiation wasted, but it also creates waste heat that must be rejected by radiators (other than radiation passing directly into space; for instance, half of proton-antiproton energy escapes via neutrinos). Examples of dirty reactions are high neutron fission, D-T fusion, and antimatter reactions. Clean reactions include chemical rockets and aneutronic fusion like 3He-D and H-B.\n",
            "(9203, 10107)\n",
            "77 THE HIGH FRONTIER MAP divides space into two topographies: circumplanetary lander burns (steep gravity wells around planets), and interplanetary Hohmanns (shallow heliocentric gravity fields). It scales to energy, not distance! Note that each Space represents a stable orbit, so rockets do not \"drift\". To change orbits, you must achieve a \"velocity increment\" that costs mass and energy. \n",
            "(11438, 11830)\n",
            "88 HYDRATION. For worlds in the Jupiter zone and beyond, surface ice is common since it won’t sublimate if shielded from solar heat. Some of the larger outer worlds, like Ceres, Ganymede, and Europa, have polar ice caps and may have subterranean oceans. The D-type asteroids, common in the Trojans and other outer reaches, have never been hot enough to chemically bind their water to minerals, and their water may be still be sequestered as primal icy cores. Closer in, solar heat has bound the water of C- and W-types into hydrated silicates and clays. (Hertha and Lutetia are actually W-type, and not M-type as stated on the map.) A few main-belt \"asteroids\" are active comets like 133P/Elst-Pizarro. These must have lost their surface volatiles long ago, but were \"revived\" by recent collisions that exposed buried ices. M-, S-, and V-types are drier, but the larger ones may have primeval water protected by a permafrost layer. The moons of Earth and Mars, while anhydrous on the surface, may have buried ice crystals in the polar regions, or in places impacted by aqueous comets or asteroids. Missions such as the 2009 LCROSS impactor suggest water ice lies in the south lunar pole. One can find ice even on Mercury, in permanent shadows on the north pole.\n",
            "(12531, 13792)\n",
            "99 SUBSURFACE OCEANS. Some icy worlds may have liquid water underneath the ice, heated by radioactivity or tidal kneading. Pockets of volcanic gases floating in the water under the ice may be suitable places to establish submarine bases.\n",
            "(13900, 14137)\n",
            "1010 HOHMANN TRANSFER. If a rocket in a circular orbit makes an impulsive thrust in any direction, it flies into an elliptical orbit. By thrusting again at the extreme limit (periapsis or apoapsis) of this ellipse, it can enter a destination orbit either higher (superior) or lower (inferior) than its starting one. This elliptical route, requiring a high thrust at each end and a lot of coasting in-between, is called a Hohmann transfer. The Hohmann is usually the trajectory requiring the lowest delta-v to reach a destination orbit. The routes on the map are modeled on Hohmann ellipses. The Hohmann requires that the destination and embarkation bodies be close to opposition (at opposite sides of Sol). Therefore, the launch windows for a Hohmann can be considerable, varying from 3.5 months for Earth-Mercury, to just under 6 years for Earth-Saturn. The Hohmann transfer is illustrated in the Appendix (W3.Q5). \n",
            "(14444, 15360)\n",
            "1111 LAGRANGE POINTS. In any two-world orbital system (like the Earth-Luna system shown), there are five points where very little or no energy is required for a spacecraft to maintain formation with both worlds. These points, called Lagrange Points, are denoted L1 through L5. They are analogous to GEO in that they allow a satellite to be in a \"fixed\" position, with no \"launch windows\" within the system. Even more significant, Lagrange Points are embarkation spots for the Interplanetary Transit Network. Of the five points, L4 and L5 are the only stable ones. \n",
            "(15588, 16152)\n"
          ]
        }
      ]
    },
    {
      "cell_type": "code",
      "metadata": {
        "colab": {
          "base_uri": "https://localhost:8080/"
        },
        "id": "hcuv3tXmE_Ra",
        "outputId": "5ade2eba-1773-4804-94cb-fe76d29e5437"
      },
      "source": [
        "# Delete selected footnotes\n",
        "\n",
        "print('BEFORE REMOVING FOOTNOTES:\\n', f[800:2000], '\\n\\n')\n",
        "f_defoot = p_footnote.sub(' ', f)\n",
        "print('AFTER REMOVING FOOTNOTES:\\n', f_defoot[800:2000])\n",
        "\n",
        "# Now we see a footnote citation (\"- Glenn Macpherson,...\") that would be easy enough to isolate and remove with RE"
      ],
      "execution_count": 7,
      "outputs": [
        {
          "output_type": "stream",
          "name": "stdout",
          "text": [
            "BEFORE REMOVING FOOTNOTES:\n",
            " as money (\"Aqua\") if shipped back to LEO.11 WATER, THE KEY TO THE SOLAR SYSTEM. No place in space has resource value without a local supply of water, primarily for rocket propellant and \"exofuels\", but also for chemical and mineralogical processing, dust control, crops, and life support. Water is a storable and convenient source of hydrogen, the superior propellant for thermodynamic rockets. Water is a natural shield against energetic protons, kilo for kilo better than regolith or even metals. Finally, without recycling, each man-year requires 10 tonnes of water. (Although it is worth noting that human metabolisms convert carbohydrates plus oxygen into carbon dioxide and water, thus we are stoichiometrically net producers rather than consumers of water.) \n",
            "— Glenn MacPherson, Oxygen in the Solar System, Lunar & Planetary Institute, 2008. \n",
            " \n",
            "a.\tCore Game Victory. At the end of 48 years (48 Turns per player), the winner is the player with the highest victory point (VP) total. \n",
            "b.\tSunspot Cycles. Each Turn in High Frontier is one year, and the length of a game is measured in Sunspot Cycles of 12 years. Thus the standard Core Game described above is 4 Sunspot Cycles, Core Game plus Modu \n",
            "\n",
            "\n",
            "AFTER REMOVING FOOTNOTES:\n",
            " as money (\"Aqua\") if shipped back to LEO. \n",
            "— Glenn MacPherson, Oxygen in the Solar System, Lunar & Planetary Institute, 2008. \n",
            " \n",
            "a.\tCore Game Victory. At the end of 48 years (48 Turns per player), the winner is the player with the highest victory point (VP) total. \n",
            "b.\tSunspot Cycles. Each Turn in High Frontier is one year, and the length of a game is measured in Sunspot Cycles of 12 years. Thus the standard Core Game described above is 4 Sunspot Cycles, Core Game plus Modules 1 and/or 2 is 5 Sunspot Cycles, and Core Game plus Modules 1, 2, and Futures is 7 Sunspot Cycles.\n",
            "A2. Metarules \n",
            "a.\tTerms being defined are listed in bold, or italicized if defined elsewhere. Capitalized terms are defined in the glossary. These terms are general ones that appear throughout the process-oriented rules (next bullet). \n",
            "EXAMPLE [A2a]\n",
            "\n",
            "\n",
            "In general, VP are scored for off-world Claims and Factories, the stock price of industrialized Sites, and glories (exploration achievements). \n",
            "\n",
            "\n",
            "b.\tSequential Processes are presented in the order listed in the sequence of play, and are introduced by a simple overview followed by specific bullets.\n",
            "c.\tThe Golden Rule. If the text on a card, scenario, tutorial, or vari\n"
          ]
        }
      ]
    },
    {
      "cell_type": "code",
      "metadata": {
        "colab": {
          "base_uri": "https://localhost:8080/"
        },
        "id": "XJNSpK_Bp9DP",
        "outputId": "6ae839f0-c43d-4dce-9e63-6b25f36366d7"
      },
      "source": [
        "# Isolate footnote citations\n",
        "\n",
        "p_citation = re.compile(r\"\"\"\n",
        "    —        # big dash [I think n- and m-dashes both converted to this thing during upload]\n",
        "    \\s?      # optional space\n",
        "    .+?      # text (non-greedily) up to next required element (comma)\n",
        "    ,        # comma\n",
        "    .+       # text up to new line\n",
        "\"\"\", re.VERBOSE)\n",
        "\n",
        "citations = p_citation.finditer(f_defoot)\n",
        "\n",
        "for cite in citations:\n",
        "  print(cite.group())\n",
        "  print(cite.span())\n",
        "\n",
        "# 5 citations found"
      ],
      "execution_count": 8,
      "outputs": [
        {
          "output_type": "stream",
          "name": "stdout",
          "text": [
            "— Glenn MacPherson, Oxygen in the Solar System, Lunar & Planetary Institute, 2008. \n",
            "(843, 926)\n",
            "—Namrata Goswami, China’s grand strategy in outer space: to establish compelling standards of behavior, 2019.\n",
            "(35099, 35208)\n",
            "—Ruslan Belikov, NASA Ames, personal communication, 2020.\n",
            "(43632, 43689)\n",
            "—Hepp, Landis, Kubiak, Carbon Dioxide Utilization on Mars, 1993.\n",
            "(52933, 52997)\n",
            "—JED Cline, The Mooncable: A Profitable Space Transportation System, 1972.\n",
            "(93992, 94066)\n"
          ]
        }
      ]
    },
    {
      "cell_type": "code",
      "metadata": {
        "colab": {
          "base_uri": "https://localhost:8080/"
        },
        "id": "llstaXIlrRbR",
        "outputId": "c9b89cd1-0b68-44aa-d3a9-b7170658fb42"
      },
      "source": [
        "# Delete selected footnote citations\n",
        "\n",
        "print('BEFORE REMOVING CITATIONS:\\n', f_defoot[800:1000], '\\n\\n')\n",
        "f_defoot = p_citation.sub(' ', f_defoot)\n",
        "print('AFTER REMOVING CITATIONS:\\n', f_defoot[800:1000])"
      ],
      "execution_count": 9,
      "outputs": [
        {
          "output_type": "stream",
          "name": "stdout",
          "text": [
            "BEFORE REMOVING CITATIONS:\n",
            " as money (\"Aqua\") if shipped back to LEO. \n",
            "— Glenn MacPherson, Oxygen in the Solar System, Lunar & Planetary Institute, 2008. \n",
            " \n",
            "a.\tCore Game Victory. At the end of 48 years (48 Turns per player), the \n",
            "\n",
            "\n",
            "AFTER REMOVING CITATIONS:\n",
            " as money (\"Aqua\") if shipped back to LEO. \n",
            " \n",
            " \n",
            "a.\tCore Game Victory. At the end of 48 years (48 Turns per player), the winner is the player with the highest victory point (VP) total. \n",
            "b.\tSunspot Cycle\n"
          ]
        }
      ]
    },
    {
      "cell_type": "code",
      "metadata": {
        "id": "y8AmJt3w5XdL"
      },
      "source": [
        "# Replace tabs with spaces\n",
        "f_defoot = f_defoot.replace('\\t', ' ')\n",
        "\n",
        "# Remove excess spaces\n",
        "f_defoot = re.sub(' {2,}', ' ', f_defoot)\n",
        "\n",
        "# Remove excess new lines\n",
        "f_defoot = re.sub('\\n{2,}', '\\n', f_defoot)\n",
        "\n",
        "# Replace space + new line + space with space (fixing artifact of export from pdf)\n",
        "f_defoot = re.sub(' \\n ', ' ', f_defoot)"
      ],
      "execution_count": 10,
      "outputs": []
    },
    {
      "cell_type": "code",
      "metadata": {
        "colab": {
          "base_uri": "https://localhost:8080/"
        },
        "id": "-bzukCz-g5aS",
        "outputId": "58285cde-aae2-44a8-ad4b-f738481ed88a"
      },
      "source": [
        "\"\"\"\n",
        "This cell is a little tool for manually pasting in a string, and returning how spaCy identifies the parts of speech therein\n",
        "\"\"\"\n",
        "\n",
        "pos = spacy.load('en_core_web_sm')\n",
        "doc = pos('B5. Solar System Charts')\n",
        "for token in doc:\n",
        "  print(token.text, token.pos_, token.tag_)"
      ],
      "execution_count": 11,
      "outputs": [
        {
          "output_type": "stream",
          "name": "stdout",
          "text": [
            "B5 PROPN NNP\n",
            ". PUNCT .\n",
            "Solar ADJ JJ\n",
            "System NOUN NN\n",
            "Charts VERB VBZ\n"
          ]
        }
      ]
    },
    {
      "cell_type": "code",
      "metadata": {
        "colab": {
          "base_uri": "https://localhost:8080/"
        },
        "id": "Sb0RWzEqq_96",
        "outputId": "1e45109b-5a4a-4fbc-b740-41f0cc9cc4f1"
      },
      "source": [
        "\"\"\"\n",
        "Merge Headers\n",
        "Append each header (i.e., each paragraph with no verb) to the sentence in front of it.\n",
        "Use the spaCy nlp model 'en_core_web_sm' to determine if a given paragraph has a verb or not.\n",
        "\"\"\"\n",
        "\n",
        "def contains_verb(string, spacy_model):\n",
        "  tokens = spacy_model(string)\n",
        "  for t in tokens:\n",
        "    if (t.pos_, t.tag_) in [\n",
        "                             ('AUX', 'VBD'),\n",
        "                             ('AUX', 'VBP'),\n",
        "                             ('AUX', 'VBZ'),\n",
        "                             ('AUX', 'VB'),\n",
        "                             ('VERB', 'VBP'),\n",
        "                             ('VERB', 'VBD'),\n",
        "                             ('VERB', 'VBZ'),\n",
        "                             ('VERB', 'VB'),\n",
        "                           ]:\n",
        "      return True\n",
        "  return False\n",
        "\n",
        "spacy_model = spacy.load('en_core_web_sm')\n",
        "paragraphs = f_defoot.split('\\n')\n",
        "\n",
        "f_headsMerged = []       # This is the corpus updated with merged headers\n",
        "headers = []             # This list is just the headers, provides a quick look at what is being identified\n",
        "header = ''\n",
        "for p in paragraphs:\n",
        "  if contains_verb(p, spacy_model):\n",
        "    f_headsMerged.append(header + p)\n",
        "    header = ''\n",
        "  else:\n",
        "    p = p.strip('.: ') + '. '    # clean up headers (stnadardize with trailing period and space)\n",
        "    headers.append(p)\n",
        "    header = header + p     # Note: Adjacent header paragraphs are concantenated into a single header\n",
        "\n",
        "print('Original paragraph count:', len(paragraphs), '\\nAfter merging headers:', len(f_headsMerged), '\\n')\n",
        "for h in headers[:20]:\n",
        "  print(h)\n",
        "\n",
        "# Investigating the entire headers list reveals a half dozen or so paragraphs with verbs that spaCy incorrectly identified as having no verbs.\n",
        "# The purpose of merging headers is to simply partner the great majority of disparate headers with an associated sentence to facilitate training.\n",
        "# A few paragraph pairs grouped into a single paragraph is not a problem (particularly how the one with no identified verbs will likely be short)."
      ],
      "execution_count": 12,
      "outputs": [
        {
          "output_type": "stream",
          "name": "stdout",
          "text": [
            "Original paragraph count: 1060 \n",
            "After merging headers: 809 \n",
            "\n",
            "A. Introduction. \n",
            "A1. Core Overview. \n",
            ". \n",
            "A2. Metarules. \n",
            "EXAMPLE [A2a]. \n",
            "A3. Introductory Games. \n",
            "B. Components & Anatomies. \n",
            "B1. Component List. \n",
            "B2. Patent Cards. \n",
            "( J3a). \n",
            "j. Rad-Hardness. Resistance to solar flares ( K2d), and Radiation Belts ( H10). \n",
            "B3. Glory & Heroism Chits. \n",
            "B4. Playmats. \n",
            "B6. Crew Cards. \n",
            "b. Faction Ideology. (Module 0). Used for placing delegates (O2c). \n",
            "B7. Solar System Map. \n",
            "B8. Tokens. \n",
            "C. Core Setup. \n",
            "C1. Seniority Disk Placement. \n",
            "C2. Assign Factions & Crew. \n"
          ]
        }
      ]
    },
    {
      "cell_type": "code",
      "metadata": {
        "colab": {
          "base_uri": "https://localhost:8080/"
        },
        "id": "vnL-hGVj52Zo",
        "outputId": "10919024-1a41-4355-b1ce-3370c8a71c9d"
      },
      "source": [
        "\"\"\"\n",
        "We can see how headers are prepended to paragraphs.\n",
        "Of course, not ever paragraph with a verb is preceded by a header.\n",
        "\"\"\"\n",
        "\n",
        "f_headsMerged[200:220]\n",
        "\n",
        "# Looking at the first 40 lines of f_headsMerged, we can see an error from spaCy POS where a noun is incorrectly\n",
        "# identified as a verb (Charts in 'B5. Solar System Charts'), thus an actual header is not merged with the parapraph following it.\n",
        "# Occasional errors like this are probably not worth fixing."
      ],
      "execution_count": 87,
      "outputs": [
        {
          "output_type": "execute_result",
          "data": {
            "text/plain": [
              "['EXAMPLE [H3b]. A Rocket with a Dry Mass of 7 and a Wet Mass of 8½ is transport class (Wet Mass thrust modifier of -1). If its thruster has a base thrust of 1, its net thrust is 1 - 1 = 0. It can only coast with zero thrust, so it jettisons one step of Fuel to bring it to scout class (Wet Mass 8). This class has a Wet Mass modifier of 0, allowing it to move. ',\n",
              " 'c. Solar-Power Modifier. If the thruster or any card in its support chain has the solar-powered icon ( J5b), increase or decrease the net thrust depending on which Heliocentric Zone it’s in (-5 to +2, as indicated on the map). • Multiple Solar Modifiers. This modifier only applies once regardless of the amount of solar icons in the support chain. • Neptune Solar. Solar-Powered Cards are non-operational in the Neptune J Heliocentric Zone (B7g), unless they get a push (next bullet). If so, thrust has a -6 modifier.',\n",
              " 'EXAMPLE [H3c]. Your Rocket has a mass driver (4•3) activated, which is powered by a solar-powered generator (flywheel compulsator).Around Mercury, the thrust is boosted to 6, but around Ceres, it drops to 2. Around Pluto, it stops altogether. ',\n",
              " 'd. Beamed-Power Modifier. If your activated thrust triangle has the \"push\" icon, either you or any negotiation partner (N4a) with the Powersat Ability/faction privilege, or with a Factory on a Site with the push icon, (as ',\n",
              " 'marked on the map with the push icon ) can add a +1 modifier. The Powersat modifier works at any range. ',\n",
              " ' • No Double Push. This modifier only applies once regardless of the number of Powersats.',\n",
              " 'e. Thrust-Modifying Supports. If the support chain ( J1c) of the thrust triangle contains any thrust modifiers, then adjust the thrust accordingly ( J5a & J5d). Fuel consumption may also be affected. ',\n",
              " 'EXAMPLE [H3e]. You create an electric rocket using a thrust-modifying support to generate its electricity. The base thrust of its hall effect thruster is 3, but its radioisotope stirling generator subtracts 2, for a net thrust of 1. ',\n",
              " 'H4. Movement Procedure. A Spacecraft may move any distance along the lines of the map, restrained only by a maximum number of Burns (H5c) equal to its net thrust (H3), and by its Fuel. Spend Fuel equal to fuel consumption for each Burn Space entered (H5a).',\n",
              " 'a. Directional Freedom. If the Space started in has multiple exits, the Spacecraft may choose any of them.',\n",
              " 'b. Stopping. Except for lander burns (H5e), a Spacecraft may stop on any Space (B7). Moving into a Site triggers a landing (H6) and ends movement.',\n",
              " 'c. Pivot. A change in direction during a move at a Hohmann (B7b) is called a Pivot. If a Spacecraft performs a Pivot, it must perform two Burns. • Loiter. However, if a Rocket instead stops on the intersection, and waits until the next Turn to move in the new direction, it is not a Pivot and does not expend Fuel (H4a).',\n",
              " ' • Unwavering. Moving straight through a Hohmann without turning does not require a Pivot.',\n",
              " ' • Ballerina Icon indicates a Bonus Pivot (see glossary). ',\n",
              " 'd. Free Turns. You may change direction during a move at any intersection marked with an icon, e.g. a lander (or half-lander), Lagrange Points, Burns, any Hazard, etc. ',\n",
              " 'e. No U-Turn. Upon entering a Space, a Spacecraft cannot immediately exit that Space using the route it entered by. However, if you halt on a Space, you may move in any direction on your next Turn (loitering, H4c).',\n",
              " 'f. Aerobrake Arrow. You can follow any route, except for an aerobrake path (B7e) against its arrowhead. ',\n",
              " 'g. Coasting. This can extend your movement per H2b.',\n",
              " 'H5. Burns. Performing a Burn expends a number of fuel steps (not tanks) equal to the fuel consumption (B2d) of the activated thrust triangle. A Spacecraft performs a Burn in two instances: when it enters a Burn Space, either Lagrange or lander, or wishes to Pivot at a Hohmann (H4c) and continue moving. For each Burn Space entered, the Spacecraft must expend Fuel for one Burn; for each Pivot made (H4c), the Spacecraft must perform two Burns. ',\n",
              " '12 km/sec more to travel to the stars (neglecting Oberth Effect). The first half of your trip to anywhere is in a steep gravity field, where you need high thrust engines, launch loops, or space elevators to get your Bernals built. The second half will be with high specific impulse interplanetary engines. \"Once you are in Low Earth Orbit, you’re halfway to anywhere.\" —Bob Heinlein.']"
            ]
          },
          "metadata": {},
          "execution_count": 87
        }
      ]
    },
    {
      "cell_type": "code",
      "metadata": {
        "colab": {
          "base_uri": "https://localhost:8080/",
          "height": 486
        },
        "id": "G81Lv5bi_Gtq",
        "outputId": "11b06d7d-3f97-42bc-a2d0-8b291a5b15ad"
      },
      "source": [
        "\"\"\"\n",
        "Sanity check, look at distribution of sentence sizes.\n",
        "\"\"\"\n",
        "\n",
        "lengths = [len(p) for p in f_headsMerged]\n",
        "plt.hist(lengths, bins=50)\n",
        "\n",
        "# Looks like majority of paragraphs in f_headsMerged have between 60 and 350 characters with max at 1300. Should all tokenize to less than 512 word-part tokens."
      ],
      "execution_count": 14,
      "outputs": [
        {
          "output_type": "execute_result",
          "data": {
            "text/plain": [
              "(array([16., 37., 64., 97., 78., 67., 75., 56., 61., 41., 38., 36., 29.,\n",
              "        25., 13., 20.,  8.,  8.,  7.,  5.,  3.,  7.,  6.,  4.,  0.,  1.,\n",
              "         2.,  2.,  0.,  0.,  0.,  1.,  0.,  0.,  0.,  0.,  0.,  0.,  0.,\n",
              "         0.,  1.,  0.,  0.,  0.,  0.,  0.,  0.,  0.,  0.,  1.]),\n",
              " array([  13.  ,   38.08,   63.16,   88.24,  113.32,  138.4 ,  163.48,\n",
              "         188.56,  213.64,  238.72,  263.8 ,  288.88,  313.96,  339.04,\n",
              "         364.12,  389.2 ,  414.28,  439.36,  464.44,  489.52,  514.6 ,\n",
              "         539.68,  564.76,  589.84,  614.92,  640.  ,  665.08,  690.16,\n",
              "         715.24,  740.32,  765.4 ,  790.48,  815.56,  840.64,  865.72,\n",
              "         890.8 ,  915.88,  940.96,  966.04,  991.12, 1016.2 , 1041.28,\n",
              "        1066.36, 1091.44, 1116.52, 1141.6 , 1166.68, 1191.76, 1216.84,\n",
              "        1241.92, 1267.  ]),\n",
              " <a list of 50 Patch objects>)"
            ]
          },
          "metadata": {},
          "execution_count": 14
        },
        {
          "output_type": "display_data",
          "data": {
            "image/png": "[encoded data removed]",
            "text/plain": [
              "<Figure size 432x288 with 1 Axes>"
            ]
          },
          "metadata": {
            "needs_background": "light"
          }
        }
      ]
    },
    {
      "cell_type": "code",
      "metadata": {
        "colab": {
          "base_uri": "https://localhost:8080/"
        },
        "id": "wtYWokM1iUeU",
        "outputId": "30d62e0f-76c8-43c6-93fe-586b8ed58a78"
      },
      "source": [
        "\"\"\"\n",
        "Tokenize our rules paragraphs.\n",
        "We will work with DistilBERT models all using the same tokenizer checkpoint 'distilbert-base-uncased'.\n",
        "\"\"\"\n",
        "\n",
        "tokenizer_checkpoint = 'distilbert-base-uncased'\n",
        "tokenizer = AutoTokenizer.from_pretrained(tokenizer_checkpoint, use_fast=True)\n",
        "tokenized_data = tokenizer(f_headsMerged)\n",
        "len(tokenized_data['input_ids'])\n",
        "\n",
        "# Sanity check, there are 809 lists of input_ids, one per paragraph, this checks out."
      ],
      "execution_count": 15,
      "outputs": [
        {
          "output_type": "execute_result",
          "data": {
            "text/plain": [
              "809"
            ]
          },
          "metadata": {},
          "execution_count": 15
        }
      ]
    },
    {
      "cell_type": "markdown",
      "metadata": {
        "id": "x9MGBKbNu-T_"
      },
      "source": [
        "## Fine-Tuning DistilBERT Encoders"
      ]
    },
    {
      "cell_type": "code",
      "metadata": {
        "id": "Bw-JER033Sdj"
      },
      "source": [
        "# Vanilla DistilBERT for masked language modeling is our starting point for fine-tuning.\n",
        "\n",
        "untuned_maskedLM = AutoModelForMaskedLM.from_pretrained(tokenizer_checkpoint)"
      ],
      "execution_count": 19,
      "outputs": []
    },
    {
      "cell_type": "code",
      "metadata": {
        "colab": {
          "base_uri": "https://localhost:8080/"
        },
        "id": "BlMZ59wyS8DD",
        "outputId": "d62022c9-5a4e-4b55-e990-e9eb70d200d3"
      },
      "source": [
        "\"\"\"\n",
        "ESTABLISH BENCHMARK\n",
        "Run a set of highly technical game rules sentences with a masked token through vanilla DistilBERT MaskedLM before fine-tuning. \n",
        "Note the top 5 suggestions and confidence scores; we will run the same sentences through after fine-tuning the model on the game rules.\n",
        "\"\"\"\n",
        "\n",
        "# answer1 = 'spacecraft'\n",
        "sentence1 = 'The dry mass chit is a token on the fuel strip indicating the mass of a [MASK], not counting its fuel.'\n",
        "\n",
        "# answer2 = 'heavy'\n",
        "sentence2 = 'A radiator card played in its [MASK] Orientation rotates to its light Orientation instead of being involuntarily decommissioned upon failing Glitch Rolls, Hazard Rolls, or Belt Rolls.'\n",
        "\n",
        "# answer3 = 'triangle'\n",
        "sentence3 = 'Performing a Burn expends a number of fuel steps (not tanks) equal to the fuel consumption of the activated thrust [MASK].'\n",
        "\n",
        "untuned_maskedLM_pipe = pipeline('fill-mask', model=untuned_maskedLM, tokenizer=tokenizer)\n",
        "print(untuned_maskedLM_pipe(sentence1))\n",
        "print(untuned_maskedLM_pipe(sentence2))\n",
        "print(untuned_maskedLM_pipe(sentence3))\n",
        "\n",
        "# We observe:\n",
        "# suggested answer1's: 'vehicle' (48%), 'spacecraft' [CORRECT ANSWER] (6%), 'tank' (5%), 'fuel' (4%), 'rocket' (3%) ... got the right answer, but with 6% confidence\n",
        "# suggested answer2's: 'light' (5%), 'dark' (5%), 'reverse' (3%), 'normal' (3%), 'vertical' (2%)\n",
        "# suggested answer3's: 'thrusters' (14%), 'thruster' (12%), 'thrust pump' (8%), 'thrust engine' (6%), 'thrust tank' (4%)"
      ],
      "execution_count": 20,
      "outputs": [
        {
          "output_type": "stream",
          "name": "stdout",
          "text": [
            "[{'sequence': 'the dry mass chit is a token on the fuel strip indicating the mass of a vehicle, not counting its fuel.', 'score': 0.4811486303806305, 'token': 4316, 'token_str': 'vehicle'}, {'sequence': 'the dry mass chit is a token on the fuel strip indicating the mass of a spacecraft, not counting its fuel.', 'score': 0.06393516063690186, 'token': 12076, 'token_str': 'spacecraft'}, {'sequence': 'the dry mass chit is a token on the fuel strip indicating the mass of a tank, not counting its fuel.', 'score': 0.05208580568432808, 'token': 4951, 'token_str': 'tank'}, {'sequence': 'the dry mass chit is a token on the fuel strip indicating the mass of a fuel, not counting its fuel.', 'score': 0.035906195640563965, 'token': 4762, 'token_str': 'fuel'}, {'sequence': 'the dry mass chit is a token on the fuel strip indicating the mass of a rocket, not counting its fuel.', 'score': 0.03025912493467331, 'token': 7596, 'token_str': 'rocket'}]\n",
            "[{'sequence': 'a radiator card played in its light orientation rotates to its light orientation instead of being involuntarily decommissioned upon failing glitch rolls, hazard rolls, or belt rolls.', 'score': 0.0533318966627121, 'token': 2422, 'token_str': 'light'}, {'sequence': 'a radiator card played in its dark orientation rotates to its light orientation instead of being involuntarily decommissioned upon failing glitch rolls, hazard rolls, or belt rolls.', 'score': 0.04648735001683235, 'token': 2601, 'token_str': 'dark'}, {'sequence': 'a radiator card played in its reverse orientation rotates to its light orientation instead of being involuntarily decommissioned upon failing glitch rolls, hazard rolls, or belt rolls.', 'score': 0.03128513693809509, 'token': 7901, 'token_str': 'reverse'}, {'sequence': 'a radiator card played in its normal orientation rotates to its light orientation instead of being involuntarily decommissioned upon failing glitch rolls, hazard rolls, or belt rolls.', 'score': 0.025555962696671486, 'token': 3671, 'token_str': 'normal'}, {'sequence': 'a radiator card played in its vertical orientation rotates to its light orientation instead of being involuntarily decommissioned upon failing glitch rolls, hazard rolls, or belt rolls.', 'score': 0.01826106384396553, 'token': 7471, 'token_str': 'vertical'}]\n",
            "[{'sequence': 'performing a burn expends a number of fuel steps ( not tanks ) equal to the fuel consumption of the activated thrusters.', 'score': 0.1406351923942566, 'token': 2545, 'token_str': '##ers'}, {'sequence': 'performing a burn expends a number of fuel steps ( not tanks ) equal to the fuel consumption of the activated thruster.', 'score': 0.12358582764863968, 'token': 2121, 'token_str': '##er'}, {'sequence': 'performing a burn expends a number of fuel steps ( not tanks ) equal to the fuel consumption of the activated thrust pump.', 'score': 0.08027615398168564, 'token': 10216, 'token_str': 'pump'}, {'sequence': 'performing a burn expends a number of fuel steps ( not tanks ) equal to the fuel consumption of the activated thrust engine.', 'score': 0.06263938546180725, 'token': 3194, 'token_str': 'engine'}, {'sequence': 'performing a burn expends a number of fuel steps ( not tanks ) equal to the fuel consumption of the activated thrust tank.', 'score': 0.04315011203289032, 'token': 4951, 'token_str': 'tank'}]\n"
          ]
        }
      ]
    },
    {
      "cell_type": "code",
      "metadata": {
        "id": "Fb2uIGITquGG"
      },
      "source": [
        "\"\"\"\n",
        "SET UP MODEL\n",
        "The idea is to fine tune the off-the-shelf DistilBERT masked language model\n",
        "on our game rules (tokenized_data) as this does not require us to label our examples.\n",
        "We create the dataCollator and Trainer and use default learning rate (5e-5) for now.\n",
        "Training set is small, seems to converge after 50 or so epochs.\n",
        "\"\"\"\n",
        "\n",
        "collator = DataCollatorForLanguageModeling(tokenizer=tokenizer, mlm_probability=0.15)\n",
        "\n",
        "training_args = TrainingArguments(\n",
        "    output_dir = 'finetuned-output',\n",
        "    overwrite_output_dir = True,\n",
        "    evaluation_strategy = 'no',\n",
        "    num_train_epochs = 50,\n",
        "    per_device_train_batch_size = 16,\n",
        "    save_total_limit = 1\n",
        ")\n",
        "\n",
        "trainer = Trainer(\n",
        "    model = untuned_maskedLM,\n",
        "    args = training_args,\n",
        "    train_dataset = tokenized_data['input_ids'],\n",
        "    data_collator = collator\n",
        ")"
      ],
      "execution_count": 18,
      "outputs": []
    },
    {
      "cell_type": "code",
      "metadata": {
        "colab": {
          "base_uri": "https://localhost:8080/"
        },
        "id": "G5n3IgtdxWMz",
        "outputId": "106d905c-9c73-4e04-b886-a6e2dc806559"
      },
      "source": [
        "\"\"\"\n",
        "TRAIN MODEL\n",
        "This took me about 8 minutes on the Colab Pro GPU runtime.\n",
        "\"\"\"\n",
        "\n",
        "trainer.train()\n",
        "trainer.save_model('mlm_tuned')"
      ],
      "execution_count": 68,
      "outputs": [
        {
          "output_type": "stream",
          "name": "stdout",
          "text": [
            "--2021-11-04 20:35:40--  https://drive.google.com/file/d/1FqaVKtJwwv4ArVe92OQCE_KShf9EeKUu/view?usp=sharing\n",
            "Resolving drive.google.com (drive.google.com)... 64.233.170.102, 64.233.170.138, 64.233.170.100, ...\n",
            "Connecting to drive.google.com (drive.google.com)|64.233.170.102|:443... connected.\n",
            "HTTP request sent, awaiting response... 200 OK\n",
            "Length: unspecified [text/html]\n",
            "Saving to: ‘HF4CoreRules_utf8.txt’\n",
            "\n",
            "HF4CoreRules_utf8.t     [ <=>                ]  65.50K  --.-KB/s    in 0.004s  \n",
            "\n",
            "2021-11-04 20:35:40 (16.7 MB/s) - ‘HF4CoreRules_utf8.txt’ saved [67069]\n",
            "\n"
          ]
        }
      ]
    },
    {
      "cell_type": "code",
      "metadata": {
        "id": "1A7Jbac_byHK"
      },
      "source": [
        "\"\"\"\n",
        "Make a model with fine-tuned weights to compare it's capabilities with the benchmark earlier\n",
        "\"\"\"\n",
        "tuned_model = AutoModelForMaskedLM.from_pretrained('mlm_tuned')"
      ],
      "execution_count": 16,
      "outputs": []
    },
    {
      "cell_type": "code",
      "metadata": {
        "colab": {
          "base_uri": "https://localhost:8080/"
        },
        "id": "HVCeAZ2KbLnk",
        "outputId": "05ae4bcd-37af-4678-cd51-f387a60e55ba"
      },
      "source": [
        "\"\"\"\n",
        "Compare to vanilla benchmarks, run the sample sentence through fine-tuned model.\n",
        "Should ackowledge that our goal here is to grossly overfit on our game rules\n",
        "because the actual application of this model will be to answer question directly on \n",
        "passages from those rules.\n",
        "\"\"\"\n",
        "\n",
        "tuned_maskedLM = pipeline('fill-mask', model=tuned_model, tokenizer=tokenizer)\n",
        "print(tuned_maskedLM(sentence1))\n",
        "print(tuned_maskedLM(sentence2))\n",
        "print(tuned_maskedLM(sentence3))\n",
        "\n",
        "# We observe significant improvement with fine-tuning:\n",
        "# suggested answer1's: 'spacecraft' [CORRECT ANSWER] (99+%) ... remaining suggestions each have less than 1% confidence\n",
        "# suggested answer2's: 'heavy' [CORRECT ANSWER] (99+%) ... remaining suggestions each have less than 1% confidence\n",
        "# suggested answer3's: 'thruster' (85%), 'triangle' [CORRECT ANSWER] (14%) ... remaining suggestions each have less than 1% confidence"
      ],
      "execution_count": 21,
      "outputs": [
        {
          "output_type": "stream",
          "name": "stdout",
          "text": [
            "[{'sequence': 'the dry mass chit is a token on the fuel strip indicating the mass of a spacecraft, not counting its fuel.', 'score': 0.9976863861083984, 'token': 12076, 'token_str': 'spacecraft'}, {'sequence': 'the dry mass chit is a token on the fuel strip indicating the mass of a rocket, not counting its fuel.', 'score': 0.0007102998206391931, 'token': 7596, 'token_str': 'rocket'}, {'sequence': 'the dry mass chit is a token on the fuel strip indicating the mass of a card, not counting its fuel.', 'score': 0.00037066664663143456, 'token': 4003, 'token_str': 'card'}, {'sequence': 'the dry mass chit is a token on the fuel strip indicating the mass of a vehicle, not counting its fuel.', 'score': 0.00033013144275173545, 'token': 4316, 'token_str': 'vehicle'}, {'sequence': 'the dry mass chit is a token on the fuel strip indicating the mass of a stack, not counting its fuel.', 'score': 0.0002827711869031191, 'token': 9991, 'token_str': 'stack'}]\n",
            "[{'sequence': 'a radiator card played in its heavy orientation rotates to its light orientation instead of being involuntarily decommissioned upon failing glitch rolls, hazard rolls, or belt rolls.', 'score': 0.9910088181495667, 'token': 3082, 'token_str': 'heavy'}, {'sequence': 'a radiator card played in its light orientation rotates to its light orientation instead of being involuntarily decommissioned upon failing glitch rolls, hazard rolls, or belt rolls.', 'score': 0.007674723397940397, 'token': 2422, 'token_str': 'light'}, {'sequence': 'a radiator card played in its dark orientation rotates to its light orientation instead of being involuntarily decommissioned upon failing glitch rolls, hazard rolls, or belt rolls.', 'score': 0.00039151034434325993, 'token': 2601, 'token_str': 'dark'}, {'sequence': 'a radiator card played in its heavier orientation rotates to its light orientation instead of being involuntarily decommissioned upon failing glitch rolls, hazard rolls, or belt rolls.', 'score': 0.00018747591821011156, 'token': 11907, 'token_str': 'heavier'}, {'sequence': 'a radiator card played in its cool orientation rotates to its light orientation instead of being involuntarily decommissioned upon failing glitch rolls, hazard rolls, or belt rolls.', 'score': 3.161472704960033e-05, 'token': 4658, 'token_str': 'cool'}]\n",
            "[{'sequence': 'performing a burn expends a number of fuel steps ( not tanks ) equal to the fuel consumption of the activated thruster.', 'score': 0.8661543726921082, 'token': 2121, 'token_str': '##er'}, {'sequence': 'performing a burn expends a number of fuel steps ( not tanks ) equal to the fuel consumption of the activated thrust triangle.', 'score': 0.12684203684329987, 'token': 9546, 'token_str': 'triangle'}, {'sequence': 'performing a burn expends a number of fuel steps ( not tanks ) equal to the fuel consumption of the activated thrusters.', 'score': 0.0019159845542162657, 'token': 2545, 'token_str': '##ers'}, {'sequence': 'performing a burn expends a number of fuel steps ( not tanks ) equal to the fuel consumption of the activated thrust chain.', 'score': 0.0013074591988697648, 'token': 4677, 'token_str': 'chain'}, {'sequence': 'performing a burn expends a number of fuel steps ( not tanks ) equal to the fuel consumption of the activated thrust engine.', 'score': 0.0008201494929380715, 'token': 3194, 'token_str': 'engine'}]\n"
          ]
        }
      ]
    },
    {
      "cell_type": "markdown",
      "metadata": {
        "id": "G1bpXcKd8G-j"
      },
      "source": [
        "## Fine-tuning a DistilBERT QA Model"
      ]
    },
    {
      "cell_type": "code",
      "metadata": {
        "colab": {
          "base_uri": "https://localhost:8080/"
        },
        "id": "oVItLp4Qv9hg",
        "outputId": "a28c4848-b959-4ef3-bbe9-6ebd667224ec"
      },
      "source": [
        "\"\"\"\n",
        "Now let's replace the head on our fine-tuned maskedLM model ('distilbert_tuned') with a questioning-answering head.\n",
        "The idea is to then fine tune the question-answering head (initialized with random values) and the top few encoders\n",
        "on a general corpus of question-answering examples (SQaUD v1). Hopefully some knowledge of our game rules will be retained.\n",
        "Truth be told, I initially tried freezing all the encoder blocks and only tuning the 768 parameters of the QA head... disasterous.\n",
        "\"\"\"\n",
        "\n",
        "qa_model = AutoModelForQuestionAnswering.from_pretrained('mlm_tuned')\n",
        "\n",
        "# freeze the parameters of our fine-tuned encoder blocks except for last 48 layers (i.e., top 3 encoder blocks... out  of 6)\n",
        "# Note: the question-answering head is also unfrozen\n",
        "for p in [param for param in qa_model.base_model.parameters()][:-48]:\n",
        "  p.requires_grad = False"
      ],
      "execution_count": 22,
      "outputs": [
        {
          "output_type": "stream",
          "name": "stderr",
          "text": [
            "Some weights of the model checkpoint at mlm_tuned were not used when initializing DistilBertForQuestionAnswering: ['vocab_transform.bias', 'vocab_layer_norm.weight', 'vocab_projector.weight', 'vocab_transform.weight', 'vocab_layer_norm.bias', 'vocab_projector.bias']\n",
            "- This IS expected if you are initializing DistilBertForQuestionAnswering from the checkpoint of a model trained on another task or with another architecture (e.g. initializing a BertForSequenceClassification model from a BertForPreTraining model).\n",
            "- This IS NOT expected if you are initializing DistilBertForQuestionAnswering from the checkpoint of a model that you expect to be exactly identical (initializing a BertForSequenceClassification model from a BertForSequenceClassification model).\n",
            "Some weights of DistilBertForQuestionAnswering were not initialized from the model checkpoint at mlm_tuned and are newly initialized: ['qa_outputs.weight', 'qa_outputs.bias']\n",
            "You should probably TRAIN this model on a down-stream task to be able to use it for predictions and inference.\n"
          ]
        }
      ]
    },
    {
      "cell_type": "markdown",
      "metadata": {
        "id": "5p0z5EGygzhk"
      },
      "source": [
        "### Preprocessing SQaUD v1"
      ]
    },
    {
      "cell_type": "code",
      "metadata": {
        "colab": {
          "base_uri": "https://localhost:8080/",
          "height": 529,
          "referenced_widgets": [
            "9352f5f8c96d4765953fbd4222ae1581",
            "519f40d3dc1540b5a9f08e7ddaadea7b",
            "41a40e67d5f847a4ad3c1025a9a278a1",
            "1c325bff13244761ae7015d84827ac8a",
            "9857cb2c99ca4374916190573f7aa60b",
            "7e69b5f46ac145fabe5ea8b5ccc6812a",
            "517cb8eab9e04bbb905716c2bdadb1b4",
            "6731b7256d6d4f2087ef153a3dd0eb25",
            "283f814d0d294a4b84503511dac53d54",
            "8b295d18a894474ba5a9b50dd6edfadb",
            "bde4764bde5342ad8072b247160f886b",
            "6c01f1120f7742cfb2de52706e9b222c",
            "3ce70cab7c10474d989be7b49c65b430",
            "ffec9eb26f74459a8f452eb592a3c7a3",
            "f6d13769b85349d0b34af8393b6bcc9d",
            "f8b57751fc7b41fcb1cbc74192ccbbdc",
            "cdead5164a344fd683e76c8d08a51a5d",
            "38f76eaed5c84134b4876f3a5834ea59",
            "c9b9bd094fef40f2a2e573fe7ba7d4da",
            "484414c50815458099c2e922f79106ad",
            "aef559ae50ed402c9b6c31e4671c9f33",
            "7a2d396e5b0042368a6629c036dc3738",
            "2f3dbf4b559549eabc356b5b113bb68c",
            "6f9e9ee3a7684ce6a7da14bfd2725a41",
            "b615037ac4e94fc8b08c55f540a3bcc3",
            "d8579effe2c54e3ba9c178900a6faabd",
            "fd8c93ea335641b3883ccb0c8e860650",
            "6b50a72017f944b1ba1bbf9323e05397",
            "0e5d337b30ca45b88b5b3264340f431d",
            "dbda2d3b3c9c4d17867dddf6e370bd40",
            "b4fd57d4d2154f1aa5c652e210c856ff",
            "a274862267264cbfa95cdb8b7f3e6c3f",
            "50d8240baf79459782411156d4f7eb53",
            "6b972a2fc1e64462a228700e0c9b5aad",
            "3ce6fc24c1944263a730cea0bcb8b808",
            "dc6b342570d14e099e17d9a7295e5cb4",
            "ed26caaea9904520b735f4fa9e983900",
            "fb286c95929e4b5aa6fb633a9ee3a1c4",
            "84d90dce3c70441eb5bccc54d42111a7",
            "a9b4496dcf22469ea25a8ae2f51e6c02",
            "b85692599d16433dae0281f9729a4d78",
            "3478b19dc1ba4879bdda8692f66c78f2",
            "a51edf6521a942a7a4a8c8a70353fb0a",
            "335124c8f5c14bd7b87768a7d4c20010",
            "a63e81e09e9146a0a76e03bb67f9ae07",
            "bf1c46262628436787f03482d7c0a4ed",
            "c1f039a674124ddbbb9133dd01e6dffd",
            "11ae143cbc5b4503a105ecbc1dbe65ee",
            "84afbd787abc44f6adcde03c6cf7c591",
            "f4916e03b69c4eb5a71ca7b10f1590d3",
            "881d304a274344648cca2fb75a0eb8d4",
            "03a404b9fe614cd3b6323e86b32b2d13",
            "106782fd3ee5435589d260e28de6fcf8",
            "6a97cbe57f7d4e078714dc4410bf65aa",
            "276b8dbdc74b490da0a9aa4f7d652fb7",
            "8f4cf6e8e5054d0084a58f6f5c1f1510",
            "043dc1f4a91b4818a1e9340708647624",
            "075f4083ce9e41d8b9e5fcd7070e4729",
            "4547973f504b470a8728247c2947c3c0",
            "9ad47d2158a24aacb56a2441dbf77f72",
            "684fdc46bb7c44aab2e8ceffcd8616e8",
            "75e8ce447e204e7abb49a90f14192845",
            "bb6fd61437a94358a322d907d0f57aa6",
            "417abe27ed1d4cf68db7d6cb668c6501",
            "886c06d9426b4921b15abad2ed9c5ce2",
            "49c890d942a24ad0a3f69b6e2709f975",
            "fea9b9e835cf45c58e8b3a7e08fce0a5",
            "1fff006b1d5541a79a785666d66a53ad",
            "c9e770700d884801b3e87c6741345a8c",
            "1992634a0ab04914bbb9cb769783720b",
            "a04dfa0470e64ee7988f138451bfc4cb",
            "5ba7c108f641494ca36e8f8e3599e9e9",
            "7af22601ee18498fadc7f4be0a9827f9",
            "52f4d1d1d31f459ca4d31127263060ec",
            "45ee705b749b4f7fbf1239aad72236a8",
            "e4e192f0677b47528c06530a0b06a80e",
            "a7f9af4b971e4f14a5c9db206d1b4384",
            "aa16d382481f4bc9a3aabb9e6016fd6a",
            "ac6576453768495d91bc1acdd36c19e8",
            "0b2ddc10fd5e4879b6c66cabf3cfd5fd",
            "4ea7ab9a37e14d679b128216a19a8c2a",
            "d42cb31aa6304cc1875bc41f3bab4235",
            "0bd7289f3eef4ffbb68f8aceb54a7626",
            "138ce105cf0e4119ad0ecb92f6b9ab40",
            "5b6f278f92a1450fa5ffed7ac7cb7b22",
            "1d471c086e7e4f9f9e71be570cdd08b7",
            "5cc7d1fe92ee406488f7b5cebb6d133d",
            "a09d03ba93cc401989af077c7f2c2307",
            "ab38cc9eb5fc4d57be2e4bc35eae5971",
            "67ada45306e5428ba8ae68671d82b588",
            "abd083e1661443fd9e335da92853285e",
            "653fffe6f9e44e56abd86f963cd9b268",
            "163f5a5f01be4f65ab8953410826fad7",
            "4d98d68c0c6d444ca7c64886fd6cac1d",
            "59827e3437a149c6b72fddb6aac8a716",
            "d7c35957b58344439a0f3848eeac0a88",
            "4f04ccf609a047d6b8b3fc214adafae3",
            "41be2459df284dd78625a916d6598d0b",
            "a629c3b38bfc4d36ad1c4d18bac4c685"
          ]
        },
        "id": "hdilkFKZ8040",
        "outputId": "5430ad2f-2270-462b-f1c3-ca3f98b60e0f"
      },
      "source": [
        "datasets = load_dataset('squad')\n",
        "datasets\n",
        "\n",
        "# Observe 87k+ labeled training examples and 10k+ validation... somebody was busy"
      ],
      "execution_count": null,
      "outputs": [
        {
          "output_type": "display_data",
          "data": {
            "application/vnd.jupyter.widget-view+json": {
              "model_id": "9352f5f8c96d4765953fbd4222ae1581",
              "version_minor": 0,
              "version_major": 2
            },
            "text/plain": [
              "Downloading:   0%|          | 0.00/1.97k [00:00<?, ?B/s]"
            ]
          },
          "metadata": {}
        },
        {
          "output_type": "display_data",
          "data": {
            "application/vnd.jupyter.widget-view+json": {
              "model_id": "6c01f1120f7742cfb2de52706e9b222c",
              "version_minor": 0,
              "version_major": 2
            },
            "text/plain": [
              "Downloading:   0%|          | 0.00/1.02k [00:00<?, ?B/s]"
            ]
          },
          "metadata": {}
        },
        {
          "output_type": "stream",
          "name": "stdout",
          "text": [
            "Downloading and preparing dataset squad/plain_text (download: 33.51 MiB, generated: 85.63 MiB, post-processed: Unknown size, total: 119.14 MiB) to /root/.cache/huggingface/datasets/squad/plain_text/1.0.0/d6ec3ceb99ca480ce37cdd35555d6cb2511d223b9150cce08a837ef62ffea453...\n"
          ]
        },
        {
          "output_type": "display_data",
          "data": {
            "application/vnd.jupyter.widget-view+json": {
              "model_id": "2f3dbf4b559549eabc356b5b113bb68c",
              "version_minor": 0,
              "version_major": 2
            },
            "text/plain": [
              "  0%|          | 0/2 [00:00<?, ?it/s]"
            ]
          },
          "metadata": {}
        },
        {
          "output_type": "display_data",
          "data": {
            "application/vnd.jupyter.widget-view+json": {
              "model_id": "6b972a2fc1e64462a228700e0c9b5aad",
              "version_minor": 0,
              "version_major": 2
            },
            "text/plain": [
              "Downloading:   0%|          | 0.00/8.12M [00:00<?, ?B/s]"
            ]
          },
          "metadata": {}
        },
        {
          "output_type": "display_data",
          "data": {
            "application/vnd.jupyter.widget-view+json": {
              "model_id": "a63e81e09e9146a0a76e03bb67f9ae07",
              "version_minor": 0,
              "version_major": 2
            },
            "text/plain": [
              "Downloading:   0%|          | 0.00/1.05M [00:00<?, ?B/s]"
            ]
          },
          "metadata": {}
        },
        {
          "output_type": "display_data",
          "data": {
            "application/vnd.jupyter.widget-view+json": {
              "model_id": "8f4cf6e8e5054d0084a58f6f5c1f1510",
              "version_minor": 0,
              "version_major": 2
            },
            "text/plain": [
              "  0%|          | 0/2 [00:00<?, ?it/s]"
            ]
          },
          "metadata": {}
        },
        {
          "output_type": "display_data",
          "data": {
            "application/vnd.jupyter.widget-view+json": {
              "model_id": "fea9b9e835cf45c58e8b3a7e08fce0a5",
              "version_minor": 0,
              "version_major": 2
            },
            "text/plain": [
              "0 examples [00:00, ? examples/s]"
            ]
          },
          "metadata": {}
        },
        {
          "output_type": "display_data",
          "data": {
            "application/vnd.jupyter.widget-view+json": {
              "model_id": "aa16d382481f4bc9a3aabb9e6016fd6a",
              "version_minor": 0,
              "version_major": 2
            },
            "text/plain": [
              "0 examples [00:00, ? examples/s]"
            ]
          },
          "metadata": {}
        },
        {
          "output_type": "stream",
          "name": "stdout",
          "text": [
            "Dataset squad downloaded and prepared to /root/.cache/huggingface/datasets/squad/plain_text/1.0.0/d6ec3ceb99ca480ce37cdd35555d6cb2511d223b9150cce08a837ef62ffea453. Subsequent calls will reuse this data.\n"
          ]
        },
        {
          "output_type": "display_data",
          "data": {
            "application/vnd.jupyter.widget-view+json": {
              "model_id": "ab38cc9eb5fc4d57be2e4bc35eae5971",
              "version_minor": 0,
              "version_major": 2
            },
            "text/plain": [
              "  0%|          | 0/2 [00:00<?, ?it/s]"
            ]
          },
          "metadata": {}
        },
        {
          "output_type": "execute_result",
          "data": {
            "text/plain": [
              "DatasetDict({\n",
              "    train: Dataset({\n",
              "        features: ['id', 'title', 'context', 'question', 'answers'],\n",
              "        num_rows: 87599\n",
              "    })\n",
              "    validation: Dataset({\n",
              "        features: ['id', 'title', 'context', 'question', 'answers'],\n",
              "        num_rows: 10570\n",
              "    })\n",
              "})"
            ]
          },
          "metadata": {},
          "execution_count": 30
        }
      ]
    },
    {
      "cell_type": "code",
      "metadata": {
        "colab": {
          "base_uri": "https://localhost:8080/",
          "height": 115,
          "referenced_widgets": [
            "1aeb390f5c654312aee83e1fb8c0b972",
            "8868e8315c97467b8102a62c5907af39",
            "cb2c16251ae44f20af04c83eba1dc901",
            "e45f282482fc4c1fb1f7e9a5d6ef77c5",
            "713ee2f3a5f04cb1ba5e6d04b72a5a47",
            "e25b8fd81c6843f3b82596ab5d20cf05",
            "c877d018fcf4490ea40f1ac426f94bd6",
            "66d8f231290a4c7e822ecac56eb91154",
            "4cc4ae23577c4c9289b4f67cf1e6cc5a",
            "fcd3f86dcf454f73bb7eb6750d89ec52",
            "a74099ae88c3414ca97db384d5428390",
            "86c23ffe2e154af1b93d441fc1fa3423",
            "f1b1fe10ec3d4cb3ad57c3d0f44cc68a",
            "f3aea11cb7754d2c8a3e490915bedc10",
            "a4a4953b02db45db8e7e2c388d89f51f",
            "f1652c6a404d4695a09e2470aad77161",
            "5a06dac1f4c24796a6420b1e14200dae",
            "2368d3e46a1c42849fa44f291aca9332",
            "00e44adfa3854b9e89d02a95461876c0",
            "b54ebf7245c84cacaf7f5c781a0eeb79",
            "6ec4ee7f34cd43cbaed591c746aa39bd",
            "eb17cb96f311480cbb2a23947cbaeeed"
          ]
        },
        "id": "vJoLek75QcrA",
        "outputId": "1980085c-532e-428d-d724-c28a605390dd"
      },
      "source": [
        "\"\"\"\n",
        "We're just going to drop examples with more words than, say, 25% of the model's input token limit\n",
        "to avoid having the correct answer in long context passages truncated away by the tokenizer\n",
        "and (truthfully) to avoid splitting the contexts up into different examples. We actually don't need\n",
        "a ton of training examples to fine tune the QA head as we'll quickly loose fidelity of our game rules domain.\n",
        "\"\"\"\n",
        "\n",
        "# published maximum length of tokens of examples fed into distilbert-base-uncased\n",
        "max_length = 512\n",
        "\n",
        "print(\"# of trainiing examples total:\", len(datasets['train'])) \n",
        "\n",
        "datasets['train'] = datasets['train'].filter(lambda x: len((x['question'] + x['context']).split()) < max_length*0.25)\n",
        "datasets['validation'] = datasets['validation'].filter(lambda x: len((x['question'] + x['context']).split()) < max_length*0.25)\n",
        "\n",
        "print('# of training examples with fewer words than 1/4 the tokenizer token limit:', len(datasets['train']))\n",
        "\n",
        "# We still have 50k+ examples, plenty!"
      ],
      "execution_count": null,
      "outputs": [
        {
          "output_type": "stream",
          "name": "stdout",
          "text": [
            "# of trainiing examples total: 87599\n"
          ]
        },
        {
          "output_type": "display_data",
          "data": {
            "application/vnd.jupyter.widget-view+json": {
              "model_id": "1aeb390f5c654312aee83e1fb8c0b972",
              "version_minor": 0,
              "version_major": 2
            },
            "text/plain": [
              "  0%|          | 0/88 [00:00<?, ?ba/s]"
            ]
          },
          "metadata": {}
        },
        {
          "output_type": "display_data",
          "data": {
            "application/vnd.jupyter.widget-view+json": {
              "model_id": "86c23ffe2e154af1b93d441fc1fa3423",
              "version_minor": 0,
              "version_major": 2
            },
            "text/plain": [
              "  0%|          | 0/11 [00:00<?, ?ba/s]"
            ]
          },
          "metadata": {}
        },
        {
          "output_type": "stream",
          "name": "stdout",
          "text": [
            "# of training examples with fewer words than 1/4 the tokenizer token limit: 50545\n"
          ]
        }
      ]
    },
    {
      "cell_type": "code",
      "metadata": {
        "colab": {
          "base_uri": "https://localhost:8080/"
        },
        "id": "I5R5if_ZFQn7",
        "outputId": "aaf0b762-72df-443e-8e8e-d259bf0dec97"
      },
      "source": [
        "# Set idx to an example's index to observe its data structure\n",
        "# Of course, the 'answer' to the 'question' must be a single continuous string of characters from the 'context'\n",
        "\n",
        "idx = 1\n",
        "datasets['train'][idx]"
      ],
      "execution_count": null,
      "outputs": [
        {
          "output_type": "execute_result",
          "data": {
            "text/plain": [
              "{'answers': {'answer_start': [145], 'text': ['Moreau Seminary']},\n",
              " 'context': 'The university is the major seat of the Congregation of Holy Cross (albeit not its official headquarters, which are in Rome). Its main seminary, Moreau Seminary, is located on the campus across St. Joseph lake from the Main Building. Old College, the oldest building on campus and located near the shore of St. Mary lake, houses undergraduate seminarians. Retired priests and brothers reside in Fatima House (a former retreat center), Holy Cross House, as well as Columba Hall near the Grotto. The university through the Moreau Seminary has ties to theologian Frederick Buechner. While not Catholic, Buechner has praised writers from Notre Dame and Moreau Seminary created a Buechner Prize for Preaching.',\n",
              " 'id': '5733bed24776f41900661189',\n",
              " 'question': 'What is the primary seminary of the Congregation of the Holy Cross?',\n",
              " 'title': 'University_of_Notre_Dame'}"
            ]
          },
          "metadata": {},
          "execution_count": 32
        }
      ]
    },
    {
      "cell_type": "code",
      "metadata": {
        "id": "Uj-i0ylwKMr7"
      },
      "source": [
        "# This function tokenizes our SQuAD examples and identifies the starting and ending tokens of answers.\n",
        "\n",
        "def prepare_train_features(examples):\n",
        "    # Remove leading white spaces in SQuAD questions\n",
        "    examples['question'] = [q.lstrip() for q in examples['question']]\n",
        "\n",
        "    tokenized_examples = tokenizer(\n",
        "        examples['question'],\n",
        "        examples['context'],\n",
        "        return_offsets_mapping = True,\n",
        "        padding = 'max_length'\n",
        "    )\n",
        "\n",
        "    offset_mapping = tokenized_examples.pop('offset_mapping')\n",
        "\n",
        "    tokenized_examples['start_positions'] = []\n",
        "    tokenized_examples['end_positions'] = []\n",
        "\n",
        "    for i, offsets in enumerate(offset_mapping):\n",
        "      input_ids = tokenized_examples['input_ids'][i]\n",
        "      sequence_ids = tokenized_examples.sequence_ids(i)\n",
        "      answer = examples['answers'][i]\n",
        "\n",
        "      start_char = answer['answer_start'][0]\n",
        "      end_char = start_char + len(answer['text'][0])\n",
        "\n",
        "      # Use sequence_ids() to identify the context portion (as opposed to the answer portion)\n",
        "      # of the example's input string. The context corresponds to 1's in the list from sequence_ids().\n",
        "      # Initially, token_start_index is set to the beginning of the context, token_end_index to its end.\n",
        "      token_start_index = 0\n",
        "      while sequence_ids[token_start_index] != 1:\n",
        "        token_start_index += 1\n",
        "      \n",
        "      token_end_index = len(input_ids) - 1\n",
        "      while sequence_ids[token_end_index] != 1:\n",
        "        token_end_index -= 1\n",
        "\n",
        "      # With the context identified, find the start and end tokens of the answer from therein.\n",
        "      while token_start_index < len(offsets) and offsets[token_start_index][0] <= start_char:\n",
        "        token_start_index += 1\n",
        "      tokenized_examples['start_positions'].append(token_start_index - 1)\n",
        "      while offsets[token_end_index][1] >= end_char:\n",
        "        token_end_index -= 1 \n",
        "      tokenized_examples['end_positions'].append(token_end_index + 1)\n",
        "\n",
        "    return tokenized_examples"
      ],
      "execution_count": null,
      "outputs": []
    },
    {
      "cell_type": "code",
      "metadata": {
        "colab": {
          "base_uri": "https://localhost:8080/",
          "height": 81,
          "referenced_widgets": [
            "fd69ca39c13e4129996c7521aea01abe",
            "48cbd11202bd4bca926b6c9fea4b4649",
            "4e984c3359484e8ca80edf7e7e25db7c",
            "bafedd362f7e4997a8d8ba134a439709",
            "1a4135c91f1a4451b2299eb461ceea4c",
            "b5a41b573d834fe395f12a30e9a4a71a",
            "6245c79b0df84e00a0d40c90e9212883",
            "cc88a099b9af4e629d6046eb389de15e",
            "01b2f33bb38b45848ca0ce1a2c4dde4e",
            "b264350096724cb49baa32245fed2d76",
            "6f64e642555f460b99cae38bd691b3f2",
            "2fb54637574148f5b562c788ced5bacc",
            "8b1f15d1e9a9473ab611fcd2158f14a7",
            "be3453a26cc64b7e9d1721ca3014b96c",
            "ee7f4bbcffcf4d09a2b074a7724d3995",
            "2fd00f3c08af4f07894627054d1bbfbd",
            "5f70fee793cd4f9491b8e4b1c49c7c70",
            "613bcc1e84704ec3875892a47a67f61b",
            "8c0bcf5f394a4e16a77c9aa0a85faa17",
            "6130c66f01e14662adef270d379139eb",
            "e5199dcd963b4604a17eadc5a1055c1b",
            "60d87c6cc4f84eaba4ba1ae58f6f9271"
          ]
        },
        "id": "7iUzwsdEuSIQ",
        "outputId": "255d615c-fa53-4a30-a4b9-66ee5d0fb5c0"
      },
      "source": [
        "tokenized_datasets = datasets.map(prepare_train_features, batched=True, remove_columns=datasets['train'].column_names)"
      ],
      "execution_count": null,
      "outputs": [
        {
          "output_type": "display_data",
          "data": {
            "application/vnd.jupyter.widget-view+json": {
              "model_id": "fd69ca39c13e4129996c7521aea01abe",
              "version_minor": 0,
              "version_major": 2
            },
            "text/plain": [
              "  0%|          | 0/51 [00:00<?, ?ba/s]"
            ]
          },
          "metadata": {}
        },
        {
          "output_type": "display_data",
          "data": {
            "application/vnd.jupyter.widget-view+json": {
              "model_id": "2fb54637574148f5b562c788ced5bacc",
              "version_minor": 0,
              "version_major": 2
            },
            "text/plain": [
              "  0%|          | 0/6 [00:00<?, ?ba/s]"
            ]
          },
          "metadata": {}
        }
      ]
    },
    {
      "cell_type": "code",
      "metadata": {
        "colab": {
          "base_uri": "https://localhost:8080/"
        },
        "id": "66AatP4XGXuU",
        "outputId": "a2d9d8d8-d184-4cab-8792-0e0c8441f403"
      },
      "source": [
        "# Set idx to an example's index to observe how it returns from prepare_train_features\n",
        "\n",
        "idx = 1\n",
        "example = tokenized_datasets['train'][idx]\n",
        "start = example['start_positions']\n",
        "end = example['end_positions']\n",
        "print('context:', datasets['train']['context'][idx])\n",
        "print('question:', datasets['train']['question'][idx])\n",
        "print('answer label:', datasets['train']['answers'][idx]['text'][0])\n",
        "print('processed answer decoded:', tokenizer.decode(example['input_ids'][start : end+1]))\n",
        "print('processed answer token by token:', [tokenizer.decode(t) for t in example['input_ids'][start : end+1]])\n",
        "print('first token index:', start)\n",
        "print('last token index:', end)"
      ],
      "execution_count": null,
      "outputs": [
        {
          "output_type": "stream",
          "name": "stdout",
          "text": [
            "context: The university is the major seat of the Congregation of Holy Cross (albeit not its official headquarters, which are in Rome). Its main seminary, Moreau Seminary, is located on the campus across St. Joseph lake from the Main Building. Old College, the oldest building on campus and located near the shore of St. Mary lake, houses undergraduate seminarians. Retired priests and brothers reside in Fatima House (a former retreat center), Holy Cross House, as well as Columba Hall near the Grotto. The university through the Moreau Seminary has ties to theologian Frederick Buechner. While not Catholic, Buechner has praised writers from Notre Dame and Moreau Seminary created a Buechner Prize for Preaching.\n",
            "question: What is the primary seminary of the Congregation of the Holy Cross?\n",
            "answer label: Moreau Seminary\n",
            "processed answer decoded: moreau seminary\n",
            "processed answer token by token: ['more', '##au', 'seminary']\n",
            "first token index: 44\n",
            "last token index: 46\n"
          ]
        }
      ]
    },
    {
      "cell_type": "markdown",
      "metadata": {
        "id": "18HzpuwUmpXH"
      },
      "source": [
        "### Training on SQuAD"
      ]
    },
    {
      "cell_type": "code",
      "metadata": {
        "colab": {
          "base_uri": "https://localhost:8080/"
        },
        "id": "pAyte7DA9L5E",
        "outputId": "7b8c29e1-cdb2-424f-ea75-00a55b55225c"
      },
      "source": [
        "args = TrainingArguments(\n",
        "    'qa_domain_adapted',\n",
        "    evaluation_strategy = 'steps',\n",
        "    learning_rate = 2e-5,\n",
        "    per_device_train_batch_size = 16,\n",
        "    per_device_eval_batch_size = 16,\n",
        "    num_train_epochs = 9,\n",
        "    report_to = 'all'\n",
        ")\n",
        "\n",
        "trainer = Trainer(\n",
        "    qa_model,\n",
        "    args,\n",
        "    train_dataset = tokenized_datasets['train'],\n",
        "    eval_dataset = tokenized_datasets['validation'],\n",
        "    data_collator = default_data_collator,\n",
        "    tokenizer = tokenizer\n",
        ")"
      ],
      "execution_count": null,
      "outputs": [
        {
          "output_type": "stream",
          "name": "stderr",
          "text": [
            "using `logging_steps` to initialize `eval_steps` to 500\n",
            "PyTorch: setting up devices\n"
          ]
        }
      ]
    },
    {
      "cell_type": "code",
      "metadata": {
        "id": "5rS53QSiJMYF"
      },
      "source": [
        "\"\"\"\n",
        "TRAIN MODEL\n",
        "You can either train the model yourself (took me about 3 hours on the Colab Pro GPU runtime)\n",
        "or load my trained model by running this cell as is (i.e., with !wget line uncommented).\n",
        "We have learned that 'qa_domain_adapted/checkpoint-24000' is the optimal checkpoint.\n",
        "\"\"\"\n",
        "\n",
        "trainer.train()\n",
        "trainer.save_model('qa_tuned')"
      ],
      "execution_count": 23,
      "outputs": []
    },
    {
      "cell_type": "code",
      "metadata": {
        "id": "whJc8mPQEkko"
      },
      "source": [
        "# 'qa_domain_adapted/checkpoint-24000' is the optimal checkpoint\n",
        "\n",
        "qa_untuned_pipe = pipeline('question-answering', model='distilbert-base-uncased-distilled-squad', tokenizer=tokenizer)\n",
        "qa_tuned_pipe = pipeline('question-answering', model='checkpoint-24000', tokenizer=tokenizer)"
      ],
      "execution_count": null,
      "outputs": []
    },
    {
      "cell_type": "code",
      "metadata": {
        "id": "6yfWA-x0Ledo"
      },
      "source": [
        "\"\"\"\n",
        "Create questions to run through the off-the-shelf distilbert QA and then through our tuned QA\n",
        "\"\"\"\n",
        "# We're looking for 'fuel grade' for an answer.\n",
        "question1 = 'What does the Thrust Triangle color indicate?'\n",
        "target1 = 'fuel grade'\n",
        "passage1 = 'd. Thrust Triangle. Cards with a thrust triangle (H2) are capable of moving Stacks. The number on a thrust triangle’s left side is its base thrust and the number on its right side is its fuel consumption. The color of the triangle indicates its fuel grade (F4b). If it has a flame icon at its apex, it can afterburn (H3a). If instead of a dot icon, it has a push icon in its lower center, it is pushable (H3d).'\n",
        "\n",
        "# Answer is 'blue'.\n",
        "question2 = 'What color is the sky?'\n",
        "target2 = 'blue'\n",
        "passage2 = 'The sky is blue.'\n",
        "\n",
        "# Answer is 'gold'.\n",
        "question3 = 'What color of chit does an isotope thruster use?'\n",
        "target3 = 'gold'\n",
        "passage3 = 'c. Thruster Fuel Compatibility. A Spacecraft may be fueled with any type of Fuel, but it cannot expend Fuel in a Burn or use an afterburner (H3a) if the color of the activated thrust triangle is of a higher grade than the color of the Wet Mass Chit. • Assuming a Spacecraft must expend Fuel, a dirt thruster can be activated with any color Wet Mass Chit, a Water Thruster can be activated with a blue or gold Wet Mass Chit, and an Isotope Thruster can only activate with a gold Wet Mass Chit.'\n",
        "\n",
        "# Answer is '-6'. This one seems quite difficult.\n",
        "question4a = 'What thrust modifier do cards in the neptune zone receive if they get a push?'\n",
        "question4b = 'What size is the thrust modifier cards in the neptune zone receive if they get a push?'\n",
        "target4 = '-6'\n",
        "passage4 = 'c. Solar-Power Modifier. If the thruster or any card in its support chain has the solar-powered icon ( J5b), increase or decrease the net thrust depending on which Heliocentric Zone it’s in (-5 to +2, as indicated on the map). • Multiple Solar Modifiers. This modifier only applies once regardless of the amount of solar icons in the support chain. • Neptune Solar. Solar-Powered Cards are non-operational in the Neptune J Heliocentric Zone (B7g), unless they get a push (next bullet). If so, thrust has a -6 modifier.'\n",
        "\n",
        "question5 = 'What type of fuel can a dirt thruster use?'\n",
        "target5 = 'any type'\n",
        "passage5 = ' f. Fuel Grade Requirement. Thrust triangles are color-coded with a fuel grade (F4b). The Fuel expended when a Burn is used must be the same grade of Fuel or better (e.g., a dirt thruster can use any type of Fuel whilst a water Rocket may only use water or isotope Fuel).'"
      ],
      "execution_count": 24,
      "outputs": []
    },
    {
      "cell_type": "code",
      "metadata": {
        "id": "HBJ6nVpBZVn-"
      },
      "source": [
        "\"\"\"\n",
        "This function takes a question, an iterable of contexts through, and a question-answering pipeline.\n",
        "The pipeline poses the question to each context, and returns the answer with the highest confidence score, \n",
        "along with that score and the context where that answer was found.\n",
        "\"\"\"\n",
        "\n",
        "def question_all(question, contexts, pipeline):\n",
        "  top_score = 0.0\n",
        "  best_answer = ''\n",
        "  best_context = ''\n",
        "  for context in contexts:\n",
        "    answer = pipeline(question, context)\n",
        "    if answer['score'] > top_score:\n",
        "      top_score = answer['score']\n",
        "      best_answer = answer['answer']\n",
        "      best_context = context\n",
        "\n",
        "  return best_answer, top_score, best_context"
      ],
      "execution_count": 42,
      "outputs": []
    },
    {
      "cell_type": "code",
      "metadata": {
        "colab": {
          "base_uri": "https://localhost:8080/"
        },
        "id": "6TLIrhzNaYzO",
        "outputId": "8b06dc44-2e17-4702-9aa2-e16c50da9cc3"
      },
      "source": [
        "test_combos = [\n",
        "               (question1, target1, passage1, qa_untuned_pipe, 'untuned'),\n",
        "               (question1, target1, passage1, qa_tuned_pipe, 'tuned'),\n",
        "               (question2, target2, passage2, qa_untuned_pipe, 'untuned'),\n",
        "               (question2, target2, passage2, qa_tuned_pipe, 'tuned'),\n",
        "               (question3, target3, passage3, qa_untuned_pipe, 'untuned'),\n",
        "               (question3, target3, passage3, qa_tuned_pipe, 'tuned'),\n",
        "               (question4a, target4, passage4, qa_untuned_pipe, 'untuned'),\n",
        "               (question4a, target4, passage4, qa_tuned_pipe, 'tuned'),\n",
        "               (question4b, target4, passage4, qa_untuned_pipe, 'untuned'),\n",
        "               (question4b, target4, passage4, qa_tuned_pipe, 'tuned'),\n",
        "               (question5, target5, passage5, qa_untuned_pipe, 'untuned'),\n",
        "               (question5, target5, passage5, qa_tuned_pipe, 'tuned')\n",
        "]\n",
        "\n",
        "prev_question = ''\n",
        "for question, target, context, pipeline, label in test_combos:\n",
        "  answer, score, _ = question_all(question, [context], pipeline)\n",
        "  if question != prev_question:\n",
        "    print()\n",
        "    print(f'{question}  CORRECT ANS: {target}')\n",
        "    print(context)\n",
        "    prev_question = question\n",
        "  print(f'{label} answer: {answer}  --> {score:.2%}')"
      ],
      "execution_count": 41,
      "outputs": [
        {
          "output_type": "stream",
          "name": "stdout",
          "text": [
            "\n",
            "What does the Thrust Triangle color indicate?  CORRECT ANS: fuel grade\n",
            "d. Thrust Triangle. Cards with a thrust triangle (H2) are capable of moving Stacks. The number on a thrust triangle’s left side is its base thrust and the number on its right side is its fuel consumption. The color of the triangle indicates its fuel grade (F4b). If it has a flame icon at its apex, it can afterburn (H3a). If instead of a dot icon, it has a push icon in its lower center, it is pushable (H3d).\n",
            "untuned answer: fuel grade  --> 31.22%\n",
            "tuned answer: fuel grade  --> 56.46%\n",
            "\n",
            "What color is the sky?  CORRECT ANS: blue\n",
            "The sky is blue.\n",
            "untuned answer: blue  --> 96.17%\n",
            "tuned answer: blue  --> 99.83%\n",
            "\n",
            "What color of chit does an isotope thruster use?  CORRECT ANS: gold\n",
            "c. Thruster Fuel Compatibility. A Spacecraft may be fueled with any type of Fuel, but it cannot expend Fuel in a Burn or use an afterburner (H3a) if the color of the activated thrust triangle is of a higher grade than the color of the Wet Mass Chit. • Assuming a Spacecraft must expend Fuel, a dirt thruster can be activated with any color Wet Mass Chit, a Water Thruster can be activated with a blue or gold Wet Mass Chit, and an Isotope Thruster can only activate with a gold Wet Mass Chit.\n",
            "untuned answer: gold  --> 85.19%\n",
            "tuned answer: gold  --> 86.41%\n",
            "\n",
            "What thrust modifier do cards in the neptune zone receive if they get a push?  CORRECT ANS: -6\n",
            "c. Solar-Power Modifier. If the thruster or any card in its support chain has the solar-powered icon ( J5b), increase or decrease the net thrust depending on which Heliocentric Zone it’s in (-5 to +2, as indicated on the map). • Multiple Solar Modifiers. This modifier only applies once regardless of the amount of solar icons in the support chain. • Neptune Solar. Solar-Powered Cards are non-operational in the Neptune J Heliocentric Zone (B7g), unless they get a push (next bullet). If so, thrust has a -6 modifier.\n",
            "untuned answer: a -6  --> 51.42%\n",
            "tuned answer: -6  --> 38.49%\n",
            "\n",
            "What size is the thrust modifier cards in the neptune zone receive if they get a push?  CORRECT ANS: -6\n",
            "c. Solar-Power Modifier. If the thruster or any card in its support chain has the solar-powered icon ( J5b), increase or decrease the net thrust depending on which Heliocentric Zone it’s in (-5 to +2, as indicated on the map). • Multiple Solar Modifiers. This modifier only applies once regardless of the amount of solar icons in the support chain. • Neptune Solar. Solar-Powered Cards are non-operational in the Neptune J Heliocentric Zone (B7g), unless they get a push (next bullet). If so, thrust has a -6 modifier.\n",
            "untuned answer: a -6  --> 68.93%\n",
            "tuned answer: a -6  --> 38.31%\n",
            "\n",
            "What type of fuel can a dirt thruster use?  CORRECT ANS: any type\n",
            " f. Fuel Grade Requirement. Thrust triangles are color-coded with a fuel grade (F4b). The Fuel expended when a Burn is used must be the same grade of Fuel or better (e.g., a dirt thruster can use any type of Fuel whilst a water Rocket may only use water or isotope Fuel).\n",
            "untuned answer: any type of Fuel  --> 53.61%\n",
            "tuned answer: Fuel  --> 22.89%\n"
          ]
        }
      ]
    },
    {
      "cell_type": "markdown",
      "metadata": {
        "id": "NDcvyVngAt7M"
      },
      "source": [
        "### Crux of It\n",
        "The performance of the question-answering DistilBERT model tuned on our game rules versus the off-the-shelf version is the fundamental issue here. Based on the handful of one-off comparisons above, we see that there is reason to be optimistic. Plenty of follow-up questions now arise...\n",
        "- Why is the domain-adapted model more confident with the color of the sky? (question 2)\n",
        "- Why the disparity between \"What thrust modifer...\" and \"What size is the thrust modifier...\"? (4th and 5th questions)\n",
        "- Why is the domain-adpated model so abyssmal with a \"what type of\" question? (last question)\n",
        "\n",
        "At the end of the day, I think it would be worth putting a UI together and putting it in front of players for further research. For now, the rest of this notebook details how a player question is processed."
      ]
    },
    {
      "cell_type": "markdown",
      "metadata": {
        "id": "YaFMYyxBv9gT"
      },
      "source": [
        "## Identifying Keywords Using spaCy\n",
        "We want to run a user's question by multiple relevant paragraphs from the game rules and return the answer with the most confidence. We don't want to run it by *all* the paragraphs because it would take too long and, more importantly, the quirky question-answering model would find some irrelevant paragraph arbitrarily to feel very confident about. We only want to look for answers in the paragrphs with the most similarity to the question, i.e., those that share the most keywords."
      ]
    },
    {
      "cell_type": "code",
      "metadata": {
        "colab": {
          "base_uri": "https://localhost:8080/"
        },
        "id": "JtKauMlKh5PU",
        "outputId": "73834053-695a-4f40-e52e-d25022ae5a1e"
      },
      "source": [
        "\"\"\"\n",
        "If you're curious, you can run a question through the entire rules corpus to see what \"brilliant\" answer our qa model returns.\n",
        "\"\"\"\n",
        "\n",
        "answer, score, context = question_all('What color is Mars?', f_headsMerged, qa_tuned_pipe)\n",
        "print(answer)\n",
        "print(score)\n",
        "print(context)\n",
        "\n",
        "# With \"What color is Mars?\", the off-the-shelf DistilBERT chooses 'red' correctly, but it does so from a passage that does not mention Mars.\n",
        "# I think it already knew the answer and just needed a sentence that contained 'red' somewhere.\n",
        "# Of course, our tuned qa model doesn't have a clue (though very confident!)."
      ],
      "execution_count": null,
      "outputs": [
        {
          "output_type": "stream",
          "name": "stdout",
          "text": [
            "yellow\n",
            "0.9988766312599182\n",
            "f. Buggy Road is a route with a dashed yellow line. It is used during buggy prospecting, but can also be used to move Crew (H9a).\n"
          ]
        }
      ]
    },
    {
      "cell_type": "code",
      "metadata": {
        "id": "tB221Ec3pSIm"
      },
      "source": [
        "\"\"\"\n",
        "Enter spaCy...\n",
        "\"\"\"\n",
        "\n",
        "spacy_model = spacy.load('en_core_web_sm')"
      ],
      "execution_count": 27,
      "outputs": []
    },
    {
      "cell_type": "code",
      "metadata": {
        "colab": {
          "base_uri": "https://localhost:8080/"
        },
        "id": "IsGVb4kwPAUw",
        "outputId": "8bdd6c16-9b3c-402e-a1ed-2ce390ce03e0"
      },
      "source": [
        "\"\"\"\n",
        "Need a function to tokenize each rules paragraph (plus remove stop words and non-alpha characters).\n",
        "\"\"\"\n",
        "\n",
        "def simple_tokens(paragraphs, spacy_model):\n",
        "  paragraphs_tokenized = []\n",
        "  for p in paragraphs:\n",
        "    tokens = spacy_model(p)\n",
        "    paragraphs_tokenized.append([t.text.lower() for t in tokens if not (t.is_stop or re.match(r'.*[\\W\\d]+', t.text))])\n",
        "  return paragraphs_tokenized\n",
        "\n",
        "test_paragraphs = [\n",
        "             'I love new york. You hardly love it. yb5 [21]',\n",
        "             'The dog and the cat had tea in heaven?',\n",
        "             'The last cat haven between new york and heaven! New York?'\n",
        "]\n",
        "\n",
        "test_tokens = simple_tokens(test_paragraphs, spacy_model)\n",
        "test_tokens"
      ],
      "execution_count": 28,
      "outputs": [
        {
          "output_type": "execute_result",
          "data": {
            "text/plain": [
              "[['love', 'new', 'york', 'hardly', 'love'],\n",
              " ['dog', 'cat', 'tea', 'heaven'],\n",
              " ['cat', 'haven', 'new', 'york', 'heaven', 'new', 'york']]"
            ]
          },
          "metadata": {},
          "execution_count": 28
        }
      ]
    },
    {
      "cell_type": "code",
      "metadata": {
        "colab": {
          "base_uri": "https://localhost:8080/"
        },
        "id": "nmffYQEJteYX",
        "outputId": "05136c5e-185f-46b2-c81e-d01e3deee6cb"
      },
      "source": [
        "\"\"\"\n",
        "Need a function to map each word to a list of indices of rules paragraphs that contain that word\n",
        "\"\"\"\n",
        "\n",
        "def keyword_map(tokens_list):\n",
        "  keyword_dict = {}\n",
        "  for idx, tokens in enumerate(tokens_list):\n",
        "    for t in tokens:\n",
        "      if t in keyword_dict:\n",
        "        keyword_dict[t].add(idx)\n",
        "      else:\n",
        "        keyword_dict[t] = set([idx])\n",
        "  return keyword_dict\n",
        "\n",
        "test_mapping = keyword_map(test_tokens)\n",
        "test_mapping"
      ],
      "execution_count": 29,
      "outputs": [
        {
          "output_type": "execute_result",
          "data": {
            "text/plain": [
              "{'cat': {1, 2},\n",
              " 'dog': {1},\n",
              " 'hardly': {0},\n",
              " 'haven': {2},\n",
              " 'heaven': {1, 2},\n",
              " 'love': {0},\n",
              " 'new': {0, 2},\n",
              " 'tea': {1},\n",
              " 'york': {0, 2}}"
            ]
          },
          "metadata": {},
          "execution_count": 29
        }
      ]
    },
    {
      "cell_type": "code",
      "metadata": {
        "colab": {
          "base_uri": "https://localhost:8080/"
        },
        "id": "ssJzr0tEeNQO",
        "outputId": "cce01937-0164-49ae-c3e8-43c965cb7b43"
      },
      "source": [
        "\"\"\"\n",
        "Create the keyword map for our game rules\n",
        "\"\"\"\n",
        "\n",
        "rules_tokens = simple_tokens(f_headsMerged, spacy_model)\n",
        "keyword_dict = keyword_map(rules_tokens)\n",
        "print(f'# of keywords {len(keyword_dict)}')"
      ],
      "execution_count": 31,
      "outputs": [
        {
          "output_type": "stream",
          "name": "stdout",
          "text": [
            "# of keywords 2266\n"
          ]
        }
      ]
    },
    {
      "cell_type": "code",
      "metadata": {
        "colab": {
          "base_uri": "https://localhost:8080/"
        },
        "id": "dYFxv6aT2JQh",
        "outputId": "9e253414-25b5-4baf-b00f-c422b40ad22f"
      },
      "source": [
        "\"\"\"\n",
        "Sanity check, keywords look appropriately captured in dictionary\n",
        "\"\"\"\n",
        "\n",
        "for k,v in [(k,v) for k,v in keyword_dict.items()][40:60]:\n",
        "  print(f'{k}: {v}')"
      ],
      "execution_count": 32,
      "outputs": [
        {
          "output_type": "stream",
          "name": "stdout",
          "text": [
            "fuel: {1, 15, 17, 530, 531, 536, 537, 26, 538, 539, 38, 40, 46, 567, 568, 57, 586, 588, 589, 590, 92, 95, 96, 97, 98, 607, 609, 611, 104, 617, 107, 111, 113, 114, 115, 116, 119, 120, 123, 126, 128, 130, 131, 132, 133, 134, 135, 136, 139, 141, 142, 144, 146, 147, 658, 150, 151, 152, 662, 154, 157, 158, 159, 672, 694, 695, 696, 186, 187, 701, 192, 193, 195, 708, 709, 198, 199, 200, 710, 716, 206, 208, 721, 722, 211, 723, 724, 728, 218, 730, 220, 221, 222, 732, 224, 225, 738, 228, 741, 230, 743, 744, 233, 234, 235, 746, 237, 238, 747, 753, 765, 766, 767, 257, 769, 259, 261, 262, 788, 794, 303, 305, 310, 311, 312, 397, 401}\n",
            "tanks: {1, 769, 160, 303, 304, 306, 310, 567, 447, 708, 722, 723, 218, 220, 96, 99, 621, 112, 115, 243, 766, 767}\n",
            "fts: {1, 130, 134, 135, 520, 137, 776, 139, 140, 141, 145, 146, 148, 279, 152, 154, 541, 159, 672, 675, 681, 298, 299, 555, 173, 560, 305, 50, 439, 567, 187, 188, 706, 707, 709, 586, 587, 588, 714, 716, 80, 81, 82, 721, 86, 730, 92, 607, 609, 357, 615, 104, 108, 112, 242, 115, 243, 117, 118, 119, 754, 121, 123, 764, 765}\n",
            "fly: {736, 1, 619, 737}\n",
            "promising: {1}\n",
            "industrial: {1, 347}\n",
            "science: {1, 676}\n",
            "sites: {1, 5, 522, 653, 526, 404, 667, 412, 32, 547, 679, 168, 299, 430, 50, 325, 328, 329, 335, 733, 232, 755, 756, 505}\n",
            "planets: {32, 1, 611, 755, 701}\n",
            "asteroids: {32, 1, 770, 331, 754, 756, 247}\n",
            "etc: {1, 802, 517, 520, 366, 656, 214, 700}\n",
            "prospecting: {1, 392, 265, 522, 650, 535, 668, 32, 806, 41, 681, 319, 449, 322, 581, 327, 328, 332, 333, 335, 336, 337, 605, 753, 371, 373, 506}\n",
            "succeeds: {1, 334}\n",
            "claim: {1, 790, 155, 542, 543, 544, 550, 167, 168, 169, 170, 682, 300, 807, 174, 175, 430, 439, 185, 315, 573, 319, 575, 452, 325, 580, 581, 708, 331, 334, 719, 337, 339, 619, 505}\n",
            "upgraded: {1}\n",
            "factory: {1, 14, 531, 20, 32, 34, 35, 550, 560, 573, 575, 576, 577, 578, 580, 581, 587, 77, 598, 607, 103, 104, 619, 633, 644, 646, 144, 672, 673, 164, 167, 682, 175, 693, 185, 193, 705, 203, 720, 729, 232, 745, 236, 239, 240, 241, 242, 243, 753, 754, 249, 254, 773, 776, 290, 292, 300, 304, 305, 306, 307, 308, 309, 339, 341, 342, 344, 345, 351, 353, 355, 357, 373, 375, 427, 429, 439, 450, 452, 455, 464, 493, 494, 503, 507}\n",
            "produce: {352, 1, 674, 705, 737, 776, 298, 494, 305, 306, 342, 729, 765}\n",
            "useful: {1, 554, 688, 632, 29, 31}\n",
            "new: {1, 482, 675, 484, 804, 805, 266, 619, 747, 688, 145, 146, 211, 339, 499, 438, 472, 188}\n",
            "equipment: {1, 370}\n"
          ]
        }
      ]
    },
    {
      "cell_type": "code",
      "metadata": {
        "colab": {
          "base_uri": "https://localhost:8080/",
          "height": 503
        },
        "id": "TIhZxQP_3ZcK",
        "outputId": "714cf033-3b52-476d-b8d4-8406f8bf2079"
      },
      "source": [
        "\"\"\"\n",
        "...and the great majority of keywords appear in less than 10 paragraphs.\n",
        "\"\"\"\n",
        "\n",
        "counts = []\n",
        "for _, v in keyword_dict.items():\n",
        "  counts.append(len(v))\n",
        "\n",
        "plt.hist(counts, bins=40)"
      ],
      "execution_count": 33,
      "outputs": [
        {
          "output_type": "execute_result",
          "data": {
            "text/plain": [
              "(array([1.671e+03, 2.150e+02, 1.070e+02, 6.700e+01, 4.300e+01, 3.000e+01,\n",
              "        3.600e+01, 1.800e+01, 1.000e+01, 1.700e+01, 4.000e+00, 8.000e+00,\n",
              "        2.000e+00, 8.000e+00, 2.000e+00, 3.000e+00, 2.000e+00, 1.000e+00,\n",
              "        0.000e+00, 1.000e+00, 5.000e+00, 1.000e+00, 1.000e+00, 0.000e+00,\n",
              "        1.000e+00, 1.000e+00, 4.000e+00, 1.000e+00, 0.000e+00, 1.000e+00,\n",
              "        1.000e+00, 0.000e+00, 0.000e+00, 0.000e+00, 0.000e+00, 0.000e+00,\n",
              "        3.000e+00, 0.000e+00, 0.000e+00, 2.000e+00]),\n",
              " array([  1.  ,   4.15,   7.3 ,  10.45,  13.6 ,  16.75,  19.9 ,  23.05,\n",
              "         26.2 ,  29.35,  32.5 ,  35.65,  38.8 ,  41.95,  45.1 ,  48.25,\n",
              "         51.4 ,  54.55,  57.7 ,  60.85,  64.  ,  67.15,  70.3 ,  73.45,\n",
              "         76.6 ,  79.75,  82.9 ,  86.05,  89.2 ,  92.35,  95.5 ,  98.65,\n",
              "        101.8 , 104.95, 108.1 , 111.25, 114.4 , 117.55, 120.7 , 123.85,\n",
              "        127.  ]),\n",
              " <a list of 40 Patch objects>)"
            ]
          },
          "metadata": {},
          "execution_count": 33
        },
        {
          "output_type": "display_data",
          "data": {
            "image/png": "[encoded data removed]",
            "text/plain": [
              "<Figure size 432x288 with 1 Axes>"
            ]
          },
          "metadata": {
            "needs_background": "light"
          }
        }
      ]
    },
    {
      "cell_type": "code",
      "metadata": {
        "id": "jPzg5Sps4kQ3"
      },
      "source": [
        "\"\"\"\n",
        "Function that returns paragraphs identified by their index and ordered by the contained number of question keywords.\n",
        "top_paragraphs is what we need to answer the user's question, but return sorted_paragraph_tuples is returned as well for debugging.\n",
        "\"\"\"\n",
        "\n",
        "def get_context_candidates(sentence, keyword_dict, spacy_model):\n",
        "  words = simple_tokens([sentence], spacy_model)\n",
        "\n",
        "  paragraph_occurences = {}\n",
        "  for w in words[0]:\n",
        "    if w in keyword_dict:\n",
        "      for idx in keyword_dict[w]:\n",
        "        if idx in paragraph_occurences:\n",
        "          paragraph_occurences[idx] += 1\n",
        "        else:\n",
        "          paragraph_occurences[idx] = 1\n",
        "  sorted_paragraphs_tuples = sorted(paragraph_occurences.items(), key=lambda item: item[1], reverse=True)\n",
        "  min_hits = sorted_paragraphs_tuples[0][1] - 1          # Only want contexts that contain most hits with question\n",
        "  top_paragraphs = [p[0] for p in sorted_paragraphs_tuples if p[1] >= min_hits]\n",
        "  return top_paragraphs, sorted_paragraphs_tuples"
      ],
      "execution_count": 61,
      "outputs": []
    },
    {
      "cell_type": "code",
      "metadata": {
        "colab": {
          "base_uri": "https://localhost:8080/"
        },
        "id": "UJxB-NcH98rw",
        "outputId": "bf629335-6634-47b2-d6d8-48f4f91b3764"
      },
      "source": [
        "top_paragraphs, sorted_paragraphs_tuples = get_context_candidates(\"What is a card's thrust triangle?\", keyword_dict, spacy_model)\n",
        "print(sorted_paragraphs_tuples)\n",
        "print(top_paragraphs)"
      ],
      "execution_count": 62,
      "outputs": [
        {
          "output_type": "stream",
          "name": "stdout",
          "text": [
            "[(18, 3), (23, 3), (29, 3), (554, 3), (107, 3), (190, 3), (509, 3), (528, 2), (670, 2), (201, 2), (220, 2), (267, 2), (371, 2), (17, 2), (530, 2), (96, 2), (133, 2), (182, 2), (194, 2), (195, 2), (203, 2), (713, 2), (206, 2), (729, 2), (218, 2), (221, 2), (238, 2), (256, 2), (261, 2), (372, 2), (393, 2), (397, 2), (399, 2), (400, 2), (401, 2), (444, 2), (514, 1), (7, 1), (14, 1), (19, 1), (21, 1), (22, 1), (24, 1), (533, 1), (534, 1), (537, 1), (544, 1), (549, 1), (555, 1), (561, 1), (53, 1), (565, 1), (62, 1), (77, 1), (591, 1), (82, 1), (599, 1), (605, 1), (95, 1), (615, 1), (106, 1), (108, 1), (618, 1), (110, 1), (619, 1), (622, 1), (628, 1), (629, 1), (651, 1), (652, 1), (144, 1), (656, 1), (163, 1), (688, 1), (697, 1), (186, 1), (705, 1), (708, 1), (722, 1), (736, 1), (737, 1), (244, 1), (245, 1), (762, 1), (767, 1), (775, 1), (266, 1), (782, 1), (276, 1), (280, 1), (282, 1), (283, 1), (284, 1), (285, 1), (286, 1), (287, 1), (288, 1), (290, 1), (293, 1), (296, 1), (297, 1), (299, 1), (313, 1), (314, 1), (317, 1), (318, 1), (319, 1), (321, 1), (327, 1), (328, 1), (333, 1), (339, 1), (346, 1), (350, 1), (351, 1), (352, 1), (353, 1), (354, 1), (357, 1), (360, 1), (364, 1), (365, 1), (366, 1), (367, 1), (373, 1), (374, 1), (376, 1), (377, 1), (378, 1), (382, 1), (383, 1), (385, 1), (386, 1), (389, 1), (406, 1), (409, 1), (410, 1), (418, 1), (420, 1), (421, 1), (422, 1), (434, 1), (438, 1), (456, 1), (492, 1), (494, 1), (495, 1), (507, 1), (26, 1), (40, 1), (43, 1), (56, 1), (600, 1), (640, 1), (658, 1), (150, 1), (183, 1), (193, 1), (198, 1), (199, 1), (200, 1), (202, 1), (711, 1), (207, 1), (208, 1), (721, 1), (723, 1), (726, 1), (727, 1), (219, 1), (226, 1), (227, 1), (738, 1), (741, 1), (230, 1), (742, 1), (743, 1), (234, 1), (747, 1), (748, 1), (237, 1), (239, 1), (749, 1), (751, 1), (242, 1), (243, 1), (752, 1), (753, 1), (755, 1), (758, 1), (262, 1), (790, 1), (791, 1), (797, 1), (304, 1), (370, 1), (402, 1), (445, 1), (604, 1)]\n",
            "[18, 23, 29, 554, 107, 190, 509, 528, 670, 201, 220, 267, 371, 17, 530, 96, 133, 182, 194, 195, 203, 713, 206, 729, 218, 221, 238, 256, 261, 372, 393, 397, 399, 400, 401, 444]\n"
          ]
        }
      ]
    },
    {
      "cell_type": "markdown",
      "metadata": {
        "id": "GZCmHf3_52ql"
      },
      "source": [
        "## Putting It All Together\n",
        "We have several examples below (see test_combos) and see that the whole thing doesn't quite work yet. Some questions yield resonable answers, but most do not, neither for our tuned question-answering model nor for the off-the-shelf SQaAD v1 model.\n",
        "\n",
        "I think there is much more to explore, which I look forward to continuing. The biggest next step is to train on SQaAD v2 and teach the model to identify a lack of answer."
      ]
    },
    {
      "cell_type": "code",
      "metadata": {
        "id": "K5H0BrVrv8bU",
        "colab": {
          "base_uri": "https://localhost:8080/"
        },
        "outputId": "62ffc1aa-d503-460b-cfc4-c85bcafea0c0"
      },
      "source": [
        "question = 'What size is the thrust modifier cards in the neptune zone receive if they get a push?'\n",
        "context_idxs, _ = get_context_candidates(question, keyword_dict, spacy_model)\n",
        "contexts = [f_headsMerged[i] for i in context_idxs]\n",
        "answer, score, context = question_all(question1, contexts, qa_untuned_pipe)\n",
        "print(answer)\n",
        "print(score)\n",
        "print(context)"
      ],
      "execution_count": 64,
      "outputs": [
        {
          "output_type": "stream",
          "name": "stdout",
          "text": [
            "modified per H3c\n",
            "0.18258115649223328\n",
            "Solar-Powered Card is one with the solar icon (B2e). If a thruster or thruster support is solar-powered, the thrust is modified per H3c. Solar-powered cards are non-operational in the Neptune J Heliocentric Zone (labeled \"NO SOLAR POWER\") unless getting a push from a Powersat (-6 thrust). Solar-powered cards cannot be used in the Jupiter zone or beyond when anchoring a Bernal (2A5), unless getting a push from a Powersat. \n"
          ]
        }
      ]
    },
    {
      "cell_type": "code",
      "metadata": {
        "colab": {
          "base_uri": "https://localhost:8080/"
        },
        "id": "SuILMk6ObrSh",
        "outputId": "efbe3100-29ef-4f8a-c116-5a8770724076"
      },
      "source": [
        "test_combos = [\n",
        "               (question1, target1, qa_untuned_pipe, 'untuned'),\n",
        "               (question1, target1, qa_tuned_pipe, 'tuned'),\n",
        "               (question2, target2, qa_untuned_pipe, 'untuned'),\n",
        "               (question2, target2, qa_tuned_pipe, 'tuned'),\n",
        "               (question3, target3, qa_untuned_pipe, 'untuned'),\n",
        "               (question3, target3, qa_tuned_pipe, 'tuned'),\n",
        "               (question4a, target4, qa_untuned_pipe, 'untuned'),\n",
        "               (question4a, target4, qa_tuned_pipe, 'tuned'),\n",
        "               (question4b, target4, qa_untuned_pipe, 'untuned'),\n",
        "               (question4b, target4, qa_tuned_pipe, 'tuned'),\n",
        "               (question5, target5, qa_untuned_pipe, 'untuned'),\n",
        "               (question5, target5, qa_tuned_pipe, 'tuned')\n",
        "]\n",
        "\n",
        "prev_question = ''\n",
        "for question, target, pipeline, label in test_combos:\n",
        "  context_idxs, _ = get_context_candidates(question, keyword_dict, spacy_model)\n",
        "  contexts = [f_headsMerged[i] for i in context_idxs]\n",
        "  answer, score, context = question_all(question, contexts, pipeline)\n",
        "  if question != prev_question:\n",
        "    print()\n",
        "    print(f'{question}  CORRECT ANS: {target}')\n",
        "    prev_question = question\n",
        "  print(f'{label} answer: {answer}  --> {score:.2%}')\n",
        "  print(f'  {context}')"
      ],
      "execution_count": 63,
      "outputs": [
        {
          "output_type": "stream",
          "name": "stdout",
          "text": [
            "\n",
            "What does the Thrust Triangle color indicate?  CORRECT ANS: fuel grade\n",
            "untuned answer: movement-modifying supports  --> 48.99%\n",
            "  i. Wrench Icons indicate movement-modifying supports ( J5). These modifiers apply only if the card is part of the support chain (J1c) for an activated thrust triangle.\n",
            "tuned answer: movement-modifying supports  --> 65.14%\n",
            "  i. Wrench Icons indicate movement-modifying supports ( J5). These modifiers apply only if the card is part of the support chain (J1c) for an activated thrust triangle.\n",
            "\n",
            "What color is the sky?  CORRECT ANS: blue\n",
            "untuned answer: F4b  --> 88.43%\n",
            "  d. Fueling & Wet Mass Chit. When first created, a Rocket’s tanks are empty. Indicate this by selecting a Wet Mass Chit of the same color (F4b) as the Spacecraft's thrust triangle and placing it on top of your Dry Mass Chit. If you wish to immediately add Fuel to your Rocket, either by cargo transfer (G1) or site refuel (I5), move the Wet Mass Chit to the right per (F3b)\n",
            "tuned answer: gray  --> 85.20%\n",
            "   PLAYER GRAY: There are no gray components provided for Norse Astronauts/SpaceX. If you wish to play with one of these Factions, you must use components from an unused Faction color. These components are considered gray in color for all purposes, including starting delegate (O1b). [C2]\n",
            "\n",
            "What color of chit does an isotope thruster use?  CORRECT ANS: gold\n",
            "untuned answer: gold  --> 85.19%\n",
            "  c. Thruster Fuel Compatibility. A Spacecraft may be fueled with any type of Fuel, but it cannot expend Fuel in a Burn or use an afterburner (H3a) if the color of the activated thrust triangle is of a higher grade than the color of the Wet Mass Chit. • Assuming a Spacecraft must expend Fuel, a dirt thruster can be activated with any color Wet Mass Chit, a Water Thruster can be activated with a blue or gold Wet Mass Chit, and an Isotope Thruster can only activate with a gold Wet Mass Chit.\n",
            "tuned answer: gold  --> 86.41%\n",
            "  c. Thruster Fuel Compatibility. A Spacecraft may be fueled with any type of Fuel, but it cannot expend Fuel in a Burn or use an afterburner (H3a) if the color of the activated thrust triangle is of a higher grade than the color of the Wet Mass Chit. • Assuming a Spacecraft must expend Fuel, a dirt thruster can be activated with any color Wet Mass Chit, a Water Thruster can be activated with a blue or gold Wet Mass Chit, and an Isotope Thruster can only activate with a gold Wet Mass Chit.\n",
            "\n",
            "What thrust modifier do cards in the neptune zone receive if they get a push?  CORRECT ANS: -6\n",
            "untuned answer: a -6  --> 51.42%\n",
            "  c. Solar-Power Modifier. If the thruster or any card in its support chain has the solar-powered icon ( J5b), increase or decrease the net thrust depending on which Heliocentric Zone it’s in (-5 to +2, as indicated on the map). • Multiple Solar Modifiers. This modifier only applies once regardless of the amount of solar icons in the support chain. • Neptune Solar. Solar-Powered Cards are non-operational in the Neptune J Heliocentric Zone (B7g), unless they get a push (next bullet). If so, thrust has a -6 modifier.\n",
            "tuned answer: -6  --> 38.49%\n",
            "  c. Solar-Power Modifier. If the thruster or any card in its support chain has the solar-powered icon ( J5b), increase or decrease the net thrust depending on which Heliocentric Zone it’s in (-5 to +2, as indicated on the map). • Multiple Solar Modifiers. This modifier only applies once regardless of the amount of solar icons in the support chain. • Neptune Solar. Solar-Powered Cards are non-operational in the Neptune J Heliocentric Zone (B7g), unless they get a push (next bullet). If so, thrust has a -6 modifier.\n",
            "\n",
            "What size is the thrust modifier cards in the neptune zone receive if they get a push?  CORRECT ANS: -6\n",
            "untuned answer: 6  --> 87.30%\n",
            "  Solar-Powered Card is one with the solar icon (B2e). If a thruster or thruster support is solar-powered, the thrust is modified per H3c. Solar-powered cards are non-operational in the Neptune J Heliocentric Zone (labeled \"NO SOLAR POWER\") unless getting a push from a Powersat (-6 thrust). Solar-powered cards cannot be used in the Jupiter zone or beyond when anchoring a Bernal (2A5), unless getting a push from a Powersat. \n",
            "tuned answer: 6  --> 66.75%\n",
            "  Solar-Powered Card is one with the solar icon (B2e). If a thruster or thruster support is solar-powered, the thrust is modified per H3c. Solar-powered cards are non-operational in the Neptune J Heliocentric Zone (labeled \"NO SOLAR POWER\") unless getting a push from a Powersat (-6 thrust). Solar-powered cards cannot be used in the Jupiter zone or beyond when anchoring a Bernal (2A5), unless getting a push from a Powersat. \n",
            "\n",
            "What type of fuel can a dirt thruster use?  CORRECT ANS: any type\n",
            "untuned answer: any type of Fuel  --> 53.61%\n",
            "   f. Fuel Grade Requirement. Thrust triangles are color-coded with a fuel grade (F4b). The Fuel expended when a Burn is used must be the same grade of Fuel or better (e.g., a dirt thruster can use any type of Fuel whilst a water Rocket may only use water or isotope Fuel).\n",
            "tuned answer: Fuel  --> 45.62%\n",
            "  c. Thruster Fuel Compatibility. A Spacecraft may be fueled with any type of Fuel, but it cannot expend Fuel in a Burn or use an afterburner (H3a) if the color of the activated thrust triangle is of a higher grade than the color of the Wet Mass Chit. • Assuming a Spacecraft must expend Fuel, a dirt thruster can be activated with any color Wet Mass Chit, a Water Thruster can be activated with a blue or gold Wet Mass Chit, and an Isotope Thruster can only activate with a gold Wet Mass Chit.\n"
          ]
        }
      ]
    }
  ]
}